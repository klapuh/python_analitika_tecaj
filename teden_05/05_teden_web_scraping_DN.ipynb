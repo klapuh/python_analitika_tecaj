{
 "cells": [
  {
   "cell_type": "code",
   "execution_count": 35,
   "metadata": {},
   "outputs": [],
   "source": [
    "import numpy as np\n",
    "import pandas as pd\n",
    "import requests\n",
    "from bs4 import BeautifulSoup"
   ]
  },
  {
   "cell_type": "markdown",
   "metadata": {},
   "source": [
    "# Web Scraping"
   ]
  },
  {
   "cell_type": "markdown",
   "metadata": {},
   "source": [
    "- **Spletna stran:** https://en.wikipedia.org/wiki/List_of_countries_and_dependencies_by_population\n",
    "- **Tabela:** Sovereign states and dependencies by population        "
   ]
  },
  {
   "cell_type": "markdown",
   "metadata": {},
   "source": [
    "### Naloga\n",
    "\n",
    "Tabelo na zgornji strani pretvorite v urejen pandas dataframe, ki vsebuje naslednje stolpce (pozor na ustrezen tip in index):\n",
    "- Rank: (Index) - int\n",
    "- Country name: - object\n",
    "- Population - int\n",
    "- Date - Datetime\n",
    "- % of world population - int\n"
   ]
  },
  {
   "cell_type": "code",
   "execution_count": 36,
   "metadata": {},
   "outputs": [
    {
     "data": {
      "text/plain": [
       "2"
      ]
     },
     "execution_count": 36,
     "metadata": {},
     "output_type": "execute_result"
    }
   ],
   "source": [
    "#url = 'https://en.wikipedia.org/wiki/List_of_countries_and_dependencies_by_population'\n",
    "#r = requests.get(url)\n",
    "#r\n",
    "\n",
    "tables = pd.read_html('https://en.wikipedia.org/wiki/List_of_countries_and_dependencies_by_population')\n",
    "len(tables)"
   ]
  },
  {
   "cell_type": "code",
   "execution_count": 37,
   "metadata": {},
   "outputs": [],
   "source": [
    "banks = tables[0]"
   ]
  },
  {
   "cell_type": "code",
   "execution_count": 38,
   "metadata": {},
   "outputs": [
    {
     "name": "stdout",
     "output_type": "stream",
     "text": [
      "<class 'pandas.core.frame.DataFrame'>\n",
      "RangeIndex: 240 entries, 0 to 239\n",
      "Data columns (total 6 columns):\n",
      "Rank                               240 non-null object\n",
      "Country(or dependent territory)    240 non-null object\n",
      "Population                         240 non-null int64\n",
      "Date                               240 non-null object\n",
      "% of worldpopulation               240 non-null object\n",
      "Source                             240 non-null object\n",
      "dtypes: int64(1), object(5)\n",
      "memory usage: 11.3+ KB\n"
     ]
    }
   ],
   "source": [
    "banks.info()"
   ]
  },
  {
   "cell_type": "code",
   "execution_count": 39,
   "metadata": {},
   "outputs": [
    {
     "data": {
      "text/html": [
       "<div>\n",
       "<style scoped>\n",
       "    .dataframe tbody tr th:only-of-type {\n",
       "        vertical-align: middle;\n",
       "    }\n",
       "\n",
       "    .dataframe tbody tr th {\n",
       "        vertical-align: top;\n",
       "    }\n",
       "\n",
       "    .dataframe thead th {\n",
       "        text-align: right;\n",
       "    }\n",
       "</style>\n",
       "<table border=\"1\" class=\"dataframe\">\n",
       "  <thead>\n",
       "    <tr style=\"text-align: right;\">\n",
       "      <th></th>\n",
       "      <th>Rank</th>\n",
       "      <th>Country(or dependent territory)</th>\n",
       "      <th>Population</th>\n",
       "      <th>Date</th>\n",
       "      <th>% of worldpopulation</th>\n",
       "      <th>Source</th>\n",
       "    </tr>\n",
       "  </thead>\n",
       "  <tbody>\n",
       "    <tr>\n",
       "      <th>0</th>\n",
       "      <td>1</td>\n",
       "      <td>China[Note 2]</td>\n",
       "      <td>1397630000</td>\n",
       "      <td>June 4, 2019</td>\n",
       "      <td>18.1%</td>\n",
       "      <td>Official population clock</td>\n",
       "    </tr>\n",
       "    <tr>\n",
       "      <th>1</th>\n",
       "      <td>2</td>\n",
       "      <td>India[Note 3]</td>\n",
       "      <td>1348050000</td>\n",
       "      <td>June 4, 2019</td>\n",
       "      <td>17.5%</td>\n",
       "      <td>Official population clock</td>\n",
       "    </tr>\n",
       "    <tr>\n",
       "      <th>2</th>\n",
       "      <td>3</td>\n",
       "      <td>United States[Note 4]</td>\n",
       "      <td>329317000</td>\n",
       "      <td>June 4, 2019</td>\n",
       "      <td>4.27%</td>\n",
       "      <td>Official population clock</td>\n",
       "    </tr>\n",
       "    <tr>\n",
       "      <th>3</th>\n",
       "      <td>4</td>\n",
       "      <td>Indonesia</td>\n",
       "      <td>268074600</td>\n",
       "      <td>July 1, 2019</td>\n",
       "      <td>3.48%</td>\n",
       "      <td>Official annual projection</td>\n",
       "    </tr>\n",
       "    <tr>\n",
       "      <th>4</th>\n",
       "      <td>5</td>\n",
       "      <td>Brazil</td>\n",
       "      <td>209994000</td>\n",
       "      <td>June 4, 2019</td>\n",
       "      <td>2.72%</td>\n",
       "      <td>Official population clock</td>\n",
       "    </tr>\n",
       "  </tbody>\n",
       "</table>\n",
       "</div>"
      ],
      "text/plain": [
       "  Rank Country(or dependent territory)  Population          Date  \\\n",
       "0    1                   China[Note 2]  1397630000  June 4, 2019   \n",
       "1    2                   India[Note 3]  1348050000  June 4, 2019   \n",
       "2    3           United States[Note 4]   329317000  June 4, 2019   \n",
       "3    4                       Indonesia   268074600  July 1, 2019   \n",
       "4    5                          Brazil   209994000  June 4, 2019   \n",
       "\n",
       "  % of worldpopulation                      Source  \n",
       "0                18.1%   Official population clock  \n",
       "1                17.5%   Official population clock  \n",
       "2                4.27%   Official population clock  \n",
       "3                3.48%  Official annual projection  \n",
       "4                2.72%   Official population clock  "
      ]
     },
     "execution_count": 39,
     "metadata": {},
     "output_type": "execute_result"
    }
   ],
   "source": [
    "banks.head()"
   ]
  },
  {
   "cell_type": "code",
   "execution_count": 40,
   "metadata": {},
   "outputs": [
    {
     "data": {
      "text/html": [
       "<div>\n",
       "<style scoped>\n",
       "    .dataframe tbody tr th:only-of-type {\n",
       "        vertical-align: middle;\n",
       "    }\n",
       "\n",
       "    .dataframe tbody tr th {\n",
       "        vertical-align: top;\n",
       "    }\n",
       "\n",
       "    .dataframe thead th {\n",
       "        text-align: right;\n",
       "    }\n",
       "</style>\n",
       "<table border=\"1\" class=\"dataframe\">\n",
       "  <thead>\n",
       "    <tr style=\"text-align: right;\">\n",
       "      <th></th>\n",
       "      <th>Rank</th>\n",
       "      <th>Country(or dependent territory)</th>\n",
       "      <th>Population</th>\n",
       "      <th>Date</th>\n",
       "      <th>% of worldpopulation</th>\n",
       "    </tr>\n",
       "  </thead>\n",
       "  <tbody>\n",
       "    <tr>\n",
       "      <th>0</th>\n",
       "      <td>1</td>\n",
       "      <td>China[Note 2]</td>\n",
       "      <td>1397630000</td>\n",
       "      <td>June 4, 2019</td>\n",
       "      <td>18.1%</td>\n",
       "    </tr>\n",
       "    <tr>\n",
       "      <th>1</th>\n",
       "      <td>2</td>\n",
       "      <td>India[Note 3]</td>\n",
       "      <td>1348050000</td>\n",
       "      <td>June 4, 2019</td>\n",
       "      <td>17.5%</td>\n",
       "    </tr>\n",
       "    <tr>\n",
       "      <th>2</th>\n",
       "      <td>3</td>\n",
       "      <td>United States[Note 4]</td>\n",
       "      <td>329317000</td>\n",
       "      <td>June 4, 2019</td>\n",
       "      <td>4.27%</td>\n",
       "    </tr>\n",
       "    <tr>\n",
       "      <th>3</th>\n",
       "      <td>4</td>\n",
       "      <td>Indonesia</td>\n",
       "      <td>268074600</td>\n",
       "      <td>July 1, 2019</td>\n",
       "      <td>3.48%</td>\n",
       "    </tr>\n",
       "    <tr>\n",
       "      <th>4</th>\n",
       "      <td>5</td>\n",
       "      <td>Brazil</td>\n",
       "      <td>209994000</td>\n",
       "      <td>June 4, 2019</td>\n",
       "      <td>2.72%</td>\n",
       "    </tr>\n",
       "  </tbody>\n",
       "</table>\n",
       "</div>"
      ],
      "text/plain": [
       "  Rank Country(or dependent territory)  Population          Date  \\\n",
       "0    1                   China[Note 2]  1397630000  June 4, 2019   \n",
       "1    2                   India[Note 3]  1348050000  June 4, 2019   \n",
       "2    3           United States[Note 4]   329317000  June 4, 2019   \n",
       "3    4                       Indonesia   268074600  July 1, 2019   \n",
       "4    5                          Brazil   209994000  June 4, 2019   \n",
       "\n",
       "  % of worldpopulation  \n",
       "0                18.1%  \n",
       "1                17.5%  \n",
       "2                4.27%  \n",
       "3                3.48%  \n",
       "4                2.72%  "
      ]
     },
     "execution_count": 40,
     "metadata": {},
     "output_type": "execute_result"
    }
   ],
   "source": [
    "list = ['Source']\n",
    "banks.drop(list, axis=1, inplace=True)\n",
    "banks.head()"
   ]
  },
  {
   "cell_type": "code",
   "execution_count": 41,
   "metadata": {},
   "outputs": [
    {
     "data": {
      "text/plain": [
       "0   2019-06-04\n",
       "1   2019-06-04\n",
       "2   2019-06-04\n",
       "3   2019-07-01\n",
       "4   2019-06-04\n",
       "Name: Date, dtype: datetime64[ns]"
      ]
     },
     "execution_count": 41,
     "metadata": {},
     "output_type": "execute_result"
    }
   ],
   "source": [
    "pd.to_datetime(banks['Date']).head()"
   ]
  },
  {
   "cell_type": "code",
   "execution_count": 42,
   "metadata": {},
   "outputs": [],
   "source": [
    "df = pd.DataFrame(banks,columns = ['Rank', 'Country(or dependent territory)',\n",
    "                         'Population','Date','% of worldpopulation'])\n",
    "df.head()\n",
    "\n",
    "dr = df.rename(index=str, columns={\"Country(or dependent territory)\": \"Country name\"}).head()\n"
   ]
  },
  {
   "cell_type": "code",
   "execution_count": 43,
   "metadata": {},
   "outputs": [
    {
     "name": "stdout",
     "output_type": "stream",
     "text": [
      " Rank           Country name  Population          Date % of worldpopulation\n",
      "    1          China[Note 2]  1397630000  June 4, 2019                18.1%\n",
      "    2          India[Note 3]  1348050000  June 4, 2019                17.5%\n",
      "    3  United States[Note 4]   329317000  June 4, 2019                4.27%\n",
      "    4              Indonesia   268074600  July 1, 2019                3.48%\n",
      "    5                 Brazil   209994000  June 4, 2019                2.72%\n"
     ]
    }
   ],
   "source": [
    "blankIndex=[''] * len(dr)\n",
    "dr.index=blankIndex\n",
    "print(dr.head())"
   ]
  },
  {
   "cell_type": "code",
   "execution_count": null,
   "metadata": {},
   "outputs": [],
   "source": []
  }
 ],
 "metadata": {
  "kernelspec": {
   "display_name": "Python 3",
   "language": "python",
   "name": "python3"
  },
  "language_info": {
   "codemirror_mode": {
    "name": "ipython",
    "version": 3
   },
   "file_extension": ".py",
   "mimetype": "text/x-python",
   "name": "python",
   "nbconvert_exporter": "python",
   "pygments_lexer": "ipython3",
   "version": "3.7.3"
  }
 },
 "nbformat": 4,
 "nbformat_minor": 2
}
