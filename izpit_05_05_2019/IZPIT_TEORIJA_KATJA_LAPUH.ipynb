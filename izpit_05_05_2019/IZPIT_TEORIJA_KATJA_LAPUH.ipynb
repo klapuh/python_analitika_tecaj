{
 "cells": [
  {
   "cell_type": "markdown",
   "metadata": {},
   "source": [
    "# Teoretični izpit tečaja Analitika podatkov v Python-u"
   ]
  },
  {
   "cell_type": "markdown",
   "metadata": {},
   "source": [
    "Čas reševanja: `90 min`"
   ]
  },
  {
   "cell_type": "markdown",
   "metadata": {},
   "source": [
    "Skupno število točk: `30 pts`"
   ]
  },
  {
   "cell_type": "markdown",
   "metadata": {},
   "source": [
    "Odgovore na vprašanja vnesite v celice s komentarjem `# Odgovor`\n",
    "\n",
    "Za vsa vprašanja smo na voljo.\n",
    "\n",
    "Lahko si pomagate z uporabo gradiv in internetom. Ne pozabite na uradno dokumentacijo.\n",
    "\n",
    "Srečno!!"
   ]
  },
  {
   "cell_type": "markdown",
   "metadata": {},
   "source": [
    "**Pred začetkom izpita zaženite spodnjo celico:**"
   ]
  },
  {
   "cell_type": "code",
   "execution_count": 2,
   "metadata": {},
   "outputs": [],
   "source": [
    "import pandas as pd\n",
    "import numpy as np\n",
    "\n",
    "\n",
    "%matplotlib inline\n",
    "import matplotlib.pyplot as plt\n",
    "\n",
    "import requests\n",
    "from bs4 import BeautifulSoup"
   ]
  },
  {
   "cell_type": "markdown",
   "metadata": {},
   "source": [
    "### 1.del - Numpy"
   ]
  },
  {
   "cell_type": "markdown",
   "metadata": {},
   "source": [
    "`Možne točke: 5 pts`"
   ]
  },
  {
   "cell_type": "markdown",
   "metadata": {},
   "source": [
    "##### 1.1) Ustvarite Numpy array `1 pts`\n",
    "\n",
    "Ustavrite Numpy array z vrednostmi od 1 do vključno 50."
   ]
  },
  {
   "cell_type": "code",
   "execution_count": 3,
   "metadata": {},
   "outputs": [
    {
     "data": {
      "text/plain": [
       "array([ 1,  2,  3,  4,  5,  6,  7,  8,  9, 10, 11, 12, 13, 14, 15, 16, 17,\n",
       "       18, 19, 20, 21, 22, 23, 24, 25, 26, 27, 28, 29, 30, 31, 32, 33, 34,\n",
       "       35, 36, 37, 38, 39, 40, 41, 42, 43, 44, 45, 46, 47, 48, 49, 50])"
      ]
     },
     "execution_count": 3,
     "metadata": {},
     "output_type": "execute_result"
    }
   ],
   "source": [
    "np.arange(1,51)\n"
   ]
  },
  {
   "cell_type": "markdown",
   "metadata": {},
   "source": [
    "Želena rešitev:\n",
    "    \n",
    "```\n",
    "array([ 1,  2,  3,  4,  5,  6,  7,  8,  9, 10, 11, 12, 13, 14, 15, 16, 17,\n",
    "       18, 19, 20, 21, 22, 23, 24, 25, 26, 27, 28, 29, 30, 31, 32, 33, 34,\n",
    "       35, 36, 37, 38, 39, 40, 41, 42, 43, 44, 45, 46, 47, 48, 49, 50])\n",
    "```"
   ]
  },
  {
   "cell_type": "markdown",
   "metadata": {},
   "source": [
    "##### 1.2) Negirajte vse elemente Numpy array-a, ki so med med 3 in vključno 8. `1 pts`"
   ]
  },
  {
   "cell_type": "code",
   "execution_count": 4,
   "metadata": {},
   "outputs": [
    {
     "data": {
      "text/plain": [
       "array([ 0,  1,  2,  3,  4,  5,  6,  7,  8,  9, 10])"
      ]
     },
     "execution_count": 4,
     "metadata": {},
     "output_type": "execute_result"
    }
   ],
   "source": [
    "Z = np.arange(11)\n",
    "Z"
   ]
  },
  {
   "cell_type": "code",
   "execution_count": 48,
   "metadata": {},
   "outputs": [
    {
     "data": {
      "text/plain": [
       "array([ 0,  1,  2,  3, -4, -5, -6, -7, -8,  9])"
      ]
     },
     "execution_count": 48,
     "metadata": {},
     "output_type": "execute_result"
    }
   ],
   "source": [
    "#Z[(3 < Z) & (Z <= 8)] = -1\n",
    "#Z\n",
    "Z[4:9]=-Z[4:9]\n",
    "Z"
   ]
  },
  {
   "cell_type": "markdown",
   "metadata": {},
   "source": [
    "Želena rešitev:\n",
    "```\n",
    "array([ 0,  1,  2,  3, -4, -5, -6, -7, -8,  9, 10])\n",
    "```"
   ]
  },
  {
   "cell_type": "markdown",
   "metadata": {},
   "source": [
    "##### 1.3) Ustvarite in sortirajte naključni array. `2 pts`\n",
    "\n"
   ]
  },
  {
   "cell_type": "markdown",
   "metadata": {},
   "source": [
    "Ustvarite Numpy array 10 naključnih števil in ga sortirajte od najmanjšega do največjega števila."
   ]
  },
  {
   "cell_type": "code",
   "execution_count": 6,
   "metadata": {},
   "outputs": [
    {
     "name": "stdout",
     "output_type": "stream",
     "text": [
      "[0.10836126 0.15987627 0.27236804 0.29759647 0.36883094 0.4369604\n",
      " 0.69993007 0.86145723 0.90044185 0.92110309]\n"
     ]
    }
   ],
   "source": [
    "S = np.random.random(10)\n",
    "S.sort()\n",
    "print(S)\n",
    "\n"
   ]
  },
  {
   "cell_type": "markdown",
   "metadata": {},
   "source": [
    "Želena rešitev:\n",
    "    \n",
    "```\n",
    "array([0.02592623, 0.20464863, 0.26682728, 0.29965467, 0.33033482,\n",
    "       0.4203678 , 0.43532239, 0.4359949 , 0.54966248, 0.61927097])\n",
    "```"
   ]
  },
  {
   "cell_type": "markdown",
   "metadata": {},
   "source": [
    "##### 1.4) Pretvorite 32-bitni float Numpy array v 64-bitni integer Numpy array. `1 pts`"
   ]
  },
  {
   "cell_type": "code",
   "execution_count": 7,
   "metadata": {},
   "outputs": [
    {
     "data": {
      "text/plain": [
       "dtype('float32')"
      ]
     },
     "execution_count": 7,
     "metadata": {},
     "output_type": "execute_result"
    }
   ],
   "source": [
    "Z = np.arange(10, dtype=np.float32)\n",
    "Z.dtype"
   ]
  },
  {
   "cell_type": "code",
   "execution_count": 8,
   "metadata": {},
   "outputs": [
    {
     "data": {
      "text/plain": [
       "dtype('int64')"
      ]
     },
     "execution_count": 8,
     "metadata": {},
     "output_type": "execute_result"
    }
   ],
   "source": [
    "Z = np.arange(10, dtype=np.int64)\n",
    "Z.dtype\n"
   ]
  },
  {
   "cell_type": "markdown",
   "metadata": {},
   "source": [
    "Za pravilni odgovor mora spodnja celica vrniti naslednje:\n",
    "```\n",
    "dtype('int64')\n",
    "```"
   ]
  },
  {
   "cell_type": "markdown",
   "metadata": {},
   "source": [
    "### 2. del - pandas 1/3"
   ]
  },
  {
   "cell_type": "markdown",
   "metadata": {},
   "source": [
    "`Možne točke: 5 pts`"
   ]
  },
  {
   "cell_type": "markdown",
   "metadata": {},
   "source": [
    "##### 2.1) Kako naredimo pandas Series iz sledečih podatkovnih tipov? `1 pts`\n",
    "\n",
    "Izdelajte pandas Series iz vsakega spodnjega podatkovnega tipa: list, numpy array, dictionary."
   ]
  },
  {
   "cell_type": "code",
   "execution_count": 9,
   "metadata": {},
   "outputs": [],
   "source": [
    "mylist = list('abcedfghijklmnopqrstuvwxyz')\n",
    "myarr = np.arange(26)\n",
    "mydict = dict(zip(mylist, myarr))"
   ]
  },
  {
   "cell_type": "code",
   "execution_count": 13,
   "metadata": {},
   "outputs": [],
   "source": [
    "pd.Series(mydict)\n",
    "\n",
    "# Odgovor 1 - mylist\n",
    "ser1 = pd.Series(mylist)\n",
    "\n",
    "# Odgovor 2 - myarr\n",
    "ser2 = pd.Series(myarr) \n",
    "\n",
    "\n",
    "# Odgovor 3 - mydict\n",
    "ser3 = pd.Series(mydict)\n"
   ]
  },
  {
   "cell_type": "markdown",
   "metadata": {},
   "source": [
    "Za pravilni odgovor mora spodnja celica vrniti `pandas.core.series.Series` za vsako spremenljivko."
   ]
  },
  {
   "cell_type": "code",
   "execution_count": 14,
   "metadata": {},
   "outputs": [
    {
     "name": "stdout",
     "output_type": "stream",
     "text": [
      "<class 'pandas.core.series.Series'>\n",
      "<class 'pandas.core.series.Series'>\n",
      "<class 'pandas.core.series.Series'>\n"
     ]
    }
   ],
   "source": [
    "print(type(ser1))\n",
    "print(type(ser2))\n",
    "print(type(ser3))"
   ]
  },
  {
   "cell_type": "markdown",
   "metadata": {},
   "source": [
    "##### 2.2) Kako združimo dve pandas Series v pandas Dataframe  `1 pts`\n",
    "\n",
    "Združi series1 in series2 v dataframe."
   ]
  },
  {
   "cell_type": "code",
   "execution_count": 15,
   "metadata": {},
   "outputs": [],
   "source": [
    "series1 = pd.Series(list('abcedfghijklmnopqrstuvwxyz'))\n",
    "series2 = pd.Series(np.arange(26))"
   ]
  },
  {
   "cell_type": "code",
   "execution_count": 16,
   "metadata": {},
   "outputs": [],
   "source": [
    "# Odgovor\n",
    "df1 = pd.DataFrame({'col1': series1, 'col2': series2})\n"
   ]
  },
  {
   "cell_type": "markdown",
   "metadata": {},
   "source": [
    "Za pravilni odgovor mora spodnja celica vrniti dataframe naslednje oblike:\n",
    "\n",
    "```\n",
    "  col1  col2\n",
    "0    a     0\n",
    "1    b     1\n",
    "2    c     2\n",
    "3    e     3\n",
    "4    d     4\n",
    "```"
   ]
  },
  {
   "cell_type": "code",
   "execution_count": 17,
   "metadata": {},
   "outputs": [
    {
     "name": "stdout",
     "output_type": "stream",
     "text": [
      "  col1  col2\n",
      "0    a     0\n",
      "1    b     1\n",
      "2    c     2\n",
      "3    e     3\n",
      "4    d     4\n"
     ]
    }
   ],
   "source": [
    "print(df1.head())"
   ]
  },
  {
   "cell_type": "markdown",
   "metadata": {},
   "source": [
    "##### 2.3) Kako izračunamo število zankov vsake besede v  pandas Series?  `2 pts`\n",
    "\n",
    "Izračunajte število znakov v vsaki besedi v `ser_beseda`. Naredite nov pandas dataframe, ki vsebuje dva stolpca: besede (ser_beseda) in stevilo_znakov (izračunano stevilo znakov)."
   ]
  },
  {
   "cell_type": "code",
   "execution_count": 18,
   "metadata": {},
   "outputs": [],
   "source": [
    "ser_beseda = pd.Series(['veliko', 'zannje', 'kako', 'ne', 'pandasinnumpy'])"
   ]
  },
  {
   "cell_type": "code",
   "execution_count": 19,
   "metadata": {},
   "outputs": [],
   "source": [
    "# Odgovor\n",
    "\n",
    "stevilo = ser_beseda.map(lambda x: len(x))\n",
    "stevilo\n",
    "\n",
    "df_stevilo = pd.DataFrame({'besede': ser_beseda, 'stevilo_znakov': stevilo})"
   ]
  },
  {
   "cell_type": "markdown",
   "metadata": {},
   "source": [
    "Za pravilni odgovor mora spodnja celica vrniti dataframe naslednje oblike:\n",
    "    \n",
    "```\n",
    "          besede  stevilo_znakov\n",
    "0         veliko               6\n",
    "1         zannje               6\n",
    "2           kako               4\n",
    "3             ne               2\n",
    "4  pandasinnumpy              13\n",
    "```"
   ]
  },
  {
   "cell_type": "code",
   "execution_count": 20,
   "metadata": {},
   "outputs": [
    {
     "name": "stdout",
     "output_type": "stream",
     "text": [
      "          besede  stevilo_znakov\n",
      "0         veliko               6\n",
      "1         zannje               6\n",
      "2           kako               4\n",
      "3             ne               2\n",
      "4  pandasinnumpy              13\n"
     ]
    }
   ],
   "source": [
    "print(df_stevilo)"
   ]
  },
  {
   "cell_type": "markdown",
   "metadata": {},
   "source": [
    "##### 2.4) Kako pretvorimo pandas series s stringi datumov v pandas timeseries?  `1 pts`\n",
    "\n",
    "Dani pandas series `ser_times` pretvorite v pandas timeseries tipa datetime64[ns]."
   ]
  },
  {
   "cell_type": "code",
   "execution_count": 21,
   "metadata": {},
   "outputs": [],
   "source": [
    "ser_times = pd.Series(['01 Jan 2010', '02-02-2011', '20120303', '2013/04/04', '2014-05-05', '2015-06-06T12:20'])"
   ]
  },
  {
   "cell_type": "code",
   "execution_count": 22,
   "metadata": {},
   "outputs": [
    {
     "data": {
      "text/plain": [
       "0   2010-01-01 00:00:00\n",
       "1   2011-02-02 00:00:00\n",
       "2   2012-03-03 00:00:00\n",
       "3   2013-04-04 00:00:00\n",
       "4   2014-05-05 00:00:00\n",
       "5   2015-06-06 12:20:00\n",
       "dtype: datetime64[ns]"
      ]
     },
     "execution_count": 22,
     "metadata": {},
     "output_type": "execute_result"
    }
   ],
   "source": [
    "# Odgovor\n",
    "\n",
    "pd.to_datetime(ser_times)"
   ]
  },
  {
   "cell_type": "markdown",
   "metadata": {},
   "source": [
    "Za pravilni odgovor mora spodnja celica vrniti series naslednje oblike:\n",
    "\n",
    "```\n",
    "0   2010-01-01 00:00:00\n",
    "1   2011-02-02 00:00:00\n",
    "2   2012-03-03 00:00:00\n",
    "3   2013-04-04 00:00:00\n",
    "4   2014-05-05 00:00:00\n",
    "5   2015-06-06 12:20:00\n",
    "dtype: datetime64[ns]\n",
    "```"
   ]
  },
  {
   "cell_type": "markdown",
   "metadata": {},
   "source": [
    "### 3. del - pandas 2/3"
   ]
  },
  {
   "cell_type": "markdown",
   "metadata": {},
   "source": [
    "`Možne točke: 5 pts`"
   ]
  },
  {
   "cell_type": "markdown",
   "metadata": {},
   "source": [
    "##### 3.1) Kako izpišemo zadnje 3 vrstice pandas dataframe-a, kjer je vsota vrstic večja od 100?  `2 pts`\n",
    "\n",
    "Izpišite zadnje 3 vrstice dataframe-a katerega vsota vrstic je večja od 100."
   ]
  },
  {
   "cell_type": "code",
   "execution_count": 23,
   "metadata": {},
   "outputs": [
    {
     "data": {
      "text/html": [
       "<div>\n",
       "<style scoped>\n",
       "    .dataframe tbody tr th:only-of-type {\n",
       "        vertical-align: middle;\n",
       "    }\n",
       "\n",
       "    .dataframe tbody tr th {\n",
       "        vertical-align: top;\n",
       "    }\n",
       "\n",
       "    .dataframe thead th {\n",
       "        text-align: right;\n",
       "    }\n",
       "</style>\n",
       "<table border=\"1\" class=\"dataframe\">\n",
       "  <thead>\n",
       "    <tr style=\"text-align: right;\">\n",
       "      <th></th>\n",
       "      <th>0</th>\n",
       "      <th>1</th>\n",
       "      <th>2</th>\n",
       "      <th>3</th>\n",
       "    </tr>\n",
       "  </thead>\n",
       "  <tbody>\n",
       "    <tr>\n",
       "      <th>0</th>\n",
       "      <td>15</td>\n",
       "      <td>21</td>\n",
       "      <td>22</td>\n",
       "      <td>18</td>\n",
       "    </tr>\n",
       "    <tr>\n",
       "      <th>1</th>\n",
       "      <td>19</td>\n",
       "      <td>21</td>\n",
       "      <td>15</td>\n",
       "      <td>25</td>\n",
       "    </tr>\n",
       "    <tr>\n",
       "      <th>2</th>\n",
       "      <td>10</td>\n",
       "      <td>26</td>\n",
       "      <td>11</td>\n",
       "      <td>22</td>\n",
       "    </tr>\n",
       "    <tr>\n",
       "      <th>3</th>\n",
       "      <td>17</td>\n",
       "      <td>23</td>\n",
       "      <td>38</td>\n",
       "      <td>16</td>\n",
       "    </tr>\n",
       "    <tr>\n",
       "      <th>4</th>\n",
       "      <td>35</td>\n",
       "      <td>28</td>\n",
       "      <td>30</td>\n",
       "      <td>15</td>\n",
       "    </tr>\n",
       "  </tbody>\n",
       "</table>\n",
       "</div>"
      ],
      "text/plain": [
       "    0   1   2   3\n",
       "0  15  21  22  18\n",
       "1  19  21  15  25\n",
       "2  10  26  11  22\n",
       "3  17  23  38  16\n",
       "4  35  28  30  15"
      ]
     },
     "execution_count": 23,
     "metadata": {},
     "output_type": "execute_result"
    }
   ],
   "source": [
    "np.random.seed(1)\n",
    "df = pd.DataFrame(np.random.randint(10, 40, 60).reshape(-1, 4))\n",
    "df.head()"
   ]
  },
  {
   "cell_type": "code",
   "execution_count": 24,
   "metadata": {},
   "outputs": [
    {
     "data": {
      "text/html": [
       "<div>\n",
       "<style scoped>\n",
       "    .dataframe tbody tr th:only-of-type {\n",
       "        vertical-align: middle;\n",
       "    }\n",
       "\n",
       "    .dataframe tbody tr th {\n",
       "        vertical-align: top;\n",
       "    }\n",
       "\n",
       "    .dataframe thead th {\n",
       "        text-align: right;\n",
       "    }\n",
       "</style>\n",
       "<table border=\"1\" class=\"dataframe\">\n",
       "  <thead>\n",
       "    <tr style=\"text-align: right;\">\n",
       "      <th></th>\n",
       "      <th>0</th>\n",
       "      <th>1</th>\n",
       "      <th>2</th>\n",
       "      <th>3</th>\n",
       "    </tr>\n",
       "  </thead>\n",
       "  <tbody>\n",
       "    <tr>\n",
       "      <th>7</th>\n",
       "      <td>28</td>\n",
       "      <td>14</td>\n",
       "      <td>33</td>\n",
       "      <td>33</td>\n",
       "    </tr>\n",
       "    <tr>\n",
       "      <th>10</th>\n",
       "      <td>17</td>\n",
       "      <td>39</td>\n",
       "      <td>32</td>\n",
       "      <td>35</td>\n",
       "    </tr>\n",
       "    <tr>\n",
       "      <th>12</th>\n",
       "      <td>18</td>\n",
       "      <td>34</td>\n",
       "      <td>23</td>\n",
       "      <td>29</td>\n",
       "    </tr>\n",
       "  </tbody>\n",
       "</table>\n",
       "</div>"
      ],
      "text/plain": [
       "     0   1   2   3\n",
       "7   28  14  33  33\n",
       "10  17  39  32  35\n",
       "12  18  34  23  29"
      ]
     },
     "execution_count": 24,
     "metadata": {},
     "output_type": "execute_result"
    }
   ],
   "source": [
    "# Odgovor\n",
    "rowsums = df.apply(np.sum, axis=1)\n",
    "df_last_3 = df.iloc[np.where(rowsums > 100)[0][-3:], :]\n",
    "df_last_3\n",
    "\n"
   ]
  },
  {
   "cell_type": "markdown",
   "metadata": {},
   "source": [
    "Za pravilni odgovor mora spodnja celica vrniti dataframe naslednje oblike:\n",
    "```\n",
    "     0   1   2   3\n",
    "7   28  14  33  33\n",
    "10  17  39  32  35\n",
    "12  18  34  23  29\n",
    "```"
   ]
  },
  {
   "cell_type": "markdown",
   "metadata": {},
   "source": [
    "##### 3.2) Kako dodamo dva stolpca pandas dataframe-u, ki vsebujeta max in min vrednost vsake vrstice? `2 pts`"
   ]
  },
  {
   "cell_type": "markdown",
   "metadata": {},
   "source": [
    "Danemu pandas dataframe-u dodajte dva stolpca, ki vsebujeta max in min vrednost vsake vrstice."
   ]
  },
  {
   "cell_type": "code",
   "execution_count": 25,
   "metadata": {},
   "outputs": [],
   "source": [
    "np.random.seed(2)\n",
    "df = pd.DataFrame(np.random.randint(1,100, 80).reshape(8, -1))"
   ]
  },
  {
   "cell_type": "code",
   "execution_count": 26,
   "metadata": {},
   "outputs": [
    {
     "data": {
      "text/html": [
       "<div>\n",
       "<style scoped>\n",
       "    .dataframe tbody tr th:only-of-type {\n",
       "        vertical-align: middle;\n",
       "    }\n",
       "\n",
       "    .dataframe tbody tr th {\n",
       "        vertical-align: top;\n",
       "    }\n",
       "\n",
       "    .dataframe thead th {\n",
       "        text-align: right;\n",
       "    }\n",
       "</style>\n",
       "<table border=\"1\" class=\"dataframe\">\n",
       "  <thead>\n",
       "    <tr style=\"text-align: right;\">\n",
       "      <th></th>\n",
       "      <th>0</th>\n",
       "      <th>1</th>\n",
       "      <th>2</th>\n",
       "      <th>3</th>\n",
       "      <th>4</th>\n",
       "      <th>5</th>\n",
       "      <th>6</th>\n",
       "      <th>7</th>\n",
       "      <th>8</th>\n",
       "      <th>9</th>\n",
       "    </tr>\n",
       "  </thead>\n",
       "  <tbody>\n",
       "    <tr>\n",
       "      <th>0</th>\n",
       "      <td>41</td>\n",
       "      <td>16</td>\n",
       "      <td>73</td>\n",
       "      <td>23</td>\n",
       "      <td>44</td>\n",
       "      <td>83</td>\n",
       "      <td>76</td>\n",
       "      <td>8</td>\n",
       "      <td>35</td>\n",
       "      <td>50</td>\n",
       "    </tr>\n",
       "    <tr>\n",
       "      <th>1</th>\n",
       "      <td>96</td>\n",
       "      <td>76</td>\n",
       "      <td>86</td>\n",
       "      <td>48</td>\n",
       "      <td>64</td>\n",
       "      <td>32</td>\n",
       "      <td>91</td>\n",
       "      <td>21</td>\n",
       "      <td>38</td>\n",
       "      <td>40</td>\n",
       "    </tr>\n",
       "    <tr>\n",
       "      <th>2</th>\n",
       "      <td>68</td>\n",
       "      <td>5</td>\n",
       "      <td>43</td>\n",
       "      <td>52</td>\n",
       "      <td>39</td>\n",
       "      <td>34</td>\n",
       "      <td>59</td>\n",
       "      <td>68</td>\n",
       "      <td>70</td>\n",
       "      <td>89</td>\n",
       "    </tr>\n",
       "    <tr>\n",
       "      <th>3</th>\n",
       "      <td>69</td>\n",
       "      <td>47</td>\n",
       "      <td>71</td>\n",
       "      <td>96</td>\n",
       "      <td>84</td>\n",
       "      <td>32</td>\n",
       "      <td>67</td>\n",
       "      <td>81</td>\n",
       "      <td>53</td>\n",
       "      <td>77</td>\n",
       "    </tr>\n",
       "    <tr>\n",
       "      <th>4</th>\n",
       "      <td>51</td>\n",
       "      <td>5</td>\n",
       "      <td>91</td>\n",
       "      <td>64</td>\n",
       "      <td>80</td>\n",
       "      <td>50</td>\n",
       "      <td>40</td>\n",
       "      <td>47</td>\n",
       "      <td>9</td>\n",
       "      <td>51</td>\n",
       "    </tr>\n",
       "    <tr>\n",
       "      <th>5</th>\n",
       "      <td>16</td>\n",
       "      <td>9</td>\n",
       "      <td>18</td>\n",
       "      <td>23</td>\n",
       "      <td>74</td>\n",
       "      <td>58</td>\n",
       "      <td>91</td>\n",
       "      <td>63</td>\n",
       "      <td>84</td>\n",
       "      <td>97</td>\n",
       "    </tr>\n",
       "    <tr>\n",
       "      <th>6</th>\n",
       "      <td>44</td>\n",
       "      <td>33</td>\n",
       "      <td>27</td>\n",
       "      <td>9</td>\n",
       "      <td>77</td>\n",
       "      <td>11</td>\n",
       "      <td>41</td>\n",
       "      <td>35</td>\n",
       "      <td>61</td>\n",
       "      <td>10</td>\n",
       "    </tr>\n",
       "    <tr>\n",
       "      <th>7</th>\n",
       "      <td>71</td>\n",
       "      <td>87</td>\n",
       "      <td>71</td>\n",
       "      <td>20</td>\n",
       "      <td>57</td>\n",
       "      <td>83</td>\n",
       "      <td>2</td>\n",
       "      <td>69</td>\n",
       "      <td>41</td>\n",
       "      <td>82</td>\n",
       "    </tr>\n",
       "  </tbody>\n",
       "</table>\n",
       "</div>"
      ],
      "text/plain": [
       "    0   1   2   3   4   5   6   7   8   9\n",
       "0  41  16  73  23  44  83  76   8  35  50\n",
       "1  96  76  86  48  64  32  91  21  38  40\n",
       "2  68   5  43  52  39  34  59  68  70  89\n",
       "3  69  47  71  96  84  32  67  81  53  77\n",
       "4  51   5  91  64  80  50  40  47   9  51\n",
       "5  16   9  18  23  74  58  91  63  84  97\n",
       "6  44  33  27   9  77  11  41  35  61  10\n",
       "7  71  87  71  20  57  83   2  69  41  82"
      ]
     },
     "execution_count": 26,
     "metadata": {},
     "output_type": "execute_result"
    }
   ],
   "source": [
    "df"
   ]
  },
  {
   "cell_type": "code",
   "execution_count": 27,
   "metadata": {},
   "outputs": [
    {
     "data": {
      "text/html": [
       "<div>\n",
       "<style scoped>\n",
       "    .dataframe tbody tr th:only-of-type {\n",
       "        vertical-align: middle;\n",
       "    }\n",
       "\n",
       "    .dataframe tbody tr th {\n",
       "        vertical-align: top;\n",
       "    }\n",
       "\n",
       "    .dataframe thead th {\n",
       "        text-align: right;\n",
       "    }\n",
       "</style>\n",
       "<table border=\"1\" class=\"dataframe\">\n",
       "  <thead>\n",
       "    <tr style=\"text-align: right;\">\n",
       "      <th></th>\n",
       "      <th>0</th>\n",
       "      <th>1</th>\n",
       "      <th>2</th>\n",
       "      <th>3</th>\n",
       "      <th>4</th>\n",
       "      <th>5</th>\n",
       "      <th>6</th>\n",
       "      <th>7</th>\n",
       "      <th>8</th>\n",
       "      <th>9</th>\n",
       "      <th>min</th>\n",
       "      <th>max</th>\n",
       "    </tr>\n",
       "  </thead>\n",
       "  <tbody>\n",
       "    <tr>\n",
       "      <th>0</th>\n",
       "      <td>41</td>\n",
       "      <td>16</td>\n",
       "      <td>73</td>\n",
       "      <td>23</td>\n",
       "      <td>44</td>\n",
       "      <td>83</td>\n",
       "      <td>76</td>\n",
       "      <td>8</td>\n",
       "      <td>35</td>\n",
       "      <td>50</td>\n",
       "      <td>8</td>\n",
       "      <td>83</td>\n",
       "    </tr>\n",
       "    <tr>\n",
       "      <th>1</th>\n",
       "      <td>96</td>\n",
       "      <td>76</td>\n",
       "      <td>86</td>\n",
       "      <td>48</td>\n",
       "      <td>64</td>\n",
       "      <td>32</td>\n",
       "      <td>91</td>\n",
       "      <td>21</td>\n",
       "      <td>38</td>\n",
       "      <td>40</td>\n",
       "      <td>21</td>\n",
       "      <td>96</td>\n",
       "    </tr>\n",
       "    <tr>\n",
       "      <th>2</th>\n",
       "      <td>68</td>\n",
       "      <td>5</td>\n",
       "      <td>43</td>\n",
       "      <td>52</td>\n",
       "      <td>39</td>\n",
       "      <td>34</td>\n",
       "      <td>59</td>\n",
       "      <td>68</td>\n",
       "      <td>70</td>\n",
       "      <td>89</td>\n",
       "      <td>5</td>\n",
       "      <td>89</td>\n",
       "    </tr>\n",
       "    <tr>\n",
       "      <th>3</th>\n",
       "      <td>69</td>\n",
       "      <td>47</td>\n",
       "      <td>71</td>\n",
       "      <td>96</td>\n",
       "      <td>84</td>\n",
       "      <td>32</td>\n",
       "      <td>67</td>\n",
       "      <td>81</td>\n",
       "      <td>53</td>\n",
       "      <td>77</td>\n",
       "      <td>32</td>\n",
       "      <td>96</td>\n",
       "    </tr>\n",
       "    <tr>\n",
       "      <th>4</th>\n",
       "      <td>51</td>\n",
       "      <td>5</td>\n",
       "      <td>91</td>\n",
       "      <td>64</td>\n",
       "      <td>80</td>\n",
       "      <td>50</td>\n",
       "      <td>40</td>\n",
       "      <td>47</td>\n",
       "      <td>9</td>\n",
       "      <td>51</td>\n",
       "      <td>5</td>\n",
       "      <td>91</td>\n",
       "    </tr>\n",
       "    <tr>\n",
       "      <th>5</th>\n",
       "      <td>16</td>\n",
       "      <td>9</td>\n",
       "      <td>18</td>\n",
       "      <td>23</td>\n",
       "      <td>74</td>\n",
       "      <td>58</td>\n",
       "      <td>91</td>\n",
       "      <td>63</td>\n",
       "      <td>84</td>\n",
       "      <td>97</td>\n",
       "      <td>9</td>\n",
       "      <td>97</td>\n",
       "    </tr>\n",
       "    <tr>\n",
       "      <th>6</th>\n",
       "      <td>44</td>\n",
       "      <td>33</td>\n",
       "      <td>27</td>\n",
       "      <td>9</td>\n",
       "      <td>77</td>\n",
       "      <td>11</td>\n",
       "      <td>41</td>\n",
       "      <td>35</td>\n",
       "      <td>61</td>\n",
       "      <td>10</td>\n",
       "      <td>9</td>\n",
       "      <td>77</td>\n",
       "    </tr>\n",
       "    <tr>\n",
       "      <th>7</th>\n",
       "      <td>71</td>\n",
       "      <td>87</td>\n",
       "      <td>71</td>\n",
       "      <td>20</td>\n",
       "      <td>57</td>\n",
       "      <td>83</td>\n",
       "      <td>2</td>\n",
       "      <td>69</td>\n",
       "      <td>41</td>\n",
       "      <td>82</td>\n",
       "      <td>2</td>\n",
       "      <td>87</td>\n",
       "    </tr>\n",
       "  </tbody>\n",
       "</table>\n",
       "</div>"
      ],
      "text/plain": [
       "    0   1   2   3   4   5   6   7   8   9  min  max\n",
       "0  41  16  73  23  44  83  76   8  35  50    8   83\n",
       "1  96  76  86  48  64  32  91  21  38  40   21   96\n",
       "2  68   5  43  52  39  34  59  68  70  89    5   89\n",
       "3  69  47  71  96  84  32  67  81  53  77   32   96\n",
       "4  51   5  91  64  80  50  40  47   9  51    5   91\n",
       "5  16   9  18  23  74  58  91  63  84  97    9   97\n",
       "6  44  33  27   9  77  11  41  35  61  10    9   77\n",
       "7  71  87  71  20  57  83   2  69  41  82    2   87"
      ]
     },
     "execution_count": 27,
     "metadata": {},
     "output_type": "execute_result"
    }
   ],
   "source": [
    "# Odgovor\n",
    "min_df = df.apply(lambda x: np.min(x), axis=1)\n",
    "\n",
    "max_df = df.apply(lambda x: np.max(x), axis=1)\n",
    "\n",
    "min_max_df = pd.DataFrame({'min': min_df, 'max': max_df})\n",
    "\n",
    "min_max_df\n",
    "result = pd.concat([df, min_max_df], axis=1, join='inner')\n",
    "\n",
    "result"
   ]
  },
  {
   "cell_type": "markdown",
   "metadata": {},
   "source": [
    "Za pravilni odgovor mora spodnja celica vrniti dataframe naslednje oblike:\n",
    "```\n",
    "    0   1   2   3   4   5   6   7   8   9  min  max\n",
    "0  41  16  73  23  44  83  76   8  35  50    8   83\n",
    "1  96  76  86  48  64  32  91  21  38  40   21   96\n",
    "2  68   5  43  52  39  34  59  68  70  89    5   89\n",
    "3  69  47  71  96  84  32  67  81  53  77   32   96\n",
    "4  51   5  91  64  80  50  40  47   9  51    5   91\n",
    "5  16   9  18  23  74  58  91  63  84  97    9   97\n",
    "6  44  33  27   9  77  11  41  35  61  10    9   77\n",
    "7  71  87  71  20  57  83   2  69  41  82    2   87\n",
    "```"
   ]
  },
  {
   "cell_type": "markdown",
   "metadata": {},
   "source": [
    "##### 3.3)  Izbira vrstic in stolpcev `1 pts`"
   ]
  },
  {
   "cell_type": "markdown",
   "metadata": {},
   "source": [
    "Iz spodnjih podatkov sestavite dataframe z imenom `exam_df`. List `labels` naj bodo index-i dataframe-a.\n",
    "\n",
    "Iz sestavljenega dataframe-a izberite stolpca `'name' in 'score'` ter vrstice `c, d in e`."
   ]
  },
  {
   "cell_type": "markdown",
   "metadata": {},
   "source": [
    "Podatki:"
   ]
  },
  {
   "cell_type": "code",
   "execution_count": 28,
   "metadata": {},
   "outputs": [],
   "source": [
    "exam_data  = {'name': ['Anastasia', 'Dima', 'Katherine', 'James', 'Emily', 'Michael', 'Matthew', 'Laura', 'Kevin', 'Jonas'],\n",
    "        'score': [12.5, 9, 16.5, np.nan, 9, 20, 14.5, np.nan, 8, 19],\n",
    "        'attempts': [1, 3, 2, 3, 2, 3, 1, 1, 2, 1],\n",
    "        'qualify': ['yes', 'no', 'yes', 'no', 'no', 'yes', 'yes', 'no', 'no', 'yes']}\n",
    "\n",
    "labels = ['a', 'b', 'c', 'd', 'e', 'f', 'g', 'h', 'i', 'j']"
   ]
  },
  {
   "cell_type": "code",
   "execution_count": 29,
   "metadata": {},
   "outputs": [
    {
     "data": {
      "text/html": [
       "<div>\n",
       "<style scoped>\n",
       "    .dataframe tbody tr th:only-of-type {\n",
       "        vertical-align: middle;\n",
       "    }\n",
       "\n",
       "    .dataframe tbody tr th {\n",
       "        vertical-align: top;\n",
       "    }\n",
       "\n",
       "    .dataframe thead th {\n",
       "        text-align: right;\n",
       "    }\n",
       "</style>\n",
       "<table border=\"1\" class=\"dataframe\">\n",
       "  <thead>\n",
       "    <tr style=\"text-align: right;\">\n",
       "      <th></th>\n",
       "      <th>name</th>\n",
       "      <th>score</th>\n",
       "    </tr>\n",
       "  </thead>\n",
       "  <tbody>\n",
       "    <tr>\n",
       "      <th>c</th>\n",
       "      <td>Katherine</td>\n",
       "      <td>16.5</td>\n",
       "    </tr>\n",
       "    <tr>\n",
       "      <th>d</th>\n",
       "      <td>James</td>\n",
       "      <td>NaN</td>\n",
       "    </tr>\n",
       "    <tr>\n",
       "      <th>e</th>\n",
       "      <td>Emily</td>\n",
       "      <td>9.0</td>\n",
       "    </tr>\n",
       "  </tbody>\n",
       "</table>\n",
       "</div>"
      ],
      "text/plain": [
       "        name  score\n",
       "c  Katherine   16.5\n",
       "d      James    NaN\n",
       "e      Emily    9.0"
      ]
     },
     "execution_count": 29,
     "metadata": {},
     "output_type": "execute_result"
    }
   ],
   "source": [
    "# Odgovor\n",
    "\n",
    "exam_df=pd.DataFrame(index=labels,data=exam_data)\n",
    "\n",
    "exam_df.loc[['c','d','e'],['name','score']]\n",
    "\n",
    "\n"
   ]
  },
  {
   "cell_type": "markdown",
   "metadata": {},
   "source": [
    "Želena rešitev:\n",
    "```\n",
    "        name  score\n",
    "c  Katherine   16.5\n",
    "d      James    NaN\n",
    "e      Emily    9.0\n",
    "```"
   ]
  },
  {
   "cell_type": "markdown",
   "metadata": {},
   "source": [
    "### 4.del - pandas 3/3"
   ]
  },
  {
   "cell_type": "markdown",
   "metadata": {},
   "source": [
    "`Možne točke: 5 pts`"
   ]
  },
  {
   "cell_type": "markdown",
   "metadata": {},
   "source": [
    "Dataframe `df_grade` za naslednji sklop nalog:"
   ]
  },
  {
   "cell_type": "code",
   "execution_count": 30,
   "metadata": {},
   "outputs": [],
   "source": [
    "df_grade = pd.DataFrame({'name': ['Anastasia', 'Dima', 'Katherine', 'James', 'Emily', 'Michael', 'Matthew', 'Laura', 'Kevin', 'Jonas'],\n",
    "'score': [12.5, 9, 16.5, np.nan, 9, 20, 14.5, np.nan, 8, 19],\n",
    "'attempts': [1, 3, 2, 3, 2, 3, 1, 1, 2, 1],\n",
    "'qualify': ['yes', 'no', 'yes', 'no', 'no', 'yes', 'yes', 'no', 'no', 'yes']}, \n",
    "index = ['a', 'b', 'c', 'd', 'e', 'f', 'g', 'h', 'i', 'j'])"
   ]
  },
  {
   "cell_type": "code",
   "execution_count": 31,
   "metadata": {},
   "outputs": [
    {
     "data": {
      "text/html": [
       "<div>\n",
       "<style scoped>\n",
       "    .dataframe tbody tr th:only-of-type {\n",
       "        vertical-align: middle;\n",
       "    }\n",
       "\n",
       "    .dataframe tbody tr th {\n",
       "        vertical-align: top;\n",
       "    }\n",
       "\n",
       "    .dataframe thead th {\n",
       "        text-align: right;\n",
       "    }\n",
       "</style>\n",
       "<table border=\"1\" class=\"dataframe\">\n",
       "  <thead>\n",
       "    <tr style=\"text-align: right;\">\n",
       "      <th></th>\n",
       "      <th>name</th>\n",
       "      <th>score</th>\n",
       "      <th>attempts</th>\n",
       "      <th>qualify</th>\n",
       "    </tr>\n",
       "  </thead>\n",
       "  <tbody>\n",
       "    <tr>\n",
       "      <th>a</th>\n",
       "      <td>Anastasia</td>\n",
       "      <td>12.5</td>\n",
       "      <td>1</td>\n",
       "      <td>yes</td>\n",
       "    </tr>\n",
       "    <tr>\n",
       "      <th>b</th>\n",
       "      <td>Dima</td>\n",
       "      <td>9.0</td>\n",
       "      <td>3</td>\n",
       "      <td>no</td>\n",
       "    </tr>\n",
       "    <tr>\n",
       "      <th>c</th>\n",
       "      <td>Katherine</td>\n",
       "      <td>16.5</td>\n",
       "      <td>2</td>\n",
       "      <td>yes</td>\n",
       "    </tr>\n",
       "    <tr>\n",
       "      <th>d</th>\n",
       "      <td>James</td>\n",
       "      <td>NaN</td>\n",
       "      <td>3</td>\n",
       "      <td>no</td>\n",
       "    </tr>\n",
       "    <tr>\n",
       "      <th>e</th>\n",
       "      <td>Emily</td>\n",
       "      <td>9.0</td>\n",
       "      <td>2</td>\n",
       "      <td>no</td>\n",
       "    </tr>\n",
       "    <tr>\n",
       "      <th>f</th>\n",
       "      <td>Michael</td>\n",
       "      <td>20.0</td>\n",
       "      <td>3</td>\n",
       "      <td>yes</td>\n",
       "    </tr>\n",
       "    <tr>\n",
       "      <th>g</th>\n",
       "      <td>Matthew</td>\n",
       "      <td>14.5</td>\n",
       "      <td>1</td>\n",
       "      <td>yes</td>\n",
       "    </tr>\n",
       "    <tr>\n",
       "      <th>h</th>\n",
       "      <td>Laura</td>\n",
       "      <td>NaN</td>\n",
       "      <td>1</td>\n",
       "      <td>no</td>\n",
       "    </tr>\n",
       "    <tr>\n",
       "      <th>i</th>\n",
       "      <td>Kevin</td>\n",
       "      <td>8.0</td>\n",
       "      <td>2</td>\n",
       "      <td>no</td>\n",
       "    </tr>\n",
       "    <tr>\n",
       "      <th>j</th>\n",
       "      <td>Jonas</td>\n",
       "      <td>19.0</td>\n",
       "      <td>1</td>\n",
       "      <td>yes</td>\n",
       "    </tr>\n",
       "  </tbody>\n",
       "</table>\n",
       "</div>"
      ],
      "text/plain": [
       "        name  score  attempts qualify\n",
       "a  Anastasia   12.5         1     yes\n",
       "b       Dima    9.0         3      no\n",
       "c  Katherine   16.5         2     yes\n",
       "d      James    NaN         3      no\n",
       "e      Emily    9.0         2      no\n",
       "f    Michael   20.0         3     yes\n",
       "g    Matthew   14.5         1     yes\n",
       "h      Laura    NaN         1      no\n",
       "i      Kevin    8.0         2      no\n",
       "j      Jonas   19.0         1     yes"
      ]
     },
     "execution_count": 31,
     "metadata": {},
     "output_type": "execute_result"
    }
   ],
   "source": [
    "df_grade"
   ]
  },
  {
   "cell_type": "markdown",
   "metadata": {},
   "source": [
    "##### 4.1)  Izbira podatkov glede na dani kriteriji `1 pts`"
   ]
  },
  {
   "cell_type": "markdown",
   "metadata": {},
   "source": [
    "Iz dataframe-a `df_grade` izberite vrstice, ki izpolnjujejo naslednja pogoja:\n",
    "- vrednost stolpca 'attempts' je **manjša ali enaka**  2,\n",
    "- vrednost stolpca 'score' je **večja** od 12."
   ]
  },
  {
   "cell_type": "code",
   "execution_count": 32,
   "metadata": {},
   "outputs": [
    {
     "name": "stderr",
     "output_type": "stream",
     "text": [
      "/home/katja/anaconda3/lib/python3.7/site-packages/ipykernel_launcher.py:2: UserWarning: Boolean Series key will be reindexed to match DataFrame index.\n",
      "  \n"
     ]
    },
    {
     "data": {
      "text/html": [
       "<div>\n",
       "<style scoped>\n",
       "    .dataframe tbody tr th:only-of-type {\n",
       "        vertical-align: middle;\n",
       "    }\n",
       "\n",
       "    .dataframe tbody tr th {\n",
       "        vertical-align: top;\n",
       "    }\n",
       "\n",
       "    .dataframe thead th {\n",
       "        text-align: right;\n",
       "    }\n",
       "</style>\n",
       "<table border=\"1\" class=\"dataframe\">\n",
       "  <thead>\n",
       "    <tr style=\"text-align: right;\">\n",
       "      <th></th>\n",
       "      <th>name</th>\n",
       "      <th>score</th>\n",
       "      <th>attempts</th>\n",
       "      <th>qualify</th>\n",
       "    </tr>\n",
       "  </thead>\n",
       "  <tbody>\n",
       "    <tr>\n",
       "      <th>a</th>\n",
       "      <td>Anastasia</td>\n",
       "      <td>12.5</td>\n",
       "      <td>1</td>\n",
       "      <td>yes</td>\n",
       "    </tr>\n",
       "    <tr>\n",
       "      <th>c</th>\n",
       "      <td>Katherine</td>\n",
       "      <td>16.5</td>\n",
       "      <td>2</td>\n",
       "      <td>yes</td>\n",
       "    </tr>\n",
       "    <tr>\n",
       "      <th>g</th>\n",
       "      <td>Matthew</td>\n",
       "      <td>14.5</td>\n",
       "      <td>1</td>\n",
       "      <td>yes</td>\n",
       "    </tr>\n",
       "    <tr>\n",
       "      <th>j</th>\n",
       "      <td>Jonas</td>\n",
       "      <td>19.0</td>\n",
       "      <td>1</td>\n",
       "      <td>yes</td>\n",
       "    </tr>\n",
       "  </tbody>\n",
       "</table>\n",
       "</div>"
      ],
      "text/plain": [
       "        name  score  attempts qualify\n",
       "a  Anastasia   12.5         1     yes\n",
       "c  Katherine   16.5         2     yes\n",
       "g    Matthew   14.5         1     yes\n",
       "j      Jonas   19.0         1     yes"
      ]
     },
     "execution_count": 32,
     "metadata": {},
     "output_type": "execute_result"
    }
   ],
   "source": [
    "#df_grade\n",
    "df_grade[df_grade['attempts']<=2][df_grade['score']>12]"
   ]
  },
  {
   "cell_type": "markdown",
   "metadata": {},
   "source": [
    "Želena rešitev:\n",
    "```\n",
    "        name  score  attempts qualify\n",
    "a  Anastasia   12.5         1     yes\n",
    "c  Katherine   16.5         2     yes\n",
    "g    Matthew   14.5         1     yes\n",
    "j      Jonas   19.0         1     yes\n",
    "```"
   ]
  },
  {
   "cell_type": "markdown",
   "metadata": {},
   "source": [
    "##### 4.2)  Sprememba vrednosti v dataframe-u `1 pts`"
   ]
  },
  {
   "cell_type": "markdown",
   "metadata": {},
   "source": [
    "V `df_grade`spremenite vrednost vrstice `d` in stolpca `score` v 11.5."
   ]
  },
  {
   "cell_type": "code",
   "execution_count": 33,
   "metadata": {},
   "outputs": [
    {
     "data": {
      "text/html": [
       "<div>\n",
       "<style scoped>\n",
       "    .dataframe tbody tr th:only-of-type {\n",
       "        vertical-align: middle;\n",
       "    }\n",
       "\n",
       "    .dataframe tbody tr th {\n",
       "        vertical-align: top;\n",
       "    }\n",
       "\n",
       "    .dataframe thead th {\n",
       "        text-align: right;\n",
       "    }\n",
       "</style>\n",
       "<table border=\"1\" class=\"dataframe\">\n",
       "  <thead>\n",
       "    <tr style=\"text-align: right;\">\n",
       "      <th></th>\n",
       "      <th>name</th>\n",
       "      <th>score</th>\n",
       "      <th>attempts</th>\n",
       "      <th>qualify</th>\n",
       "    </tr>\n",
       "  </thead>\n",
       "  <tbody>\n",
       "    <tr>\n",
       "      <th>a</th>\n",
       "      <td>Anastasia</td>\n",
       "      <td>12.5</td>\n",
       "      <td>1</td>\n",
       "      <td>yes</td>\n",
       "    </tr>\n",
       "    <tr>\n",
       "      <th>b</th>\n",
       "      <td>Dima</td>\n",
       "      <td>9.0</td>\n",
       "      <td>3</td>\n",
       "      <td>no</td>\n",
       "    </tr>\n",
       "    <tr>\n",
       "      <th>c</th>\n",
       "      <td>Katherine</td>\n",
       "      <td>16.5</td>\n",
       "      <td>2</td>\n",
       "      <td>yes</td>\n",
       "    </tr>\n",
       "    <tr>\n",
       "      <th>d</th>\n",
       "      <td>James</td>\n",
       "      <td>11.5</td>\n",
       "      <td>3</td>\n",
       "      <td>no</td>\n",
       "    </tr>\n",
       "    <tr>\n",
       "      <th>e</th>\n",
       "      <td>Emily</td>\n",
       "      <td>9.0</td>\n",
       "      <td>2</td>\n",
       "      <td>no</td>\n",
       "    </tr>\n",
       "    <tr>\n",
       "      <th>f</th>\n",
       "      <td>Michael</td>\n",
       "      <td>20.0</td>\n",
       "      <td>3</td>\n",
       "      <td>yes</td>\n",
       "    </tr>\n",
       "    <tr>\n",
       "      <th>g</th>\n",
       "      <td>Matthew</td>\n",
       "      <td>14.5</td>\n",
       "      <td>1</td>\n",
       "      <td>yes</td>\n",
       "    </tr>\n",
       "    <tr>\n",
       "      <th>h</th>\n",
       "      <td>Laura</td>\n",
       "      <td>NaN</td>\n",
       "      <td>1</td>\n",
       "      <td>no</td>\n",
       "    </tr>\n",
       "    <tr>\n",
       "      <th>i</th>\n",
       "      <td>Kevin</td>\n",
       "      <td>8.0</td>\n",
       "      <td>2</td>\n",
       "      <td>no</td>\n",
       "    </tr>\n",
       "    <tr>\n",
       "      <th>j</th>\n",
       "      <td>Jonas</td>\n",
       "      <td>19.0</td>\n",
       "      <td>1</td>\n",
       "      <td>yes</td>\n",
       "    </tr>\n",
       "  </tbody>\n",
       "</table>\n",
       "</div>"
      ],
      "text/plain": [
       "        name  score  attempts qualify\n",
       "a  Anastasia   12.5         1     yes\n",
       "b       Dima    9.0         3      no\n",
       "c  Katherine   16.5         2     yes\n",
       "d      James   11.5         3      no\n",
       "e      Emily    9.0         2      no\n",
       "f    Michael   20.0         3     yes\n",
       "g    Matthew   14.5         1     yes\n",
       "h      Laura    NaN         1      no\n",
       "i      Kevin    8.0         2      no\n",
       "j      Jonas   19.0         1     yes"
      ]
     },
     "execution_count": 33,
     "metadata": {},
     "output_type": "execute_result"
    }
   ],
   "source": [
    "df_grade.loc['d','score']=11.5\n",
    "df_grade"
   ]
  },
  {
   "cell_type": "markdown",
   "metadata": {},
   "source": [
    "Želena rešitev:\n",
    "```\n",
    "        name  score  attempts qualify\n",
    "a  Anastasia   12.5         1     yes\n",
    "b       Dima    9.0         3      no\n",
    "c  Katherine   16.5         2     yes\n",
    "d      James   11.5         3      no\n",
    "e      Emily    9.0         2      no\n",
    "f    Michael   20.0         3     yes\n",
    "g    Matthew   14.5         1     yes\n",
    "h      Laura    NaN         1      no\n",
    "i      Kevin    8.0         2      no\n",
    "j      Jonas   19.0         1     yes\n",
    "```"
   ]
  },
  {
   "cell_type": "markdown",
   "metadata": {},
   "source": [
    "##### 4.3) Izračun vsote `1 pts`"
   ]
  },
  {
   "cell_type": "markdown",
   "metadata": {},
   "source": [
    "Izračunajte vsoto stolpca `attempts` v `df_grade`."
   ]
  },
  {
   "cell_type": "code",
   "execution_count": 34,
   "metadata": {},
   "outputs": [
    {
     "name": "stdout",
     "output_type": "stream",
     "text": [
      "19\n"
     ]
    }
   ],
   "source": [
    "print (df_grade['attempts'].sum())\n"
   ]
  },
  {
   "cell_type": "markdown",
   "metadata": {},
   "source": [
    "Želen odgovor:\n",
    "\n",
    "```\n",
    "Vsota je 19\n",
    "```"
   ]
  },
  {
   "cell_type": "markdown",
   "metadata": {},
   "source": [
    "##### 4.4) Razvrščanje podatkov `2pts`"
   ]
  },
  {
   "cell_type": "markdown",
   "metadata": {},
   "source": [
    "Dataframe `df_grade` razvrstite glede na podatke v stolpcu `name`:\n",
    "- v padajočem vrstnem redu\n",
    "- v naraščajočem vrstnem redu\n"
   ]
  },
  {
   "cell_type": "code",
   "execution_count": 35,
   "metadata": {},
   "outputs": [
    {
     "data": {
      "text/html": [
       "<div>\n",
       "<style scoped>\n",
       "    .dataframe tbody tr th:only-of-type {\n",
       "        vertical-align: middle;\n",
       "    }\n",
       "\n",
       "    .dataframe tbody tr th {\n",
       "        vertical-align: top;\n",
       "    }\n",
       "\n",
       "    .dataframe thead th {\n",
       "        text-align: right;\n",
       "    }\n",
       "</style>\n",
       "<table border=\"1\" class=\"dataframe\">\n",
       "  <thead>\n",
       "    <tr style=\"text-align: right;\">\n",
       "      <th></th>\n",
       "      <th>name</th>\n",
       "      <th>score</th>\n",
       "      <th>attempts</th>\n",
       "      <th>qualify</th>\n",
       "    </tr>\n",
       "  </thead>\n",
       "  <tbody>\n",
       "    <tr>\n",
       "      <th>f</th>\n",
       "      <td>Michael</td>\n",
       "      <td>20.0</td>\n",
       "      <td>3</td>\n",
       "      <td>yes</td>\n",
       "    </tr>\n",
       "    <tr>\n",
       "      <th>g</th>\n",
       "      <td>Matthew</td>\n",
       "      <td>14.5</td>\n",
       "      <td>1</td>\n",
       "      <td>yes</td>\n",
       "    </tr>\n",
       "    <tr>\n",
       "      <th>h</th>\n",
       "      <td>Laura</td>\n",
       "      <td>NaN</td>\n",
       "      <td>1</td>\n",
       "      <td>no</td>\n",
       "    </tr>\n",
       "    <tr>\n",
       "      <th>i</th>\n",
       "      <td>Kevin</td>\n",
       "      <td>8.0</td>\n",
       "      <td>2</td>\n",
       "      <td>no</td>\n",
       "    </tr>\n",
       "    <tr>\n",
       "      <th>c</th>\n",
       "      <td>Katherine</td>\n",
       "      <td>16.5</td>\n",
       "      <td>2</td>\n",
       "      <td>yes</td>\n",
       "    </tr>\n",
       "    <tr>\n",
       "      <th>j</th>\n",
       "      <td>Jonas</td>\n",
       "      <td>19.0</td>\n",
       "      <td>1</td>\n",
       "      <td>yes</td>\n",
       "    </tr>\n",
       "    <tr>\n",
       "      <th>d</th>\n",
       "      <td>James</td>\n",
       "      <td>11.5</td>\n",
       "      <td>3</td>\n",
       "      <td>no</td>\n",
       "    </tr>\n",
       "    <tr>\n",
       "      <th>e</th>\n",
       "      <td>Emily</td>\n",
       "      <td>9.0</td>\n",
       "      <td>2</td>\n",
       "      <td>no</td>\n",
       "    </tr>\n",
       "    <tr>\n",
       "      <th>b</th>\n",
       "      <td>Dima</td>\n",
       "      <td>9.0</td>\n",
       "      <td>3</td>\n",
       "      <td>no</td>\n",
       "    </tr>\n",
       "    <tr>\n",
       "      <th>a</th>\n",
       "      <td>Anastasia</td>\n",
       "      <td>12.5</td>\n",
       "      <td>1</td>\n",
       "      <td>yes</td>\n",
       "    </tr>\n",
       "  </tbody>\n",
       "</table>\n",
       "</div>"
      ],
      "text/plain": [
       "        name  score  attempts qualify\n",
       "f    Michael   20.0         3     yes\n",
       "g    Matthew   14.5         1     yes\n",
       "h      Laura    NaN         1      no\n",
       "i      Kevin    8.0         2      no\n",
       "c  Katherine   16.5         2     yes\n",
       "j      Jonas   19.0         1     yes\n",
       "d      James   11.5         3      no\n",
       "e      Emily    9.0         2      no\n",
       "b       Dima    9.0         3      no\n",
       "a  Anastasia   12.5         1     yes"
      ]
     },
     "execution_count": 35,
     "metadata": {},
     "output_type": "execute_result"
    }
   ],
   "source": [
    "df_grade.sort_values(by='name', ascending=False)\n"
   ]
  },
  {
   "cell_type": "code",
   "execution_count": 36,
   "metadata": {},
   "outputs": [
    {
     "data": {
      "text/html": [
       "<div>\n",
       "<style scoped>\n",
       "    .dataframe tbody tr th:only-of-type {\n",
       "        vertical-align: middle;\n",
       "    }\n",
       "\n",
       "    .dataframe tbody tr th {\n",
       "        vertical-align: top;\n",
       "    }\n",
       "\n",
       "    .dataframe thead th {\n",
       "        text-align: right;\n",
       "    }\n",
       "</style>\n",
       "<table border=\"1\" class=\"dataframe\">\n",
       "  <thead>\n",
       "    <tr style=\"text-align: right;\">\n",
       "      <th></th>\n",
       "      <th>name</th>\n",
       "      <th>score</th>\n",
       "      <th>attempts</th>\n",
       "      <th>qualify</th>\n",
       "    </tr>\n",
       "  </thead>\n",
       "  <tbody>\n",
       "    <tr>\n",
       "      <th>a</th>\n",
       "      <td>Anastasia</td>\n",
       "      <td>12.5</td>\n",
       "      <td>1</td>\n",
       "      <td>yes</td>\n",
       "    </tr>\n",
       "    <tr>\n",
       "      <th>b</th>\n",
       "      <td>Dima</td>\n",
       "      <td>9.0</td>\n",
       "      <td>3</td>\n",
       "      <td>no</td>\n",
       "    </tr>\n",
       "    <tr>\n",
       "      <th>e</th>\n",
       "      <td>Emily</td>\n",
       "      <td>9.0</td>\n",
       "      <td>2</td>\n",
       "      <td>no</td>\n",
       "    </tr>\n",
       "    <tr>\n",
       "      <th>d</th>\n",
       "      <td>James</td>\n",
       "      <td>11.5</td>\n",
       "      <td>3</td>\n",
       "      <td>no</td>\n",
       "    </tr>\n",
       "    <tr>\n",
       "      <th>j</th>\n",
       "      <td>Jonas</td>\n",
       "      <td>19.0</td>\n",
       "      <td>1</td>\n",
       "      <td>yes</td>\n",
       "    </tr>\n",
       "    <tr>\n",
       "      <th>c</th>\n",
       "      <td>Katherine</td>\n",
       "      <td>16.5</td>\n",
       "      <td>2</td>\n",
       "      <td>yes</td>\n",
       "    </tr>\n",
       "    <tr>\n",
       "      <th>i</th>\n",
       "      <td>Kevin</td>\n",
       "      <td>8.0</td>\n",
       "      <td>2</td>\n",
       "      <td>no</td>\n",
       "    </tr>\n",
       "    <tr>\n",
       "      <th>h</th>\n",
       "      <td>Laura</td>\n",
       "      <td>NaN</td>\n",
       "      <td>1</td>\n",
       "      <td>no</td>\n",
       "    </tr>\n",
       "    <tr>\n",
       "      <th>g</th>\n",
       "      <td>Matthew</td>\n",
       "      <td>14.5</td>\n",
       "      <td>1</td>\n",
       "      <td>yes</td>\n",
       "    </tr>\n",
       "    <tr>\n",
       "      <th>f</th>\n",
       "      <td>Michael</td>\n",
       "      <td>20.0</td>\n",
       "      <td>3</td>\n",
       "      <td>yes</td>\n",
       "    </tr>\n",
       "  </tbody>\n",
       "</table>\n",
       "</div>"
      ],
      "text/plain": [
       "        name  score  attempts qualify\n",
       "a  Anastasia   12.5         1     yes\n",
       "b       Dima    9.0         3      no\n",
       "e      Emily    9.0         2      no\n",
       "d      James   11.5         3      no\n",
       "j      Jonas   19.0         1     yes\n",
       "c  Katherine   16.5         2     yes\n",
       "i      Kevin    8.0         2      no\n",
       "h      Laura    NaN         1      no\n",
       "g    Matthew   14.5         1     yes\n",
       "f    Michael   20.0         3     yes"
      ]
     },
     "execution_count": 36,
     "metadata": {},
     "output_type": "execute_result"
    }
   ],
   "source": [
    "df_grade.sort_values(by='name', ascending=True)"
   ]
  },
  {
   "cell_type": "markdown",
   "metadata": {},
   "source": [
    "Želena rešitev:\n",
    "    \n",
    "```\n",
    "        name  score  attempts qualify\n",
    "a  Anastasia   12.5         1     yes\n",
    "b       Dima    9.0         3      no\n",
    "e      Emily    9.0         2      no\n",
    "d      James   11.5         3      no\n",
    "j      Jonas   19.0         1     yes\n",
    "c  Katherine   16.5         2     yes\n",
    "i      Kevin    8.0         2      no\n",
    "h      Laura    NaN         1      no\n",
    "g    Matthew   14.5         1     yes\n",
    "f    Michael   20.0         3     yes\n",
    "\n",
    "in\n",
    "\n",
    "        name  score  attempts qualify\n",
    "f    Michael   20.0         3     yes\n",
    "g    Matthew   14.5         1     yes\n",
    "h      Laura    NaN         1      no\n",
    "i      Kevin    8.0         2      no\n",
    "c  Katherine   16.5         2     yes\n",
    "j      Jonas   19.0         1     yes\n",
    "d      James   11.5         3      no\n",
    "e      Emily    9.0         2      no\n",
    "b       Dima    9.0         3      no\n",
    "a  Anastasia   12.5         1     yes\n",
    "```"
   ]
  },
  {
   "cell_type": "markdown",
   "metadata": {},
   "source": [
    "### 5.del - matplotlib"
   ]
  },
  {
   "cell_type": "markdown",
   "metadata": {},
   "source": [
    "`Možne točke: 5 pts`"
   ]
  },
  {
   "cell_type": "markdown",
   "metadata": {},
   "source": [
    "Podatki za naloge:"
   ]
  },
  {
   "cell_type": "code",
   "execution_count": 37,
   "metadata": {},
   "outputs": [],
   "source": [
    "x1 = [1,2,3,4,5,6,7,8,9,10]\n",
    "y1 = [3,5,6,4,5,8,7,5,8,9]\n",
    "y2 = [12,16,17,15,14,18,20,16,13,11]"
   ]
  },
  {
   "cell_type": "markdown",
   "metadata": {},
   "source": [
    "##### 5.1) Naloga 1  `1 pts`\n",
    "\n",
    "Izrišite nepovezane točke (x1, y1). Točke naj bodo **rdeče** barve.\n",
    "\n",
    "Graf naj bo poimenovan **Naloga 1**.\n",
    "\n",
    "Os x naj bo poimenovana **os x**.\n",
    "\n",
    "Os y naj bo poimenovana **os y**."
   ]
  },
  {
   "cell_type": "code",
   "execution_count": 38,
   "metadata": {},
   "outputs": [
    {
     "data": {
      "image/png": "[encoded data removed]",
      "text/plain": [
       "<Figure size 640x480 with 1 Axes>"
      ]
     },
     "metadata": {
      "needs_background": "light"
     },
     "output_type": "display_data"
    }
   ],
   "source": [
    "plt.figure(figsize=(8,6), dpi=80)\n",
    "\n",
    "plt.plot(x1, y1,'.', c='red')\n",
    "\n",
    "plt.xlabel('os x') \n",
    "plt.ylabel('os y')\n",
    "\n",
    "\n",
    "plt.title('Naloga 1')\n",
    "plt.show()\n",
    "\n",
    "\n"
   ]
  },
  {
   "cell_type": "markdown",
   "metadata": {},
   "source": [
    "Želena rešitev:"
   ]
  },
  {
   "cell_type": "markdown",
   "metadata": {},
   "source": [
    "<img width=300 src=\"./data/slika2.png\">"
   ]
  },
  {
   "cell_type": "markdown",
   "metadata": {},
   "source": [
    "##### 5.2) Naloga 2  `1 pts`"
   ]
  },
  {
   "cell_type": "markdown",
   "metadata": {},
   "source": [
    "Ustvarite 2 grafa v isti figuri:\n",
    "- Na prvega zrišite graf povezanih točk (x1, y1). Graf naj bo **zelene barve**.\n",
    "- Na drugega izrišite graf povezanih točk (x1, y2). Graf naj bo **črne barve**."
   ]
  },
  {
   "cell_type": "code",
   "execution_count": 39,
   "metadata": {},
   "outputs": [
    {
     "data": {
      "image/png": "[encoded data removed]",
      "text/plain": [
       "<Figure size 432x288 with 2 Axes>"
      ]
     },
     "metadata": {
      "needs_background": "light"
     },
     "output_type": "display_data"
    }
   ],
   "source": [
    "plt.figure()\n",
    "plt.subplot(121)\n",
    "plt.plot(x1,y1,c='g')\n",
    "plt.subplot(122)\n",
    "plt.plot(x1,y2,c='k')\n",
    "plt.show()\n"
   ]
  },
  {
   "cell_type": "markdown",
   "metadata": {},
   "source": [
    "Želena rešitev:"
   ]
  },
  {
   "cell_type": "markdown",
   "metadata": {},
   "source": [
    "<img width=300 src=\"./data/slika5.png\">"
   ]
  },
  {
   "cell_type": "markdown",
   "metadata": {},
   "source": [
    "##### 5.3) Naloga 3  `1 pts`"
   ]
  },
  {
   "cell_type": "markdown",
   "metadata": {},
   "source": [
    "V isti graf izrišite povezane točke (x1, y1) in (x1, y2).\n",
    "\n",
    "Omejite y os na interval **od minimalne** vrednosti izmed podatkov y1 in y2, **do maksimalne** vrednosti izmed podatkov y1 in y2."
   ]
  },
  {
   "cell_type": "code",
   "execution_count": 40,
   "metadata": {},
   "outputs": [
    {
     "data": {
      "image/png": "[encoded data removed]",
      "text/plain": [
       "<Figure size 432x288 with 1 Axes>"
      ]
     },
     "metadata": {
      "needs_background": "light"
     },
     "output_type": "display_data"
    }
   ],
   "source": [
    "# Odgovor\n",
    "\n",
    "plt.figure()\n",
    "plt.plot(x1,y1)\n",
    "plt.plot(x1,y2)\n",
    "plt.ylim([min(min(y1,y2)),max(max(y1,y2))])\n",
    "plt.show()\n",
    "\n"
   ]
  },
  {
   "cell_type": "markdown",
   "metadata": {},
   "source": [
    "Želena rešitev:"
   ]
  },
  {
   "cell_type": "markdown",
   "metadata": {},
   "source": [
    "<img width=300 src=\"./data/slika3.png\">"
   ]
  },
  {
   "cell_type": "markdown",
   "metadata": {},
   "source": [
    "##### 5.4) Naloga 4  `1 pts`"
   ]
  },
  {
   "cell_type": "markdown",
   "metadata": {},
   "source": [
    "V isti graf izrišite povezane točke (x1, y1) in (x1, y2).\n",
    "\n",
    "Prvi nabor točk poimenujte **Podatki 1**, drugi nabor točk poimenujte **Podatki 2**.\n",
    "\n",
    "Na grafu prikažite legendo."
   ]
  },
  {
   "cell_type": "code",
   "execution_count": 41,
   "metadata": {},
   "outputs": [
    {
     "data": {
      "image/png": "[encoded data removed]",
      "text/plain": [
       "<Figure size 432x288 with 1 Axes>"
      ]
     },
     "metadata": {
      "needs_background": "light"
     },
     "output_type": "display_data"
    }
   ],
   "source": [
    "# Odgovor\n",
    "\n",
    "plt.figure()\n",
    "plt.plot(x1,y1,label='Podatki 1')\n",
    "plt.plot(x1,y2,label='Podatki 2')\n",
    "plt.legend()\n",
    "plt.show()\n",
    "\n",
    "\n"
   ]
  },
  {
   "cell_type": "markdown",
   "metadata": {},
   "source": [
    "Želena rešitev:"
   ]
  },
  {
   "cell_type": "markdown",
   "metadata": {},
   "source": [
    "<img width=300 src=\"./data/slika4.png\">"
   ]
  },
  {
   "cell_type": "markdown",
   "metadata": {},
   "source": [
    "##### 5.5) Naloga 5  `1 pts`"
   ]
  },
  {
   "cell_type": "markdown",
   "metadata": {},
   "source": [
    "V isti graf izrišite povezane točke (x1, y1) in (x1, y2).\n",
    "\n",
    "Nastavite, da graf izriše **pomožne črte** (grid).\n",
    "\n",
    "Na x osi nastavite **ticks** na **vsako drugo vrednost iz x1 seznama**."
   ]
  },
  {
   "cell_type": "code",
   "execution_count": 42,
   "metadata": {},
   "outputs": [
    {
     "data": {
      "image/png": "[encoded data removed]",
      "text/plain": [
       "<Figure size 432x288 with 1 Axes>"
      ]
     },
     "metadata": {
      "needs_background": "light"
     },
     "output_type": "display_data"
    }
   ],
   "source": [
    "# Odgovor\n",
    "\n",
    "plt.figure()\n",
    "plt.plot(x1,y1,label='Podatki 1')\n",
    "plt.plot(x1,y2,label='Podatki 2')\n",
    "plt.grid()\n",
    "plt.xticks(x1[1::2])\n",
    "plt.show()\n",
    "\n"
   ]
  },
  {
   "cell_type": "markdown",
   "metadata": {},
   "source": [
    "Želena rešitev:"
   ]
  },
  {
   "cell_type": "markdown",
   "metadata": {},
   "source": [
    "<img width=300 src=\"./data/slika1.png\">"
   ]
  },
  {
   "cell_type": "markdown",
   "metadata": {},
   "source": [
    "### 6.del - Webscraping "
   ]
  },
  {
   "cell_type": "markdown",
   "metadata": {},
   "source": [
    "`Možne točke: 5 pts`"
   ]
  },
  {
   "cell_type": "markdown",
   "metadata": {},
   "source": [
    "Podatki za naloge:"
   ]
  },
  {
   "cell_type": "code",
   "execution_count": 44,
   "metadata": {},
   "outputs": [],
   "source": [
    "link = \"https://en.wikipedia.org/w/index.php?title=Chernobyl_(miniseries)&direction=next&oldid=899952822\""
   ]
  },
  {
   "cell_type": "markdown",
   "metadata": {},
   "source": [
    "##### 6.1) HTTP GET  request `1 pts`"
   ]
  },
  {
   "cell_type": "markdown",
   "metadata": {},
   "source": [
    "Naredite http zahtevek na zgornjo spletno stran (spremenljivka `link`). Izpišite kodo uspešnosti zahtevka, ki vam jo vrne strežnik in html kodo strani."
   ]
  },
  {
   "cell_type": "code",
   "execution_count": 45,
   "metadata": {},
   "outputs": [
    {
     "data": {
      "text/plain": [
       "'<!DOCTYPE html>\\n<html class=\"client-nojs\" lang=\"en\" dir=\"ltr\">\\n<head>\\n<meta charset=\"UTF-8\"/>\\n<title>Chernobyl (miniseries) - Wikipedia</title>\\n<script>document.documentElement.className=document.documentElement.className.replace(/(^|\\\\s)client-nojs(\\\\s|$)/,\"$1client-js$2\");RLCONF={\"wgCanonicalNamespace\":\"\",\"wgCanonicalSpecialPageName\":!1,\"wgNamespaceNumber\":0,\"wgPageName\":\"Chernobyl_(miniseries)\",\"wgTitle\":\"Chernobyl (miniseries)\",\"wgCurRevisionId\":900605618,\"wgRevisionId\":899990733,\"wgArticleId\":55876266,\"wgIsArticle\":!0,\"wgIsRedirect\":!1,\"wgAction\":\"view\",\"wgUserName\":null,\"wgUserGroups\":[\"*\"],\"wgCategories\":[\"CS1 Lithuanian-language sources (lt)\",\"Articles with short description\",\"Use mdy dates from May 2019\",\"Pages using infobox television with editor parameter\",\"Interlanguage link template link number\",\"Episode lists with a non-matching set of numbered parameters\",\"Sky Atlantic television programmes\",\"2019 American television series debuts\",\"2019 British television programme debuts\",\"2010s American drama television miniseries\",\"2010s British television miniseries\",\"English-language television programs\",\"HBO network shows\",\\n\"Cultural depictions of Mikhail Gorbachev\",\"Television series set in 1986\",\"Television shows set in Moscow\",\"Works about the Chernobyl nuclear disaster\",\"Soviet Union in fiction\"],\"wgBreakFrames\":!1,\"wgPageContentLanguage\":\"en\",\"wgPageContentModel\":\"wikitext\",\"wgSeparatorTransformTable\":[\"\",\"\"],\"wgDigitTransformTable\":[\"\",\"\"],\"wgDefaultDateFormat\":\"dmy\",\"wgMonthNames\":[\"\",\"January\",\"February\",\"March\",\"April\",\"May\",\"June\",\"July\",\"August\",\"September\",\"October\",\"November\",\"December\"],\"wgMonthNamesShort\":[\"\",\"Jan\",\"Feb\",\"Mar\",\"Apr\",\"May\",\"Jun\",\"Jul\",\"Aug\",\"Sep\",\"Oct\",\"Nov\",\"Dec\"],\"wgRelevantPageName\":\"Chernobyl_(miniseries)\",\"wgRelevantArticleId\":55876266,\"wgRequestId\":\"XPlA7QpAADsAABkddyQAAAAH\",\"wgCSPNonce\":!1,\"wgIsProbablyEditable\":!0,\"wgRelevantPageIsProbablyEditable\":!0,\"wgRestrictionEdit\":[],\"wgRestrictionMove\":[],\"wgMediaViewerOnClick\":!0,\"wgMediaViewerEnabledByDefault\":!0,\"wgPopupsReferencePreviews\":!1,\"wgPopupsConflictsWithNavPopupGadget\":!1,\"wgVisualEditor\":{\\n\"pageLanguageCode\":\"en\",\"pageLanguageDir\":\"ltr\",\"pageVariantFallbacks\":\"en\"},\"wgMFDisplayWikibaseDescriptions\":{\"search\":!0,\"nearby\":!0,\"watchlist\":!0,\"tagline\":!1},\"wgWMESchemaEditAttemptStepOversample\":!1,\"wgPoweredByHHVM\":!0,\"wgULSCurrentAutonym\":\"English\",\"wgNoticeProject\":\"wikipedia\",\"wgCentralNoticeCategoriesUsingLegacy\":[\"Fundraising\",\"fundraising\"],\"wgWikibaseItemId\":\"Q48741246\",\"wgCentralAuthMobileDomain\":!1,\"wgEditSubmitButtonLabelPublish\":!0};RLSTATE={\"ext.gadget.charinsert-styles\":\"ready\",\"ext.globalCssJs.user.styles\":\"ready\",\"ext.globalCssJs.site.styles\":\"ready\",\"site.styles\":\"ready\",\"noscript\":\"ready\",\"user.styles\":\"ready\",\"ext.globalCssJs.user\":\"ready\",\"ext.globalCssJs.site\":\"ready\",\"user\":\"ready\",\"user.options\":\"ready\",\"user.tokens\":\"loading\",\"ext.cite.styles\":\"ready\",\"mediawiki.legacy.shared\":\"ready\",\"mediawiki.legacy.commonPrint\":\"ready\",\"jquery.tablesorter.styles\":\"ready\",\"mediawiki.toc.styles\":\"ready\",\"wikibase.client.init\":\"ready\",\\n\"ext.visualEditor.desktopArticleTarget.noscript\":\"ready\",\"ext.uls.interlanguage\":\"ready\",\"ext.wikimediaBadges\":\"ready\",\"ext.3d.styles\":\"ready\",\"mediawiki.skinning.interface\":\"ready\",\"skins.vector.styles\":\"ready\"};RLPAGEMODULES=[\"ext.cite.ux-enhancements\",\"site\",\"mediawiki.page.startup\",\"mediawiki.page.ready\",\"jquery.tablesorter\",\"mediawiki.toc\",\"mediawiki.searchSuggest\",\"ext.gadget.teahouse\",\"ext.gadget.ReferenceTooltips\",\"ext.gadget.watchlist-notice\",\"ext.gadget.DRN-wizard\",\"ext.gadget.charinsert\",\"ext.gadget.refToolbar\",\"ext.gadget.extra-toolbar-buttons\",\"ext.gadget.switcher\",\"ext.centralauth.centralautologin\",\"mmv.head\",\"mmv.bootstrap.autostart\",\"ext.popups\",\"ext.visualEditor.desktopArticleTarget.init\",\"ext.visualEditor.targetLoader\",\"ext.eventLogging\",\"ext.wikimediaEvents\",\"ext.navigationTiming\",\"ext.uls.compactlinks\",\"ext.uls.interface\",\"ext.quicksurveys.init\",\"ext.centralNotice.geoIP\",\"ext.centralNotice.startUp\",\"skins.vector.js\"];</script>\\n<script>(RLQ=window.RLQ||[]).push(function(){mw.loader.implement(\"user.tokens@0tffind\",function($,jQuery,require,module){/*@nomin*/mw.user.tokens.set({\"editToken\":\"+\\\\\\\\\",\"patrolToken\":\"+\\\\\\\\\",\"watchToken\":\"+\\\\\\\\\",\"csrfToken\":\"+\\\\\\\\\"});\\n});});</script>\\n<link rel=\"stylesheet\" href=\"/w/load.php?lang=en&amp;modules=ext.3d.styles%7Cext.cite.styles%7Cext.uls.interlanguage%7Cext.visualEditor.desktopArticleTarget.noscript%7Cext.wikimediaBadges%7Cjquery.tablesorter.styles%7Cmediawiki.legacy.commonPrint%2Cshared%7Cmediawiki.skinning.interface%7Cmediawiki.toc.styles%7Cskins.vector.styles%7Cwikibase.client.init&amp;only=styles&amp;skin=vector\"/>\\n<script async=\"\" src=\"/w/load.php?lang=en&amp;modules=startup&amp;only=scripts&amp;skin=vector\"></script>\\n<meta name=\"ResourceLoaderDynamicStyles\" content=\"\"/>\\n<link rel=\"stylesheet\" href=\"/w/load.php?lang=en&amp;modules=ext.gadget.charinsert-styles&amp;only=styles&amp;skin=vector\"/>\\n<link rel=\"stylesheet\" href=\"/w/load.php?lang=en&amp;modules=site.styles&amp;only=styles&amp;skin=vector\"/>\\n<meta name=\"generator\" content=\"MediaWiki 1.34.0-wmf.8\"/>\\n<meta name=\"referrer\" content=\"origin\"/>\\n<meta name=\"referrer\" content=\"origin-when-crossorigin\"/>\\n<meta name=\"referrer\" content=\"origin-when-cross-origin\"/>\\n<meta name=\"robots\" content=\"noindex,nofollow\"/>\\n<meta property=\"og:image\" content=\"https://upload.wikimedia.org/wikipedia/en/a/a7/Chernobyl_2019_Miniseries.jpg\"/>\\n<link rel=\"alternate\" type=\"application/x-wiki\" title=\"Edit this page\" href=\"/w/index.php?title=Chernobyl_(miniseries)&amp;action=edit\"/>\\n<link rel=\"edit\" title=\"Edit this page\" href=\"/w/index.php?title=Chernobyl_(miniseries)&amp;action=edit\"/>\\n<link rel=\"apple-touch-icon\" href=\"/static/apple-touch/wikipedia.png\"/>\\n<link rel=\"shortcut icon\" href=\"/static/favicon/wikipedia.ico\"/>\\n<link rel=\"search\" type=\"application/opensearchdescription+xml\" href=\"/w/opensearch_desc.php\" title=\"Wikipedia (en)\"/>\\n<link rel=\"EditURI\" type=\"application/rsd+xml\" href=\"//en.wikipedia.org/w/api.php?action=rsd\"/>\\n<link rel=\"license\" href=\"//creativecommons.org/licenses/by-sa/3.0/\"/>\\n<link rel=\"alternate\" type=\"application/atom+xml\" title=\"Wikipedia Atom feed\" href=\"/w/index.php?title=Special:RecentChanges&amp;feed=atom\"/>\\n<link rel=\"canonical\" href=\"https://en.wikipedia.org/wiki/Chernobyl_(miniseries)\"/>\\n<link rel=\"dns-prefetch\" href=\"//login.wikimedia.org\"/>\\n<link rel=\"dns-prefetch\" href=\"//meta.wikimedia.org\" />\\n<!--[if lt IE 9]><script src=\"/w/load.php?lang=qqx&amp;modules=html5shiv&amp;only=scripts&amp;skin=fallback&amp;sync=1\"></script><![endif]-->\\n</head>\\n<body class=\"mediawiki ltr sitedir-ltr mw-hide-empty-elt ns-0 ns-subject mw-editable page-Chernobyl_miniseries rootpage-Chernobyl_miniseries skin-vector action-view\">\\n<div id=\"mw-page-base\" class=\"noprint\"></div>\\n<div id=\"mw-head-base\" class=\"noprint\"></div>\\n<div id=\"content\" class=\"mw-body\" role=\"main\">\\n\\t<a id=\"top\"></a>\\n\\t<div id=\"siteNotice\" class=\"mw-body-content\"><!-- CentralNotice --></div>\\n\\t<div class=\"mw-indicators mw-body-content\">\\n</div>\\n\\n\\t<h1 id=\"firstHeading\" class=\"firstHeading\" lang=\"en\"><i>Chernobyl</i> (miniseries)</h1>\\n\\t\\n\\t<div id=\"bodyContent\" class=\"mw-body-content\">\\n\\t\\t<div id=\"siteSub\" class=\"noprint\">From Wikipedia, the free encyclopedia</div>\\n\\t\\t<div id=\"contentSub\"><div class=\"mw-revision\"><div id=\"mw-revision-info\"><table id=\"revision-info\" class=\"plainlinks fmbox fmbox-warning\" role=\"presentation\"><tbody><tr><td class=\"mbox-text\"><b>This is an <a href=\"/wiki/Help:Page_history\" title=\"Help:Page history\">old revision</a> of this page, as edited by <span id=\"mw-revision-name\"><a href=\"/wiki/User:Sock\" class=\"mw-userlink\" title=\"User:Sock\"><bdi>Sock</bdi></a> <span class=\"mw-usertoollinks\">(<a href=\"/wiki/User_talk:Sock\" class=\"mw-usertoollinks-talk\" title=\"User talk:Sock\">talk</a> | <a href=\"/wiki/Special:Contributions/Sock\" class=\"mw-usertoollinks-contribs\" title=\"Special:Contributions/Sock\">contribs</a>)</span></span> at <span id=\"mw-revision-date\">18:43, 2 June 2019</span><span id=\"mw-revision-summary\"> <span class=\"comment\">(<span dir=\"auto\"><span class=\"autocomment\"><a href=\"#Recurring\">→\\u200eRecurring</a>: </span> SIUR is starshiy inzhener upravleniya reaktorom, which loosely translates to senior reactor control engineer</span>)</span></span>. The present address (URL) is a <a href=\"/wiki/Help:Permanent_link\" title=\"Help:Permanent link\">permanent link</a> to this revision, which may differ significantly from the <span class=\"plainlinks\"><a class=\"external text\" href=\"//en.wikipedia.org/wiki/Chernobyl_(miniseries)\">current revision</a></span>.</b></td></tr></tbody></table><div id=\"revision-info-plain\" style=\"display: none;\">Revision as of 18:43, 2 June 2019 by <a href=\"/wiki/User:Sock\" class=\"mw-userlink\" title=\"User:Sock\"><bdi>Sock</bdi></a> <span class=\"mw-usertoollinks\">(<a href=\"/wiki/User_talk:Sock\" class=\"mw-usertoollinks-talk\" title=\"User talk:Sock\">talk</a> | <a href=\"/wiki/Special:Contributions/Sock\" class=\"mw-usertoollinks-contribs\" title=\"Special:Contributions/Sock\">contribs</a>)</span> <span class=\"comment\">(<span dir=\"auto\"><span class=\"autocomment\"><a href=\"#Recurring\">→\\u200eRecurring</a>: </span> SIUR is starshiy inzhener upravleniya reaktorom, which loosely translates to senior reactor control engineer</span>)</span></div></div><div id=\"mw-revision-nav\">(<a href=\"/w/index.php?title=Chernobyl_(miniseries)&amp;diff=prev&amp;oldid=899990733\" title=\"Chernobyl (miniseries)\">diff</a>) <a href=\"/w/index.php?title=Chernobyl_(miniseries)&amp;direction=prev&amp;oldid=899990733\" title=\"Chernobyl (miniseries)\">← Previous revision</a> | <a href=\"/wiki/Chernobyl_(miniseries)\" title=\"Chernobyl (miniseries)\">Latest revision</a> (<a href=\"/w/index.php?title=Chernobyl_(miniseries)&amp;diff=cur&amp;oldid=899990733\" title=\"Chernobyl (miniseries)\">diff</a>) | <a href=\"/w/index.php?title=Chernobyl_(miniseries)&amp;direction=next&amp;oldid=899990733\" title=\"Chernobyl (miniseries)\">Newer revision →</a> (<a href=\"/w/index.php?title=Chernobyl_(miniseries)&amp;diff=next&amp;oldid=899990733\" title=\"Chernobyl (miniseries)\">diff</a>)</div></div></div>\\n\\t\\t\\n\\t\\t\\n\\t\\t\\n\\t\\t<div id=\"jump-to-nav\"></div>\\n\\t\\t<a class=\"mw-jump-link\" href=\"#mw-head\">Jump to navigation</a>\\n\\t\\t<a class=\"mw-jump-link\" href=\"#p-search\">Jump to search</a>\\n\\t\\t<div id=\"mw-content-text\" lang=\"en\" dir=\"ltr\" class=\"mw-content-ltr\"><div class=\"mw-parser-output\"><div class=\"shortdescription nomobile noexcerpt noprint searchaux\" style=\"display:none\">2019 historical drama miniseries about the Chernobyl nuclear disaster</div>\\n<p class=\"mw-empty-elt\">\\n</p>\\n<table class=\"infobox vevent\" style=\"width:22em\"><tbody><tr><th colspan=\"2\" class=\"summary\" style=\"text-align:center;font-size:125%;font-weight:bold;font-style: italic; background: #CCCCFF; padding: 0.25em 1em; line-height: 1.5em; line-height: normal;\">Chernobyl</th></tr><tr><td colspan=\"2\" style=\"text-align:center\"><a href=\"/wiki/File:Chernobyl_2019_Miniseries.jpg\" class=\"image\"><img alt=\"Chernobyl 2019 Miniseries.jpg\" src=\"//upload.wikimedia.org/wikipedia/en/a/a7/Chernobyl_2019_Miniseries.jpg\" decoding=\"async\" width=\"250\" height=\"370\" data-file-width=\"250\" data-file-height=\"370\" /></a></td></tr><tr><th scope=\"row\">Genre</th><td class=\"category\"><a href=\"/wiki/Historical_drama\" class=\"mw-redirect\" title=\"Historical drama\">Historical drama</a></td></tr><tr><th scope=\"row\">Created by</th><td><a href=\"/wiki/Craig_Mazin\" title=\"Craig Mazin\">Craig Mazin</a></td></tr><tr><th scope=\"row\">Written by</th><td>Craig Mazin</td></tr><tr><th scope=\"row\">Directed by</th><td class=\"attendee\"><a href=\"/wiki/Johan_Renck\" title=\"Johan Renck\">Johan Renck</a></td></tr><tr><th scope=\"row\">Starring</th><td class=\"attendee\"><div class=\"plainlist\">\\n<ul><li><a href=\"/wiki/Jared_Harris\" title=\"Jared Harris\">Jared Harris</a></li>\\n<li><a href=\"/wiki/Stellan_Skarsg%C3%A5rd\" title=\"Stellan Skarsgård\">Stellan Skarsgård</a></li>\\n<li><a href=\"/wiki/Paul_Ritter_(actor)\" title=\"Paul Ritter (actor)\">Paul Ritter</a></li>\\n<li><a href=\"/wiki/Jessie_Buckley\" title=\"Jessie Buckley\">Jessie Buckley</a></li>\\n<li><a href=\"/wiki/Adam_Nagaitis\" title=\"Adam Nagaitis\">Adam Nagaitis</a></li>\\n<li><a href=\"/wiki/Con_O%27Neill_(actor)\" title=\"Con O&#39;Neill (actor)\">Con O\\'Neill</a></li>\\n<li><a href=\"/wiki/Adrian_Rawlins\" title=\"Adrian Rawlins\">Adrian Rawlins</a></li>\\n<li><a href=\"/wiki/Sam_Troughton\" title=\"Sam Troughton\">Sam Troughton</a></li>\\n<li><a href=\"/wiki/Robert_Emms\" title=\"Robert Emms\">Robert Emms</a></li>\\n<li><a href=\"/wiki/Emily_Watson\" title=\"Emily Watson\">Emily Watson</a></li>\\n<li><a href=\"/wiki/David_Dencik\" title=\"David Dencik\">David Dencik</a></li>\\n<li><a href=\"/wiki/Mark_Lewis_Jones\" title=\"Mark Lewis Jones\">Mark Lewis Jones</a></li>\\n<li><a href=\"/wiki/Alan_Williams_(actor)\" title=\"Alan Williams (actor)\">Alan Williams</a></li>\\n<li><a href=\"/wiki/Alex_Ferns\" title=\"Alex Ferns\">Alex Ferns</a></li>\\n<li><a href=\"/wiki/Ralph_Ineson\" title=\"Ralph Ineson\">Ralph Ineson</a></li>\\n<li><a href=\"/wiki/Barry_Keoghan\" title=\"Barry Keoghan\">Barry Keoghan</a></li>\\n<li><a href=\"/wiki/Fares_Fares\" title=\"Fares Fares\">Fares Fares</a></li></ul>\\n</div></td></tr><tr><th scope=\"row\">Composer(s)</th><td><a href=\"/wiki/Hildur_Gu%C3%B0nad%C3%B3ttir\" title=\"Hildur Guðnadóttir\">Hildur Guðnadóttir</a></td></tr><tr><th scope=\"row\">Country of origin</th><td><div class=\"plainlist\">\\n<ul><li>United States</li>\\n<li>United Kingdom</li></ul>\\n</div></td></tr><tr><th scope=\"row\">Original <span class=\"nowrap\">language(s)</span></th><td>English</td></tr><tr><th scope=\"row\"><abbr title=\"Number\">No.</abbr> of episodes</th><td>4 <span class=\"nowrap\">(<a href=\"#Episodes\">list of episodes</a>)</span></td></tr><tr><th colspan=\"2\" class=\"summary\" style=\"text-align:center;background: #CCCCFF; padding: 0.25em 1em; line-height: 1.5em;\">Production</th></tr><tr><th scope=\"row\">Executive <span class=\"nowrap\">producer(s)</span></th><td><div class=\"plainlist\">\\n<ul><li>Craig Mazin</li>\\n<li><a href=\"/wiki/Carolyn_Strauss\" title=\"Carolyn Strauss\">Carolyn Strauss</a></li>\\n<li><a href=\"/wiki/Jane_Featherstone\" title=\"Jane Featherstone\">Jane Featherstone</a></li></ul>\\n</div></td></tr><tr><th scope=\"row\"><span class=\"nowrap\">Producer(s)</span></th><td><a href=\"/wiki/Sanne_Wohlenberg\" title=\"Sanne Wohlenberg\">Sanne Wohlenberg</a></td></tr><tr><th scope=\"row\">Production location(s)</th><td><a href=\"/wiki/Lithuania\" title=\"Lithuania\">Lithuania</a><br /><a href=\"/wiki/Ukraine\" title=\"Ukraine\">Ukraine</a></td></tr><tr><th scope=\"row\">Cinematography</th><td>Jakob Ihre</td></tr><tr><th scope=\"row\">Editor(s)</th><td>Jinx Godfrey</td></tr><tr><th scope=\"row\">Camera setup</th><td><a href=\"/wiki/Single-camera_setup\" title=\"Single-camera setup\">Single-camera</a></td></tr><tr><th scope=\"row\">Running time</th><td>60–72 minutes</td></tr><tr><th scope=\"row\">Production <span class=\"nowrap\">company(s)</span></th><td><div class=\"plainlist\">\\n<ul><li>Sister Pictures</li>\\n<li>The Mighty Mint</li>\\n<li>Word Games</li></ul>\\n</div></td></tr><tr><th colspan=\"2\" class=\"summary\" style=\"text-align:center;background: #CCCCFF; padding: 0.25em 1em; line-height: 1.5em;\">Release</th></tr><tr><th scope=\"row\">Original network</th><td><div class=\"plainlist\">\\n<ul><li><a href=\"/wiki/HBO\" title=\"HBO\">HBO</a> <span style=\"font-size:85%;\">(US)</span></li>\\n<li><a href=\"/wiki/Sky_Atlantic\" title=\"Sky Atlantic\">Sky Atlantic</a> <span style=\"font-size:85%;\">(UK)</span></li></ul>\\n</div></td></tr><tr><th scope=\"row\">Original release</th><td>May 6, 2019<span style=\"display:none\">&#160;(<span class=\"bday dtstart published updated\">2019-05-06</span>)</span>&#160;–<br />present<span style=\"display:none\">&#160;(<span class=\"dtend\">present</span>)</span></td></tr><tr><th colspan=\"2\" class=\"summary\" style=\"text-align:center;background: #CCCCFF; padding: 0.25em 1em; line-height: 1.5em;\">External links</th></tr><tr><td colspan=\"2\" class=\"url\" style=\"text-align:center\"><a rel=\"nofollow\" class=\"external text\" href=\"https://www.hbo.com/chernobyl\">Website</a></td></tr></tbody></table>\\n<p><i><b>Chernobyl</b></i> is a five-part <a href=\"/wiki/Historical_drama\" class=\"mw-redirect\" title=\"Historical drama\">historical drama</a> television <a href=\"/wiki/Miniseries\" title=\"Miniseries\">miniseries</a> created and written by <a href=\"/wiki/Craig_Mazin\" title=\"Craig Mazin\">Craig Mazin</a>, and directed by <a href=\"/wiki/Johan_Renck\" title=\"Johan Renck\">Johan Renck</a>. A co-production between <a href=\"/wiki/HBO\" title=\"HBO\">HBO</a> and <a href=\"/wiki/Sky_UK\" title=\"Sky UK\">Sky UK</a>, it depicts the <a href=\"/wiki/Chernobyl_nuclear_disaster\" class=\"mw-redirect\" title=\"Chernobyl nuclear disaster\">Chernobyl nuclear disaster</a> of April 1986 and the unprecedented cleanup efforts that followed. It features an <a href=\"/wiki/Ensemble_cast\" title=\"Ensemble cast\">ensemble cast</a> consisting of primarily European performers, led by <a href=\"/wiki/Jared_Harris\" title=\"Jared Harris\">Jared Harris</a>, <a href=\"/wiki/Stellan_Skarsg%C3%A5rd\" title=\"Stellan Skarsgård\">Stellan Skarsgård</a>, <a href=\"/wiki/Emily_Watson\" title=\"Emily Watson\">Emily Watson</a>, and <a href=\"/wiki/Paul_Ritter_(actor)\" title=\"Paul Ritter (actor)\">Paul Ritter</a>. The series premiered in the United States on May 6, 2019, and in the United Kingdom on May 7, 2019. It has been strongly praised by television critics in the US and UK alike.\\n</p>\\n<div id=\"toc\" class=\"toc\"><input type=\"checkbox\" role=\"button\" id=\"toctogglecheckbox\" class=\"toctogglecheckbox\" style=\"display:none\" /><div class=\"toctitle\" lang=\"en\" dir=\"ltr\"><h2>Contents</h2><span class=\"toctogglespan\"><label class=\"toctogglelabel\" for=\"toctogglecheckbox\"></label></span></div>\\n<ul>\\n<li class=\"toclevel-1 tocsection-1\"><a href=\"#Premise\"><span class=\"tocnumber\">1</span> <span class=\"toctext\">Premise</span></a></li>\\n<li class=\"toclevel-1 tocsection-2\"><a href=\"#Cast\"><span class=\"tocnumber\">2</span> <span class=\"toctext\">Cast</span></a>\\n<ul>\\n<li class=\"toclevel-2 tocsection-3\"><a href=\"#Main\"><span class=\"tocnumber\">2.1</span> <span class=\"toctext\">Main</span></a></li>\\n<li class=\"toclevel-2 tocsection-4\"><a href=\"#Recurring\"><span class=\"tocnumber\">2.2</span> <span class=\"toctext\">Recurring</span></a></li>\\n<li class=\"toclevel-2 tocsection-5\"><a href=\"#Guest\"><span class=\"tocnumber\">2.3</span> <span class=\"toctext\">Guest</span></a></li>\\n</ul>\\n</li>\\n<li class=\"toclevel-1 tocsection-6\"><a href=\"#Episodes\"><span class=\"tocnumber\">3</span> <span class=\"toctext\">Episodes</span></a></li>\\n<li class=\"toclevel-1 tocsection-7\"><a href=\"#Production\"><span class=\"tocnumber\">4</span> <span class=\"toctext\">Production</span></a>\\n<ul>\\n<li class=\"toclevel-2 tocsection-8\"><a href=\"#Development_and_writing\"><span class=\"tocnumber\">4.1</span> <span class=\"toctext\">Development and writing</span></a></li>\\n<li class=\"toclevel-2 tocsection-9\"><a href=\"#Casting\"><span class=\"tocnumber\">4.2</span> <span class=\"toctext\">Casting</span></a></li>\\n<li class=\"toclevel-2 tocsection-10\"><a href=\"#Filming\"><span class=\"tocnumber\">4.3</span> <span class=\"toctext\">Filming</span></a></li>\\n</ul>\\n</li>\\n<li class=\"toclevel-1 tocsection-11\"><a href=\"#Reception\"><span class=\"tocnumber\">5</span> <span class=\"toctext\">Reception</span></a>\\n<ul>\\n<li class=\"toclevel-2 tocsection-12\"><a href=\"#Critical_response\"><span class=\"tocnumber\">5.1</span> <span class=\"toctext\">Critical response</span></a></li>\\n<li class=\"toclevel-2 tocsection-13\"><a href=\"#US_ratings\"><span class=\"tocnumber\">5.2</span> <span class=\"toctext\">US ratings</span></a></li>\\n</ul>\\n</li>\\n<li class=\"toclevel-1 tocsection-14\"><a href=\"#References\"><span class=\"tocnumber\">6</span> <span class=\"toctext\">References</span></a></li>\\n<li class=\"toclevel-1 tocsection-15\"><a href=\"#External_links\"><span class=\"tocnumber\">7</span> <span class=\"toctext\">External links</span></a></li>\\n</ul>\\n</div>\\n\\n<h2><span class=\"mw-headline\" id=\"Premise\">Premise</span></h2>\\n<p><i>Chernobyl</i> dramatizes the true story of one of the worst man-made catastrophes in history, and tells of the men and women tasked with its cleanup. The miniseries focuses on the <a href=\"/wiki/Chernobyl_disaster\" title=\"Chernobyl disaster\">nuclear plant disaster</a> that occurred in <a href=\"/wiki/Soviet_Ukraine\" class=\"mw-redirect\" title=\"Soviet Ukraine\">Soviet Ukraine</a> in April 1986, revealing how and why it happened, and telling the stories of several people who died.<sup id=\"cite_ref-SeriesOrder1_1-0\" class=\"reference\"><a href=\"#cite_note-SeriesOrder1-1\">&#91;1&#93;</a></sup>\\n</p><p>The miniseries is based in large part on the memories of <a href=\"/wiki/Pripyat\" title=\"Pripyat\">Pripyat</a> locals, as told by Belarusian Nobel laureate <a href=\"/wiki/Svetlana_Alexievich\" title=\"Svetlana Alexievich\">Svetlana Alexievich</a> in her book, <i><a href=\"/wiki/Voices_from_Chernobyl\" title=\"Voices from Chernobyl\">Voices from Chernobyl</a></i>.<sup id=\"cite_ref-Alexievich_2-0\" class=\"reference\"><a href=\"#cite_note-Alexievich-2\">&#91;2&#93;</a></sup>\\n</p>\\n<h2><span class=\"mw-headline\" id=\"Cast\">Cast</span></h2>\\n<h3><span class=\"mw-headline\" id=\"Main\">Main</span></h3>\\n<ul><li><a href=\"/wiki/Jared_Harris\" title=\"Jared Harris\">Jared Harris</a> as <a href=\"/wiki/Valery_Legasov\" title=\"Valery Legasov\">Valery Legasov</a>, the deputy director of the <a href=\"/wiki/Kurchatov_Institute\" title=\"Kurchatov Institute\">Kurchatov Institute</a> brought in to aid cleanup efforts.</li>\\n<li><a href=\"/wiki/Stellan_Skarsg%C3%A5rd\" title=\"Stellan Skarsgård\">Stellan Skarsgård</a> as <a href=\"/wiki/Boris_Shcherbina\" title=\"Boris Shcherbina\">Boris Shcherbina</a>, the <a href=\"/wiki/Council_of_Ministers_of_Russia\" title=\"Council of Ministers of Russia\">Council of Ministers</a>\\' deputy chairman.</li>\\n<li><a href=\"/wiki/Emily_Watson\" title=\"Emily Watson\">Emily Watson</a> as Ulana Khomyuk, a <a href=\"/wiki/Nuclear_physicist\" class=\"mw-redirect\" title=\"Nuclear physicist\">nuclear physicist</a> from <a href=\"/wiki/Minsk\" title=\"Minsk\">Minsk</a>. Khomyuk is a fictional <a href=\"/wiki/Composite_character\" title=\"Composite character\">composite character</a>, with Watson saying that she \"represents the many scientists who worked fearlessly and put themselves in a lot of danger to help solve the situation.\"<sup id=\"cite_ref-3\" class=\"reference\"><a href=\"#cite_note-3\">&#91;3&#93;</a></sup></li>\\n<li><a href=\"/wiki/Paul_Ritter_(actor)\" title=\"Paul Ritter (actor)\">Paul Ritter</a> as <a href=\"/wiki/Anatoly_Dyatlov\" title=\"Anatoly Dyatlov\">Anatoly Dyatlov</a>, the assistant chief engineer at the <a href=\"/wiki/Chernobyl_Nuclear_Power_Plant\" title=\"Chernobyl Nuclear Power Plant\">Chernobyl Nuclear Power Plant</a>.</li>\\n<li><a href=\"/wiki/Jessie_Buckley\" title=\"Jessie Buckley\">Jessie Buckley</a> as Lyudmilla Ignatenko, the wife of Vasily Ignatenko.</li>\\n<li><a href=\"/wiki/Adam_Nagaitis\" title=\"Adam Nagaitis\">Adam Nagaitis</a> as <a href=\"/w/index.php?title=Vasily_Ignatenko&amp;action=edit&amp;redlink=1\" class=\"new\" title=\"Vasily Ignatenko (page does not exist)\">Vasily Ignatenko</a><span class=\"noprint\" style=\"font-size:85%; font-style: normal;\">&#160;&#91;<a href=\"https://ru.wikipedia.org/wiki/%D0%98%D0%B3%D0%BD%D0%B0%D1%82%D0%B5%D0%BD%D0%BA%D0%BE,_%D0%92%D0%B0%D1%81%D0%B8%D0%BB%D0%B8%D0%B9_%D0%98%D0%B2%D0%B0%D0%BD%D0%BE%D0%B2%D0%B8%D1%87\" class=\"extiw\" title=\"ru:Игнатенко, Василий Иванович\">ru</a>&#93;</span>, a <a href=\"/wiki/Pripyat\" title=\"Pripyat\">Pripyat</a> firefighter and first responder to the Chernobyl fire.</li>\\n<li><a href=\"/wiki/Con_O%27Neill_(actor)\" title=\"Con O&#39;Neill (actor)\">Con O\\'Neill</a> as <a href=\"/wiki/Individual_involvement_in_the_Chernobyl_disaster#Viktor_Bryukhanov\" title=\"Individual involvement in the Chernobyl disaster\">Viktor Bryukhanov</a>, the manager of Chernobyl.</li>\\n<li><a href=\"/wiki/Adrian_Rawlins\" title=\"Adrian Rawlins\">Adrian Rawlins</a> as <a href=\"/wiki/Individual_involvement_in_the_Chernobyl_disaster#Nikolai_Fomin\" title=\"Individual involvement in the Chernobyl disaster\">Nikolai Fomin</a>, the chief engineer at Chernobyl.</li>\\n<li><a href=\"/wiki/Sam_Troughton\" title=\"Sam Troughton\">Sam Troughton</a> as <a href=\"/wiki/Aleksandr_Akimov\" title=\"Aleksandr Akimov\">Aleksandr Akimov</a>, the night shift supervisor at Chernobyl.</li>\\n<li><a href=\"/wiki/Robert_Emms\" title=\"Robert Emms\">Robert Emms</a> as Leonid Toptunov, the senior engineer at Chernobyl.</li>\\n<li><a href=\"/wiki/David_Dencik\" title=\"David Dencik\">David Dencik</a> as <a href=\"/wiki/Mikhail_Gorbachev\" title=\"Mikhail Gorbachev\">Mikhail Gorbachev</a>, the <a href=\"/wiki/General_Secretary_of_the_Communist_Party_of_the_Soviet_Union\" title=\"General Secretary of the Communist Party of the Soviet Union\">General Secretary of the CPSU</a>.</li>\\n<li><a href=\"/wiki/Mark_Lewis_Jones\" title=\"Mark Lewis Jones\">Mark Lewis Jones</a> as <a href=\"/w/index.php?title=Vladimir_Pikalov&amp;action=edit&amp;redlink=1\" class=\"new\" title=\"Vladimir Pikalov (page does not exist)\">Vladimir Pikalov</a><span class=\"noprint\" style=\"font-size:85%; font-style: normal;\">&#160;&#91;<a href=\"https://ru.wikipedia.org/wiki/%D0%9F%D0%B8%D0%BA%D0%B0%D0%BB%D0%BE%D0%B2,_%D0%92%D0%BB%D0%B0%D0%B4%D0%B8%D0%BC%D0%B8%D1%80_%D0%9A%D0%B0%D1%80%D0%BF%D0%BE%D0%B2%D0%B8%D1%87\" class=\"extiw\" title=\"ru:Пикалов, Владимир Карпович\">ru</a>&#93;</span>, the commander of the Soviet chemical forces.</li>\\n<li><a href=\"/wiki/Alan_Williams_(actor)\" title=\"Alan Williams (actor)\">Alan Williams</a> as <a href=\"/w/index.php?title=Aleksandr_Charkov&amp;action=edit&amp;redlink=1\" class=\"new\" title=\"Aleksandr Charkov (page does not exist)\">Aleksandr Charkov</a><span class=\"noprint\" style=\"font-size:85%; font-style: normal;\">&#160;&#91;<a href=\"https://ru.wikipedia.org/wiki/%D0%A8%D0%B0%D1%80%D0%BA%D0%BE%D0%B2,_%D0%90%D0%BB%D0%B5%D0%BA%D1%81%D0%B0%D0%BD%D0%B4%D1%80_%D0%9A%D0%BE%D0%BD%D1%81%D1%82%D0%B0%D0%BD%D1%82%D0%B8%D0%BD%D0%BE%D0%B2%D0%B8%D1%87\" class=\"extiw\" title=\"ru:Шарков, Александр Константинович\">ru</a>&#93;</span>, the <a href=\"/wiki/KGB\" title=\"KGB\">KGB</a>\\'s deputy chairman.</li>\\n<li><a href=\"/wiki/Alex_Ferns\" title=\"Alex Ferns\">Alex Ferns</a> as Andrei Glukhov, the mining crew chief.</li>\\n<li><a href=\"/wiki/Ralph_Ineson\" title=\"Ralph Ineson\">Ralph Ineson</a> as <a href=\"/w/index.php?title=Nikolai_Tarakanov&amp;action=edit&amp;redlink=1\" class=\"new\" title=\"Nikolai Tarakanov (page does not exist)\">Nikolai Tarakanov</a><span class=\"noprint\" style=\"font-size:85%; font-style: normal;\">&#160;&#91;<a href=\"https://ru.wikipedia.org/wiki/%D0%A2%D0%B0%D1%80%D0%B0%D0%BA%D0%B0%D0%BD%D0%BE%D0%B2,_%D0%9D%D0%B8%D0%BA%D0%BE%D0%BB%D0%B0%D0%B9_%D0%94%D0%BC%D0%B8%D1%82%D1%80%D0%B8%D0%B5%D0%B2%D0%B8%D1%87\" class=\"extiw\" title=\"ru:Тараканов, Николай Дмитриевич\">ru</a>&#93;</span>, the commander of the <a href=\"/wiki/Chernobyl_liquidators\" title=\"Chernobyl liquidators\">Chernobyl liquidators</a>.</li>\\n<li><a href=\"/wiki/Barry_Keoghan\" title=\"Barry Keoghan\">Barry Keoghan</a> as Pavel, a civilian liquidator draftee.</li>\\n<li><a href=\"/wiki/Fares_Fares\" title=\"Fares Fares\">Fares Fares</a> as Bacho, a <a href=\"/wiki/Georgians\" title=\"Georgians\">Georgian</a> soldier who trains Pavel.</li></ul>\\n<h3><span class=\"mw-headline\" id=\"Recurring\">Recurring</span></h3>\\n<ul><li><a href=\"/wiki/Karl_Davies\" title=\"Karl Davies\">Karl Davies</a> as Viktor Proskuryakov, a senior reactor control engineer trainee.</li>\\n<li><a href=\"/wiki/Donald_Sumpter\" title=\"Donald Sumpter\">Donald Sumpter</a> as Zharkov, a Pripyat executive committee member.</li>\\n<li>Nadia Clifford as Svetlana Zinchenko, a doctor treating Vasily Ignatenko and others with radiation sickness.</li></ul>\\n<h3><span class=\"mw-headline\" id=\"Guest\">Guest</span></h3>\\n<ul><li><a href=\"/wiki/Adam_Lundgren\" title=\"Adam Lundgren\">Adam Lundgren</a> as Vyacheslav Brazhnik, senior turbine operator.</li>\\n<li><a href=\"/wiki/Jay_Simpson_(actor)\" title=\"Jay Simpson (actor)\">Jay Simpson</a> as Valery Perevozchenko, foreman in the reactor section.</li>\\n<li>Billy Postlethwaite as Boris Stolyarchuk, senior unit #4 control engineer.</li>\\n<li><a href=\"/wiki/Michael_Colgan_(actor)\" title=\"Michael Colgan (actor)\">Michael Colgan</a> as <a href=\"/w/index.php?title=Mikhail_Shchadov&amp;action=edit&amp;redlink=1\" class=\"new\" title=\"Mikhail Shchadov (page does not exist)\">Mikhail Shchadov</a><span class=\"noprint\" style=\"font-size:85%; font-style: normal;\">&#160;&#91;<a href=\"https://ru.wikipedia.org/wiki/%D0%A9%D0%B0%D0%B4%D0%BE%D0%B2,_%D0%9C%D0%B8%D1%85%D0%B0%D0%B8%D0%BB_%D0%98%D0%B2%D0%B0%D0%BD%D0%BE%D0%B2%D0%B8%D1%87\" class=\"extiw\" title=\"ru:Щадов, Михаил Иванович\">ru</a>&#93;</span>, <a href=\"/wiki/Ministry_of_Coal_Industry\" title=\"Ministry of Coal Industry\">Soviet Minister of Coal Industry</a>.</li>\\n<li><a href=\"/wiki/James_Cosmo\" title=\"James Cosmo\">James Cosmo</a> as a miner.</li></ul>\\n<h2><span class=\"mw-headline\" id=\"Episodes\">Episodes</span></h2>\\n<table class=\"wikitable plainrowheaders wikiepisodetable\" style=\"width:100%\"><tbody><tr style=\"color:black;text-align:center\"><th scope=\"col\" style=\"background:#AFBCB5;width:5%\"><abbr title=\"Number\">No.</abbr></th><th scope=\"col\" style=\"background:#AFBCB5\">Title</th><th scope=\"col\" style=\"background:#AFBCB5\">Directed by</th><th scope=\"col\" style=\"background:#AFBCB5\">Written by</th><th scope=\"col\" style=\"background:#AFBCB5\">Original air date</th><th scope=\"col\" style=\"background:#AFBCB5\"> Viewers<br />(millions)</th></tr><tr class=\"vevent\" style=\"text-align:center;background:#F2F2F2\"><th scope=\"row\" rowspan=\"2\" id=\"ep1\" style=\"text-align:center\">1</th><td class=\"summary\" rowspan=\"2\" style=\"text-align:left\">\"1:23:45\"</td><td rowspan=\"2\"><a href=\"/wiki/Johan_Renck\" title=\"Johan Renck\">Johan Renck</a></td><td rowspan=\"2\"><a href=\"/wiki/Craig_Mazin\" title=\"Craig Mazin\">Craig Mazin</a></td><td style=\"text-align:center\">May&#160;6,&#160;2019<span style=\"display:none\">&#160;(<span class=\"bday dtstart published updated\">2019-05-06</span>)</span> <span style=\"font-size:85%;\">(US)</span></td><td style=\"text-align:center\">0.756 <span style=\"font-size:85%;\">(US)</span><sup id=\"cite_ref-1.01_4-0\" class=\"reference\"><a href=\"#cite_note-1.01-4\">&#91;4&#93;</a></sup></td></tr><tr style=\"background:#F2F2F2\"><td style=\"text-align:center\">May&#160;7,&#160;2019<span style=\"display:none\">&#160;(<span class=\"bday dtstart published updated\">2019-05-07</span>)</span> <span style=\"font-size:85%;\">(UK)</span></td><td style=\"text-align:center\">0.861 <span style=\"font-size:85%;\">(UK)</span><sup id=\"cite_ref-barb.co.uk_5-0\" class=\"reference\"><a href=\"#cite_note-barb.co.uk-5\">&#91;5&#93;</a></sup></td></tr><tr style=\"background:#F2F2F2\"></tr><tr class=\"expand-child\"><td class=\"description\" colspan=\"12\" style=\"border-bottom:solid 3px #AFBCB5\">\\nOn April 26, 1988, Valery Legasov, chief of the inquiry into the Chernobyl disaster, records tapes condemning engineer Anatoly Dyatlov for the disaster and Dyatlov’s light prison sentence. After hiding the tapes outside his home, Legasov hangs himself. Two years earlier, in <a href=\"/wiki/Pripyat\" title=\"Pripyat\">Pripyat</a>, firefighter Vasily Ignatenko\\'s pregnant wife Lyudmilla witnesses the <a href=\"/wiki/Chernobyl_Nuclear_Power_Plant\" title=\"Chernobyl Nuclear Power Plant\">Chernobyl Nuclear Power Plant</a> exploding. At the plant, Dyatlov ignores subordinates including Akimov and Toptunov as they realize one of the <a href=\"/wiki/Nuclear_reactor_core\" title=\"Nuclear reactor core\">nuclear reactor cores</a> is exposed, burning, and cannot be manually shut down. Responding to the fire, Vasily sees other firefighters suffering <a href=\"/wiki/Radiation_burn\" title=\"Radiation burn\">radiation burns</a> and <a href=\"/wiki/Acute_radiation_syndrome\" title=\"Acute radiation syndrome\">ARS</a> from the radioactive wreckage. Plant manager Viktor Bryukhanov and chief engineer Nikolai Fomin receive a report from Dyatlov, but faulty information and overconfidence in the <a href=\"/wiki/RBMK\" title=\"RBMK\">RBMK</a> reactor design lead Dyatlov and the Pripyat executive committee to under-report the incident. Dyatlov falls ill from ARS, and Sitnikov, reporting the true severity of the incident, is sent to the roof for confirmation and exposed to lethal doses of radiation. On orders from General Secretary <a href=\"/wiki/Mikhail_Gorbachev\" title=\"Mikhail Gorbachev\">Mikhail Gorbachev</a>, Legasov is instructed by deputy chairman Boris Shcherbina to supervise the Chernobyl committee.</td></tr>\\n<tr class=\"vevent\" style=\"text-align:center;background:#F2F2F2\"><th scope=\"row\" rowspan=\"2\" id=\"ep2\" style=\"text-align:center\">2</th><td class=\"summary\" rowspan=\"2\" style=\"text-align:left\">\"Please Remain Calm\"</td><td rowspan=\"2\">Johan Renck</td><td rowspan=\"2\">Craig Mazin</td><td style=\"text-align:center\">May&#160;13,&#160;2019<span style=\"display:none\">&#160;(<span class=\"bday dtstart published updated\">2019-05-13</span>)</span> <span style=\"font-size:85%;\">(US)</span></td><td style=\"text-align:center\">1.004 <span style=\"font-size:85%;\">(US)</span><sup id=\"cite_ref-1.02_6-0\" class=\"reference\"><a href=\"#cite_note-1.02-6\">&#91;6&#93;</a></sup></td></tr><tr style=\"background:#F2F2F2\"><td style=\"text-align:center\">May&#160;14,&#160;2019<span style=\"display:none\">&#160;(<span class=\"bday dtstart published updated\">2019-05-14</span>)</span> <span style=\"font-size:85%;\">(UK)</span></td><td style=\"text-align:center\">0.891 <span style=\"font-size:85%;\">(UK)</span><sup id=\"cite_ref-barb.co.uk_5-1\" class=\"reference\"><a href=\"#cite_note-barb.co.uk-5\">&#91;5&#93;</a></sup></td></tr><tr style=\"background:#F2F2F2\"></tr><tr class=\"expand-child\"><td class=\"description\" colspan=\"12\" style=\"border-bottom:solid 3px #AFBCB5\">\\nSeven hours after the explosion, Ulana Khomyuk discovers a spike in radiation levels in <a href=\"/wiki/Minsk\" title=\"Minsk\">Minsk</a>. She deduces an incident has occurred at Chernobyl, and when her concerns are dismissed by the Central Committee, she heads to Chernobyl herself. At Pripyat’s overloaded hospital, Lyudmilla finds that Vasily has been evacuated to <a href=\"/wiki/Moscow\" title=\"Moscow\">Moscow</a> with other ARS patients. In Moscow, Legasov explains to Gorbachev that the situation is more serious than reported and is sent to Chernobyl with a skeptical Shcherbina. From a helicopter, Legasov points out <a href=\"/wiki/Nuclear_graphite\" title=\"Nuclear graphite\">nuclear graphite</a> debris and a blue glow from <a href=\"/wiki/Ionizing_radiation\" title=\"Ionizing radiation\">ionizing radiation</a>, indicating the core is exposed. Convinced, Shcherbina confronts Bryukhanov and Fomin, who accuse Legasov of misinformation, but General Vladimir Pikalov uses a high-range <a href=\"/wiki/Dosimeter\" title=\"Dosimeter\">dosimeter</a> to prove the high radiation levels. Legasov instructs the military to suppress the fire with sand and <a href=\"/wiki/Boron\" title=\"Boron\">boron</a>, which proves risky. As news of the incident spreads, Pripyat is finally evacuated. Khomyuk arrives and warns Legasov and Shcherbina about the risk of a bigger <a href=\"/wiki/Steam_explosion\" title=\"Steam explosion\">steam explosion</a> from contact between <a href=\"/wiki/Corium_(nuclear_reactor)\" title=\"Corium (nuclear reactor)\">corium</a> and water pooling in the basement underneath the reactor. Legasov asks Gorbachev to order a lethal mission to drain the water, and <a href=\"/w/index.php?title=Alexei_Ananenko&amp;action=edit&amp;redlink=1\" class=\"new\" title=\"Alexei Ananenko (page does not exist)\">Alexei Ananenko</a><span class=\"noprint\" style=\"font-size:85%; font-style: normal;\">&#160;&#91;<a href=\"https://uk.wikipedia.org/wiki/%D0%90%D0%BD%D0%B0%D0%BD%D0%B5%D0%BD%D0%BA%D0%BE_%D0%9E%D0%BB%D0%B5%D0%BA%D1%81%D1%96%D0%B9_%D0%9C%D0%B8%D1%85%D0%B0%D0%B9%D0%BB%D0%BE%D0%B2%D0%B8%D1%87\" class=\"extiw\" title=\"uk:Ананенко Олексій Михайлович\">uk</a>&#93;</span>, <a href=\"/w/index.php?title=Valeri_Bezpalov&amp;action=edit&amp;redlink=1\" class=\"new\" title=\"Valeri Bezpalov (page does not exist)\">Valeri Bezpalov</a><span class=\"noprint\" style=\"font-size:85%; font-style: normal;\">&#160;&#91;<a href=\"https://uk.wikipedia.org/wiki/%D0%91%D0%B5%D1%81%D0%BF%D0%B0%D0%BB%D0%BE%D0%B2_%D0%92%D0%B0%D0%BB%D0%B5%D1%80%D1%96%D0%B9_%D0%9E%D0%BB%D0%B5%D0%BA%D1%81%D1%96%D0%B9%D0%BE%D0%B2%D0%B8%D1%87\" class=\"extiw\" title=\"uk:Беспалов Валерій Олексійович\">uk</a>&#93;</span>, and <a href=\"/w/index.php?title=Boris_Baranov&amp;action=edit&amp;redlink=1\" class=\"new\" title=\"Boris Baranov (page does not exist)\">Boris Baranov</a><span class=\"noprint\" style=\"font-size:85%; font-style: normal;\">&#160;&#91;<a href=\"https://uk.wikipedia.org/wiki/%D0%91%D0%B0%D1%80%D0%B0%D0%BD%D0%BE%D0%B2_%D0%91%D0%BE%D1%80%D0%B8%D1%81_%D0%9E%D0%BB%D0%B5%D0%BA%D1%81%D0%B0%D0%BD%D0%B4%D1%80%D0%BE%D0%B2%D0%B8%D1%87\" class=\"extiw\" title=\"uk:Баранов Борис Олександрович\">uk</a>&#93;</span> volunteer.</td></tr>\\n<tr class=\"vevent\" style=\"text-align:center;background:#F2F2F2\"><th scope=\"row\" rowspan=\"2\" id=\"ep3\" style=\"text-align:center\">3</th><td class=\"summary\" rowspan=\"2\" style=\"text-align:left\">\"Open Wide, O Earth\"</td><td rowspan=\"2\">Johan Renck</td><td rowspan=\"2\">Craig Mazin</td><td style=\"text-align:center\">May&#160;20,&#160;2019<span style=\"display:none\">&#160;(<span class=\"bday dtstart published updated\">2019-05-20</span>)</span> <span style=\"font-size:85%;\">(US)</span></td><td style=\"text-align:center\">1.063 <span style=\"font-size:85%;\">(US)</span><sup id=\"cite_ref-1.03_7-0\" class=\"reference\"><a href=\"#cite_note-1.03-7\">&#91;7&#93;</a></sup></td></tr><tr style=\"background:#F2F2F2\"><td style=\"text-align:center\">May&#160;21,&#160;2019<span style=\"display:none\">&#160;(<span class=\"bday dtstart published updated\">2019-05-21</span>)</span> <span style=\"font-size:85%;\">(UK)</span></td><td style=\"text-align:center\"><small><span style=\"color: #2C2C2C\" title=\"Not available\">N/A</span></small></td></tr><tr style=\"background:#F2F2F2\"></tr><tr class=\"expand-child\"><td class=\"description\" colspan=\"12\" style=\"border-bottom:solid 3px #AFBCB5\">\\nThe basement is successfully drained, but a <a href=\"/wiki/Nuclear_meltdown\" title=\"Nuclear meltdown\">nuclear meltdown</a> has begun and threatens to contaminate the <a href=\"/wiki/Groundwater\" title=\"Groundwater\">groundwater</a>. Shcherbina and Legasov convince Gorbachev that a <a href=\"/wiki/Heat_exchanger\" title=\"Heat exchanger\">heat exchanger</a> is needed under the plant, for which Mikhail Shchadov recruits from <a href=\"/wiki/Tula,_Russia\" title=\"Tula, Russia\">Tula</a> coal miners, led by Glukhov, to excavate a tunnel in extremely adverse conditions. Shcherbina warns Legasov that they are under <a href=\"/wiki/KGB\" title=\"KGB\">KGB</a> surveillance. Legasov sends Khomyuk to a Moscow hospital, where she finds Dyatlov uncooperative but learns from dying Toptunov and Akimov that the plant exploded after Akimov pressed the shutdown button, a scenario thought impossible. Bribing her way into the hospital and lying about her pregnancy, Lyudmilla is allowed to visit Vasily but disobeys orders, staying longer and touching her husband. Following Vasily\\'s death, Khomyuk finds Lyudmilla; aware of Lyudmilla\\'s pregnancy, she threatens to report everything to the committee and is arrested by KGB spies, but is released on Legasov\\'s insistence. As Shcherbina and Legasov report to the Central Executive Committee their decontamination plans requiring the mass mobilization of <a href=\"/wiki/Chernobyl_liquidators\" title=\"Chernobyl liquidators\">liquidators</a>, Lyudmilla stands among other relatives of ARS victims as Vasily, sealed in a lead casket, is buried in concrete at a mass grave.</td></tr>\\n<tr class=\"vevent\" style=\"text-align:center;background:#F2F2F2\"><th scope=\"row\" rowspan=\"2\" id=\"ep4\" style=\"text-align:center\">4</th><td class=\"summary\" rowspan=\"2\" style=\"text-align:left\">\"The Happiness of All Mankind\"</td><td rowspan=\"2\">Johan Renck</td><td rowspan=\"2\">Craig Mazin</td><td style=\"text-align:center\">May&#160;27,&#160;2019<span style=\"display:none\">&#160;(<span class=\"bday dtstart published updated\">2019-05-27</span>)</span> <span style=\"font-size:85%;\">(US)</span></td><td style=\"text-align:center\">1.193 <span style=\"font-size:85%;\">(US)</span><sup id=\"cite_ref-1.04_8-0\" class=\"reference\"><a href=\"#cite_note-1.04-8\">&#91;8&#93;</a></sup></td></tr><tr style=\"background:#F2F2F2\"><td style=\"text-align:center\">May&#160;28,&#160;2019<span style=\"display:none\">&#160;(<span class=\"bday dtstart published updated\">2019-05-28</span>)</span> <span style=\"font-size:85%;\">(UK)</span></td><td style=\"text-align:center\"><small><span style=\"color: #2C2C2C\" title=\"Not available\">N/A</span></small></td></tr><tr style=\"background:#F2F2F2\"></tr><tr class=\"expand-child\"><td class=\"description\" colspan=\"12\" style=\"border-bottom:solid 3px #AFBCB5\">\\nResidents are evacuated from the wider <a href=\"/wiki/Chernobyl_Exclusion_Zone\" title=\"Chernobyl Exclusion Zone\">Chernobyl Exclusion Zone</a> and decontamination operations are underway. Civilian draftee Pavel is paired with <a href=\"/wiki/Soviet%E2%80%93Afghan_War\" title=\"Soviet–Afghan War\">Soviet–Afghan War</a> veteran Bacho to patrol the Zone to shoot and dispose of abandoned animals due to radioactive contamination. Chernobyl liquidator commander General Nikolai Tarakanov deploys <a href=\"/wiki/Lunokhod_programme\" title=\"Lunokhod programme\">Lunokhod programme</a> rovers to clear the plant\\'s roof for a <a href=\"/wiki/Chernobyl_Nuclear_Power_Plant_sarcophagus\" title=\"Chernobyl Nuclear Power Plant sarcophagus\">shelter</a>. After a <a href=\"/wiki/West_Germany\" title=\"West Germany\">West German</a> police robot almost instantly fails on the most irradiated level, Tarakanov is forced to cycle 3,828 liquidators to clear it by hand, allowed only 90 seconds each, once. Khomyuk investigates the Moscow archives and confronts Dyatlov, who knows the government is not interested in the truth. Meeting away from KGB bugs, Shcherbina and Legasov inform Khomyuk they must testify as experts in the trial of Dyatlov, Bryukhanov, and Fomin, and Legasov will address the <a href=\"/wiki/International_Atomic_Energy_Agency\" title=\"International Atomic Energy Agency\">International Atomic Energy Agency</a>. Khomyuk reveals an article about an identical incident at the <a href=\"/wiki/Leningrad_Nuclear_Power_Plant\" title=\"Leningrad Nuclear Power Plant\">Leningrad Nuclear Power Plant</a> in 1975, suppressed by the KGB, and tells them Lyudmilla gave birth to a girl who soon died from radiation poisoning. Khomyuk urges Legasov to tell the IAEA the complete truth, while Shcherbina urges caution to avoid government retaliation.</td></tr>\\n<tr class=\"vevent\" style=\"text-align:center;background:inherit\"><th scope=\"row\" rowspan=\"2\" id=\"ep5\" style=\"text-align:center\">5</th><td class=\"summary\" rowspan=\"2\" style=\"text-align:left\">\"Vichnaya Pamyat\"<sup id=\"cite_ref-9\" class=\"reference\"><a href=\"#cite_note-9\">&#91;a&#93;</a></sup><sup id=\"cite_ref-10\" class=\"reference\"><a href=\"#cite_note-10\">&#91;9&#93;</a></sup></td><td rowspan=\"2\">Johan Renck</td><td rowspan=\"2\">Craig Mazin</td><td style=\"text-align:center\">June&#160;3,&#160;2019<span style=\"display:none\">&#160;(<span class=\"bday dtstart published updated\">2019-06-03</span>)</span> <span style=\"font-size:85%;\">(US)</span></td><td style=\"text-align:center\"><small><span style=\"color: #2C2C2C\" title=\"Not available\">N/A</span></small></td></tr><tr style=\"background:inherit\"><td style=\"text-align:center\">June&#160;4,&#160;2019<span style=\"display:none\">&#160;(<span class=\"bday dtstart published updated\">2019-06-04</span>)</span> <span style=\"font-size:85%;\">(UK)</span></td><td style=\"text-align:center\"><small><span style=\"color: #2C2C2C\" title=\"Not available\">N/A</span></small></td></tr><tr style=\"background:inherit\"></tr></tbody></table>\\n<div class=\"reflist\" style=\"list-style-type: lower-alpha;\">\\n<div class=\"mw-references-wrap\"><ol class=\"references\">\\n<li id=\"cite_note-9\"><span class=\"mw-cite-backlink\"><b><a href=\"#cite_ref-9\">^</a></b></span> <span class=\"reference-text\">Russian and Ukrainian for \"<a href=\"/wiki/Memory_Eternal\" title=\"Memory Eternal\">Memory Eternal</a>\", an exclamation used in <a href=\"/wiki/Eastern_Orthodox\" class=\"mw-redirect\" title=\"Eastern Orthodox\">Eastern Orthodox</a> <a href=\"/wiki/Funeral\" title=\"Funeral\">funeral</a> or <a href=\"/wiki/Memorial_service\" class=\"mw-redirect\" title=\"Memorial service\">memorial service</a></span>\\n</li>\\n</ol></div></div>\\n<h2><span class=\"mw-headline\" id=\"Production\">Production</span></h2>\\n<h3><span class=\"mw-headline\" id=\"Development_and_writing\">Development and writing</span></h3>\\n<p><a href=\"/wiki/Craig_Mazin\" title=\"Craig Mazin\">Craig Mazin</a> began researching for the project in 2014, by reading books and government reports from inside and outside of the Soviet Union. Mazin also interviewed nuclear scientists to learn how a reactor works, and former Soviet citizens to gain a better idea of the culture in 1986. Mazin also read several first-person accounts, to bring additional authenticity to the story. He explained, \"When you\\'re reading the personal stories of people who were there\\u200a—\\u200apeople who lived near the plant, people who worked at the plant, people who were sent to Chernobyl as part of the effort to clean it up\\u200a—\\u200ain those individual accounts, that\\'s really where the story came alive.\"<sup id=\"cite_ref-11\" class=\"reference\"><a href=\"#cite_note-11\">&#91;10&#93;</a></sup>\\n</p><p>Mazin\\'s interest in creating the series originated when he decided to write something that addressed \"how we\\'re struggling with the global war on the truth right now\".<sup id=\"cite_ref-12\" class=\"reference\"><a href=\"#cite_note-12\">&#91;11&#93;</a></sup> Another inspiration is that he knew Chernobyl exploded, but he did not know <i>why</i>. He explained, \"I didn’t know why, and I thought there was this inexplicable gap in my knowledge ... So, I began reading about it, just out of this very dry, intellectual curiosity, and what I discovered was that, while the story of the explosion is fascinating, and we make it really clear exactly why and how it happened, what really grabbed me and held me were the incredible stories of the human beings who lived through it, and who suffered and sacrificed to save the people that they loved, to save their countrymen and to save a continent, and continued to do so, against odds that were startling and kept getting worse. I was so moved by it. It was like I had discovered a war that people just hadn\\'t really depicted, and I became obsessed.\"<sup id=\"cite_ref-13\" class=\"reference\"><a href=\"#cite_note-13\">&#91;12&#93;</a></sup>\\n</p><p>In preparation for the miniseries, Mazin visited the <a href=\"/wiki/Chernobyl_Exclusion_Zone\" title=\"Chernobyl Exclusion Zone\">Chernobyl Exclusion Zone</a>.<sup id=\"cite_ref-14\" class=\"reference\"><a href=\"#cite_note-14\">&#91;13&#93;</a></sup> Mazin made the decision in the early stages not to use Russian or Ukrainian accents, and instead, have the actors use their natural accents. Mazin explained, \"We had an initial thought that we didn\\'t want to do the \\'<a href=\"/wiki/Boris_and_Natasha\" class=\"mw-redirect\" title=\"Boris and Natasha\">Boris and Natasha</a>\\' cliched accent because the Russian accent can turn comic very easily. At first, we thought that maybe we would have people do these sort of vaguely Eastern European accents - not really strong but noticeable. What we found very quickly is that actors will act accents. They will not act, they will act accents and we were losing everything about these people that we loved. Honestly, I think after maybe one or two auditions we said \\'Ok, new rule. We\\'re not doing that anymore.\"<sup id=\"cite_ref-15\" class=\"reference\"><a href=\"#cite_note-15\">&#91;14&#93;</a></sup> Mazin also did not cast any American actors, as that could potentially pull the audience out of the story.<sup id=\"cite_ref-16\" class=\"reference\"><a href=\"#cite_note-16\">&#91;15&#93;</a></sup>\\n</p><p>On July 26, 2017, it was announced that HBO and Sky had given a series order to <i>Chernobyl</i>. It was HBO\\'s first co-production with <a href=\"/wiki/Sky_UK\" title=\"Sky UK\">Sky UK</a>. The five-episode miniseries was written by Craig Mazin and directed by <a href=\"/wiki/Johan_Renck\" title=\"Johan Renck\">Johan Renck</a>. Mazin also served as an executive producer alongside <a href=\"/wiki/Carolyn_Strauss\" title=\"Carolyn Strauss\">Carolyn Strauss</a> and <a href=\"/wiki/Jane_Featherstone\" title=\"Jane Featherstone\">Jane Featherstone</a>, with Chris Fry and Renck acting as co-executive producers.<sup id=\"cite_ref-SeriesOrder1_1-1\" class=\"reference\"><a href=\"#cite_note-SeriesOrder1-1\">&#91;1&#93;</a></sup><sup id=\"cite_ref-SeriesOrder2_17-0\" class=\"reference\"><a href=\"#cite_note-SeriesOrder2-17\">&#91;16&#93;</a></sup> On March 11, 2019, it was announced that the miniseries would premiere on May 6, 2019.<sup id=\"cite_ref-ChernobylMay2019_18-0\" class=\"reference\"><a href=\"#cite_note-ChernobylMay2019-18\">&#91;17&#93;</a></sup>\\n</p>\\n<h3><span class=\"mw-headline\" id=\"Casting\">Casting</span></h3>\\n<p>Simultaneously with the initial series announcement, it was confirmed that <a href=\"/wiki/Jared_Harris\" title=\"Jared Harris\">Jared Harris</a> would star in the series.<sup id=\"cite_ref-SeriesOrder2_17-1\" class=\"reference\"><a href=\"#cite_note-SeriesOrder2-17\">&#91;16&#93;</a></sup> On March 19, 2018, it was announced that <a href=\"/wiki/Stellan_Skarsg%C3%A5rd\" title=\"Stellan Skarsgård\">Stellan Skarsgård</a> and <a href=\"/wiki/Emily_Watson\" title=\"Emily Watson\">Emily Watson</a> had joined the main cast.<sup id=\"cite_ref-19\" class=\"reference\"><a href=\"#cite_note-19\">&#91;18&#93;</a></sup> In May 2018, it was announced that <a href=\"/wiki/Paul_Ritter_(actor)\" title=\"Paul Ritter (actor)\">Paul Ritter</a>, Jessie Buckley, Adrian Rawlins, and Con O\\'Neill also had joined the cast.<sup id=\"cite_ref-20\" class=\"reference\"><a href=\"#cite_note-20\">&#91;19&#93;</a></sup>\\n</p>\\n<h3><span class=\"mw-headline\" id=\"Filming\">Filming</span></h3>\\n<div class=\"thumb tright\"><div class=\"thumbinner\" style=\"width:222px;\"><a href=\"/wiki/File:%D0%A4%D0%B0%D0%B1%D0%B8%D0%BE%D0%BD%D0%B8%D1%88%D0%BA%D0%B5%D1%81_-_panoramio.jpg\" class=\"image\"><img alt=\"\" src=\"//upload.wikimedia.org/wikipedia/commons/thumb/6/6d/%D0%A4%D0%B0%D0%B1%D0%B8%D0%BE%D0%BD%D0%B8%D1%88%D0%BA%D0%B5%D1%81_-_panoramio.jpg/220px-%D0%A4%D0%B0%D0%B1%D0%B8%D0%BE%D0%BD%D0%B8%D1%88%D0%BA%D0%B5%D1%81_-_panoramio.jpg\" decoding=\"async\" width=\"220\" height=\"165\" class=\"thumbimage\" srcset=\"//upload.wikimedia.org/wikipedia/commons/thumb/6/6d/%D0%A4%D0%B0%D0%B1%D0%B8%D0%BE%D0%BD%D0%B8%D1%88%D0%BA%D0%B5%D1%81_-_panoramio.jpg/330px-%D0%A4%D0%B0%D0%B1%D0%B8%D0%BE%D0%BD%D0%B8%D1%88%D0%BA%D0%B5%D1%81_-_panoramio.jpg 1.5x, //upload.wikimedia.org/wikipedia/commons/thumb/6/6d/%D0%A4%D0%B0%D0%B1%D0%B8%D0%BE%D0%BD%D0%B8%D1%88%D0%BA%D0%B5%D1%81_-_panoramio.jpg/440px-%D0%A4%D0%B0%D0%B1%D0%B8%D0%BE%D0%BD%D0%B8%D1%88%D0%BA%D0%B5%D1%81_-_panoramio.jpg 2x\" data-file-width=\"640\" data-file-height=\"480\" /></a>  <div class=\"thumbcaption\"><div class=\"magnify\"><a href=\"/wiki/File:%D0%A4%D0%B0%D0%B1%D0%B8%D0%BE%D0%BD%D0%B8%D1%88%D0%BA%D0%B5%D1%81_-_panoramio.jpg\" class=\"internal\" title=\"Enlarge\"></a></div>Soviet-era district of Fabijoniškės (Vilnius, Lithuania) was used to portray Pripyat</div></div></div>\\n<p>Principal photography began in April 2018 in <a href=\"/wiki/Lithuania\" title=\"Lithuania\">Lithuania</a>.<sup id=\"cite_ref-SeriesOrder2_17-2\" class=\"reference\"><a href=\"#cite_note-SeriesOrder2-17\">&#91;16&#93;</a></sup> Initial filming started on May 13, 2018, in <a href=\"/wiki/Fabijoni%C5%A1k%C4%97s\" title=\"Fabijoniškės\">Fabijoniškės</a>, a residential district in <a href=\"/wiki/Vilnius\" title=\"Vilnius\">Vilnius</a>, Lithuania, which was used to portray the Ukrainian city of <a href=\"/wiki/Pripyat\" title=\"Pripyat\">Pripyat</a>, since the district maintained an authentic <a href=\"/wiki/Soviet_Union\" title=\"Soviet Union\">Soviet</a> atmosphere. An area of densely built panel housing apartments served as a location for the evacuation scenes. Director Johan Renck heavily criticised the amount of diverse and eye-catching modern windows in the houses, but was not concerned about removing them in post-production. At the end of March, production moved to <a href=\"/wiki/Visaginas\" title=\"Visaginas\">Visaginas</a>, Lithuania, to shoot both the exterior and interior of the <a href=\"/wiki/Ignalina_Nuclear_Power_Plant\" title=\"Ignalina Nuclear Power Plant\">Ignalina Nuclear Power Plant</a>, a decommissioned nuclear power station that is sometimes referred to as \"Chernobyl\\'s sister\" due to its visual resemblance to the nuclear reactor design used at both Chernobyl and Ignalina (an <a href=\"/wiki/RBMK\" title=\"RBMK\">RBMK</a> nuclear power reactor). In early June 2018, production moved to Ukraine to shoot minor final scenes.<sup id=\"cite_ref-21\" class=\"reference\"><a href=\"#cite_note-21\">&#91;20&#93;</a></sup> The filming of <i>Chernobyl</i> took 16 weeks.<sup id=\"cite_ref-22\" class=\"reference\"><a href=\"#cite_note-22\">&#91;21&#93;</a></sup>\\n</p>\\n<h2><span class=\"mw-headline\" id=\"Reception\">Reception</span></h2>\\n<h3><span class=\"mw-headline\" id=\"Critical_response\">Critical response</span></h3>\\n<p><i>Chernobyl</i> has received acclaim from critics. On <a href=\"/wiki/Rotten_Tomatoes\" title=\"Rotten Tomatoes\">Rotten Tomatoes</a>, it has a 96% approval rating with an average score of 8.83 out of 10, based on 50 reviews. The site\\'s critical consensus reads, \"<i>Chernobyl</i> rivets with a creeping dread that never dissipates, dramatizing a national tragedy with sterling craft and an intelligent dissection of institutional rot.\"<sup id=\"cite_ref-23\" class=\"reference\"><a href=\"#cite_note-23\">&#91;22&#93;</a></sup> On <a href=\"/wiki/Metacritic\" title=\"Metacritic\">Metacritic</a>, it has a weighted average score of 83 out of 100, based on 26 critics, indicating \"universal acclaim\".<sup id=\"cite_ref-24\" class=\"reference\"><a href=\"#cite_note-24\">&#91;23&#93;</a></sup>\\n</p><p>Reviewers from <i><a href=\"/wiki/The_Atlantic\" title=\"The Atlantic\">The Atlantic</a></i>, <i><a href=\"/wiki/The_Washington_Post\" title=\"The Washington Post\">The Washington Post</a></i> and <a href=\"/wiki/BBC\" title=\"BBC\">BBC</a> have noted that the series successfully draws parallels to their contemporaneous society by focusing on the power of information and how dishonest leaders can unintentionally make mistakes beyond their comprehension. Sophie Gilbert of <i>The Atlantic</i> hailed the series as a \"grim disquisition on the toll of devaluing the truth\"; Hank Stuever of <i>The Washington Post</i> praised it for showcasing \"what happens when lying is standard and authority is abused\".<sup id=\"cite_ref-25\" class=\"reference\"><a href=\"#cite_note-25\">&#91;24&#93;</a></sup><sup id=\"cite_ref-26\" class=\"reference\"><a href=\"#cite_note-26\">&#91;25&#93;</a></sup><sup id=\"cite_ref-27\" class=\"reference\"><a href=\"#cite_note-27\">&#91;26&#93;</a></sup>\\n</p>\\n<h3><span class=\"mw-headline\" id=\"US_ratings\">US ratings</span></h3>\\n<table class=\"wikitable sortable\" style=\"text-align:center;\">\\n\\n<tbody><tr>\\n<th scope=\"col\"><abbr title=\"Number\">No.</abbr>\\n</th>\\n<th scope=\"col\">Title\\n</th>\\n<th scope=\"col\">Air date</th>\\n<th scope=\"col\" data-sort-type=\"number\"><a href=\"/wiki/Nielsen_ratings\" title=\"Nielsen ratings\">Rating</a><br /><span class=\"nowrap\">(18–49)</span></th>\\n<th scope=\"col\" data-sort-type=\"number\">Viewers<br />(millions)</th>\\n<th scope=\"col\" data-sort-type=\"number\">DVR<br /><span class=\"nowrap\">(18–49)</span></th>\\n<th scope=\"col\" data-sort-type=\"number\">DVR viewers<br />(millions)</th>\\n<th scope=\"col\" data-sort-type=\"number\">Total<br /><span class=\"nowrap\">(18–49)</span></th>\\n<th scope=\"col\" data-sort-type=\"number\">Total viewers<br />(millions)\\n</th></tr>\\n<tr>\\n<th scope=\"row\">1\\n</th>\\n<td style=\"text-align:left\">\"<a href=\"#ep1\">1:23:45</a>\"\\n</td>\\n<td style=\"text-align:left\">May 6, 2019</td>\\n<td>0.2</td>\\n<td>0.756<sup id=\"cite_ref-1.01_4-1\" class=\"reference\"><a href=\"#cite_note-1.01-4\">&#91;4&#93;</a></sup></td>\\n<td data-sort-value=\"\" style=\"background: #ececec; color: #2C2C2C; vertical-align: middle; font-size: smaller; text-align: center;\" class=\"table-na\">TBD</td>\\n<td data-sort-value=\"\" style=\"background: #ececec; color: #2C2C2C; vertical-align: middle; font-size: smaller; text-align: center;\" class=\"table-na\">TBD</td>\\n<td data-sort-value=\"\" style=\"background: #ececec; color: #2C2C2C; vertical-align: middle; font-size: smaller; text-align: center;\" class=\"table-na\">TBD</td>\\n<td data-sort-value=\"\" style=\"background: #ececec; color: #2C2C2C; vertical-align: middle; font-size: smaller; text-align: center;\" class=\"table-na\">TBD\\n</td></tr>\\n<tr>\\n<th scope=\"row\">2\\n</th>\\n<td style=\"text-align:left\">\"<a href=\"#ep2\">Please Remain Calm</a>\"\\n</td>\\n<td style=\"text-align:left\">May 13, 2019</td>\\n<td>0.3</td>\\n<td>1.004<sup id=\"cite_ref-1.02_6-1\" class=\"reference\"><a href=\"#cite_note-1.02-6\">&#91;6&#93;</a></sup></td>\\n<td data-sort-value=\"\" style=\"background: #ececec; color: #2C2C2C; vertical-align: middle; font-size: smaller; text-align: center;\" class=\"table-na\">TBD</td>\\n<td data-sort-value=\"\" style=\"background: #ececec; color: #2C2C2C; vertical-align: middle; font-size: smaller; text-align: center;\" class=\"table-na\">TBD</td>\\n<td data-sort-value=\"\" style=\"background: #ececec; color: #2C2C2C; vertical-align: middle; font-size: smaller; text-align: center;\" class=\"table-na\">TBD</td>\\n<td data-sort-value=\"\" style=\"background: #ececec; color: #2C2C2C; vertical-align: middle; font-size: smaller; text-align: center;\" class=\"table-na\">TBD\\n</td></tr>\\n<tr>\\n<th scope=\"row\">3\\n</th>\\n<td style=\"text-align:left\">\"<a href=\"#ep3\">Open Wide, O Earth</a>\"\\n</td>\\n<td style=\"text-align:left\">May 20, 2019</td>\\n<td>0.3</td>\\n<td>1.063<sup id=\"cite_ref-1.03_7-1\" class=\"reference\"><a href=\"#cite_note-1.03-7\">&#91;7&#93;</a></sup></td>\\n<td data-sort-value=\"\" style=\"background: #ececec; color: #2C2C2C; vertical-align: middle; font-size: smaller; text-align: center;\" class=\"table-na\">TBD</td>\\n<td data-sort-value=\"\" style=\"background: #ececec; color: #2C2C2C; vertical-align: middle; font-size: smaller; text-align: center;\" class=\"table-na\">TBD</td>\\n<td data-sort-value=\"\" style=\"background: #ececec; color: #2C2C2C; vertical-align: middle; font-size: smaller; text-align: center;\" class=\"table-na\">TBD</td>\\n<td data-sort-value=\"\" style=\"background: #ececec; color: #2C2C2C; vertical-align: middle; font-size: smaller; text-align: center;\" class=\"table-na\">TBD\\n</td></tr>\\n<tr>\\n<th scope=\"row\">4\\n</th>\\n<td style=\"text-align:left\">\"<a href=\"#ep4\">The Happiness of All Mankind</a>\"\\n</td>\\n<td style=\"text-align:left\">May 27, 2019</td>\\n<td>0.3</td>\\n<td>1.193<sup id=\"cite_ref-1.04_8-1\" class=\"reference\"><a href=\"#cite_note-1.04-8\">&#91;8&#93;</a></sup></td>\\n<td data-sort-value=\"\" style=\"background: #ececec; color: #2C2C2C; vertical-align: middle; font-size: smaller; text-align: center;\" class=\"table-na\">TBD</td>\\n<td data-sort-value=\"\" style=\"background: #ececec; color: #2C2C2C; vertical-align: middle; font-size: smaller; text-align: center;\" class=\"table-na\">TBD</td>\\n<td data-sort-value=\"\" style=\"background: #ececec; color: #2C2C2C; vertical-align: middle; font-size: smaller; text-align: center;\" class=\"table-na\">TBD</td>\\n<td data-sort-value=\"\" style=\"background: #ececec; color: #2C2C2C; vertical-align: middle; font-size: smaller; text-align: center;\" class=\"table-na\">TBD\\n</td></tr>\\n\\n\\n\\n\\n\\n\\n\\n\\n\\n\\n\\n\\n\\n\\n\\n\\n\\n\\n\\n\\n\\n\\n\\n\\n\\n\\n\\n\\n\\n\\n\\n\\n\\n\\n\\n\\n\\n\\n\\n\\n\\n\\n\\n\\n\\n\\n</tbody></table>\\n<h2><span class=\"mw-headline\" id=\"References\">References</span></h2>\\n<div class=\"reflist\" style=\"list-style-type: decimal;\">\\n<div class=\"mw-references-wrap mw-references-columns\"><ol class=\"references\">\\n<li id=\"cite_note-SeriesOrder1-1\"><span class=\"mw-cite-backlink\">^ <a href=\"#cite_ref-SeriesOrder1_1-0\"><sup><i><b>a</b></i></sup></a> <a href=\"#cite_ref-SeriesOrder1_1-1\"><sup><i><b>b</b></i></sup></a></span> <span class=\"reference-text\"><cite class=\"citation web\">Petski, Denise (July 26, 2017). <a rel=\"nofollow\" class=\"external text\" href=\"http://deadline.com/2017/07/hbo-sky-chernobyl-miniseries-starring-the-crown-jared-harris-tca-1202136735/\">\"<span class=\"cs1-kern-left\">\\'</span>Chernobyl\\' Miniseries Starring \\'The Crown\\'s Jared Harris Set By HBO &amp; Sky – TCA\"</a>. <i><a href=\"/wiki/Deadline_Hollywood\" title=\"Deadline Hollywood\">Deadline Hollywood</a></i>. <a rel=\"nofollow\" class=\"external text\" href=\"https://web.archive.org/web/20171201033006/http://deadline.com/2017/07/hbo-sky-chernobyl-miniseries-starring-the-crown-jared-harris-tca-1202136735/\">Archived</a> from the original on December 1, 2017<span class=\"reference-accessdate\">. Retrieved <span class=\"nowrap\">November 24,</span> 2017</span>.</cite><span title=\"ctx_ver=Z39.88-2004&amp;rft_val_fmt=info%3Aofi%2Ffmt%3Akev%3Amtx%3Ajournal&amp;rft.genre=unknown&amp;rft.jtitle=Deadline+Hollywood&amp;rft.atitle=%E2%80%98Chernobyl%E2%80%99+Miniseries+Starring+%E2%80%98The+Crown%E2%80%99s+Jared+Harris+Set+By+HBO+%26+Sky+%E2%80%93+TCA&amp;rft.date=2017-07-26&amp;rft.aulast=Petski&amp;rft.aufirst=Denise&amp;rft_id=http%3A%2F%2Fdeadline.com%2F2017%2F07%2Fhbo-sky-chernobyl-miniseries-starring-the-crown-jared-harris-tca-1202136735%2F&amp;rfr_id=info%3Asid%2Fen.wikipedia.org%3AChernobyl+%28miniseries%29\" class=\"Z3988\"></span><style data-mw-deduplicate=\"TemplateStyles:r886058088\">.mw-parser-output cite.citation{font-style:inherit}.mw-parser-output .citation q{quotes:\"\\\\\"\"\"\\\\\"\"\"\\'\"\"\\'\"}.mw-parser-output .citation .cs1-lock-free a{background:url(\"//upload.wikimedia.org/wikipedia/commons/thumb/6/65/Lock-green.svg/9px-Lock-green.svg.png\")no-repeat;background-position:right .1em center}.mw-parser-output .citation .cs1-lock-limited a,.mw-parser-output .citation .cs1-lock-registration a{background:url(\"//upload.wikimedia.org/wikipedia/commons/thumb/d/d6/Lock-gray-alt-2.svg/9px-Lock-gray-alt-2.svg.png\")no-repeat;background-position:right .1em center}.mw-parser-output .citation .cs1-lock-subscription a{background:url(\"//upload.wikimedia.org/wikipedia/commons/thumb/a/aa/Lock-red-alt-2.svg/9px-Lock-red-alt-2.svg.png\")no-repeat;background-position:right .1em center}.mw-parser-output .cs1-subscription,.mw-parser-output .cs1-registration{color:#555}.mw-parser-output .cs1-subscription span,.mw-parser-output .cs1-registration span{border-bottom:1px dotted;cursor:help}.mw-parser-output .cs1-ws-icon a{background:url(\"//upload.wikimedia.org/wikipedia/commons/thumb/4/4c/Wikisource-logo.svg/12px-Wikisource-logo.svg.png\")no-repeat;background-position:right .1em center}.mw-parser-output code.cs1-code{color:inherit;background:inherit;border:inherit;padding:inherit}.mw-parser-output .cs1-hidden-error{display:none;font-size:100%}.mw-parser-output .cs1-visible-error{font-size:100%}.mw-parser-output .cs1-maint{display:none;color:#33aa33;margin-left:0.3em}.mw-parser-output .cs1-subscription,.mw-parser-output .cs1-registration,.mw-parser-output .cs1-format{font-size:95%}.mw-parser-output .cs1-kern-left,.mw-parser-output .cs1-kern-wl-left{padding-left:0.2em}.mw-parser-output .cs1-kern-right,.mw-parser-output .cs1-kern-wl-right{padding-right:0.2em}</style></span>\\n</li>\\n<li id=\"cite_note-Alexievich-2\"><span class=\"mw-cite-backlink\"><b><a href=\"#cite_ref-Alexievich_2-0\">^</a></b></span> <span class=\"reference-text\"><cite class=\"citation web\"><a rel=\"nofollow\" class=\"external text\" href=\"https://meduza.io/en/feature/2019/05/28/the-real-chernobyl\">\"The real Chernobyl HBO\\'s hit miniseries is ending, and here\\'s how its characters compare to their real-life counterparts\"</a>. <i><a href=\"/wiki/Meduza\" title=\"Meduza\">Meduza</a></i>. May 28, 2019<span class=\"reference-accessdate\">. Retrieved <span class=\"nowrap\">June 1,</span> 2019</span>.</cite><span title=\"ctx_ver=Z39.88-2004&amp;rft_val_fmt=info%3Aofi%2Ffmt%3Akev%3Amtx%3Ajournal&amp;rft.genre=unknown&amp;rft.jtitle=Meduza&amp;rft.atitle=The+real+Chernobyl+HBO%E2%80%99s+hit+miniseries+is+ending%2C+and+here%E2%80%99s+how+its+characters+compare+to+their+real-life+counterparts&amp;rft.date=2019-05-28&amp;rft_id=https%3A%2F%2Fmeduza.io%2Fen%2Ffeature%2F2019%2F05%2F28%2Fthe-real-chernobyl&amp;rfr_id=info%3Asid%2Fen.wikipedia.org%3AChernobyl+%28miniseries%29\" class=\"Z3988\"></span><link rel=\"mw-deduplicated-inline-style\" href=\"mw-data:TemplateStyles:r886058088\"/></span>\\n</li>\\n<li id=\"cite_note-3\"><span class=\"mw-cite-backlink\"><b><a href=\"#cite_ref-3\">^</a></b></span> <span class=\"reference-text\"><cite class=\"citation news\"><a rel=\"nofollow\" class=\"external text\" href=\"https://www.scotsman.com/arts-and-culture/film-and-tv/emily-watson-on-her-new-tv-drama-chernobyl-1-4920211\">\"Emily Watson on her new TV drama, Chernobyl\"</a>. <i><a href=\"/wiki/The_Scotsman\" title=\"The Scotsman\">The Scotsman</a></i>. <a href=\"/wiki/JPIMedia\" title=\"JPIMedia\">JPIMedia</a>. May 4, 2019<span class=\"reference-accessdate\">. Retrieved <span class=\"nowrap\">May 28,</span> 2019</span>.</cite><span title=\"ctx_ver=Z39.88-2004&amp;rft_val_fmt=info%3Aofi%2Ffmt%3Akev%3Amtx%3Ajournal&amp;rft.genre=article&amp;rft.jtitle=The+Scotsman&amp;rft.atitle=Emily+Watson+on+her+new+TV+drama%2C+Chernobyl&amp;rft.date=2019-05-04&amp;rft_id=https%3A%2F%2Fwww.scotsman.com%2Farts-and-culture%2Ffilm-and-tv%2Femily-watson-on-her-new-tv-drama-chernobyl-1-4920211&amp;rfr_id=info%3Asid%2Fen.wikipedia.org%3AChernobyl+%28miniseries%29\" class=\"Z3988\"></span><link rel=\"mw-deduplicated-inline-style\" href=\"mw-data:TemplateStyles:r886058088\"/></span>\\n</li>\\n<li id=\"cite_note-1.01-4\"><span class=\"mw-cite-backlink\">^ <a href=\"#cite_ref-1.01_4-0\"><sup><i><b>a</b></i></sup></a> <a href=\"#cite_ref-1.01_4-1\"><sup><i><b>b</b></i></sup></a></span> <span class=\"reference-text\"><cite class=\"citation news\">Metcalf, Mitch (May 7, 2019). <a rel=\"nofollow\" class=\"external text\" href=\"http://www.showbuzzdaily.com/articles/showbuzzdailys-top-150-monday-cable-originals-network-finals-5-6-2019.html\">\"Updated: ShowBuzzDaily\\'s Top 150 Monday Cable Originals &amp; Network Finals: 5.6.2019\"</a>. <i>Showbuzz Daily</i>. <a rel=\"nofollow\" class=\"external text\" href=\"https://web.archive.org/web/20190507202225/http://www.showbuzzdaily.com/articles/showbuzzdailys-top-150-monday-cable-originals-network-finals-5-6-2019.html\">Archived</a> from the original on May 7, 2019<span class=\"reference-accessdate\">. Retrieved <span class=\"nowrap\">May 7,</span> 2019</span>.</cite><span title=\"ctx_ver=Z39.88-2004&amp;rft_val_fmt=info%3Aofi%2Ffmt%3Akev%3Amtx%3Ajournal&amp;rft.genre=article&amp;rft.jtitle=Showbuzz+Daily&amp;rft.atitle=Updated%3A+ShowBuzzDaily%27s+Top+150+Monday+Cable+Originals+%26+Network+Finals%3A+5.6.2019&amp;rft.date=2019-05-07&amp;rft.aulast=Metcalf&amp;rft.aufirst=Mitch&amp;rft_id=http%3A%2F%2Fwww.showbuzzdaily.com%2Farticles%2Fshowbuzzdailys-top-150-monday-cable-originals-network-finals-5-6-2019.html&amp;rfr_id=info%3Asid%2Fen.wikipedia.org%3AChernobyl+%28miniseries%29\" class=\"Z3988\"></span><link rel=\"mw-deduplicated-inline-style\" href=\"mw-data:TemplateStyles:r886058088\"/></span>\\n</li>\\n<li id=\"cite_note-barb.co.uk-5\"><span class=\"mw-cite-backlink\">^ <a href=\"#cite_ref-barb.co.uk_5-0\"><sup><i><b>a</b></i></sup></a> <a href=\"#cite_ref-barb.co.uk_5-1\"><sup><i><b>b</b></i></sup></a></span> <span class=\"reference-text\"><cite class=\"citation web\"><a rel=\"nofollow\" class=\"external text\" href=\"https://www.barb.co.uk/viewing-data/four-screen-dashboard\">\"Weekly four-screen dashboard – BARB\"</a>. <i>barb.co.uk</i><span></span><i>. <a rel=\"nofollow\" class=\"external text\" href=\"https://web.archive.org/web/20190330085121/https://www.barb.co.uk/viewing-data/four-screen-dashboard/\">Archived</a> from the original on March 30, 2019<span class=\"reference-accessdate\">. Retrieved <span class=\"nowrap\">May 28,</span> 2019</span>.</i></cite><i><span title=\"ctx_ver=Z39.88-2004&amp;rft_val_fmt=info%3Aofi%2Ffmt%3Akev%3Amtx%3Ajournal&amp;rft.genre=unknown&amp;rft.jtitle=barb.co.uk%27%27&amp;rft.atitle=Weekly+four-screen+dashboard+%E2%80%93+BARB&amp;rft_id=https%3A%2F%2Fwww.barb.co.uk%2Fviewing-data%2Ffour-screen-dashboard&amp;rfr_id=info%3Asid%2Fen.wikipedia.org%3AChernobyl+%28miniseries%29\" class=\"Z3988\"></span><link rel=\"mw-deduplicated-inline-style\" href=\"mw-data:TemplateStyles:r886058088\"/></i></span>\\n</li>\\n<li id=\"cite_note-1.02-6\"><span class=\"mw-cite-backlink\">^ <a href=\"#cite_ref-1.02_6-0\"><sup><i><b>a</b></i></sup></a> <a href=\"#cite_ref-1.02_6-1\"><sup><i><b>b</b></i></sup></a></span> <span class=\"reference-text\"><cite class=\"citation news\">Metcalf, Mitch (May 14, 2019). <a rel=\"nofollow\" class=\"external text\" href=\"http://www.showbuzzdaily.com/articles/showbuzzdailys-top-150-monday-cable-originals-network-finals-5-13-2019.html\">\"Updated: ShowBuzzDaily\\'s Top 150 Monday Cable Originals &amp; Network Finals: 5.13.2019\"</a>. <i>Showbuzz Daily</i>. <a rel=\"nofollow\" class=\"external text\" href=\"https://web.archive.org/web/20190514202216/http://www.showbuzzdaily.com/articles/showbuzzdailys-top-150-monday-cable-originals-network-finals-5-13-2019.html\">Archived</a> from the original on May 14, 2019<span class=\"reference-accessdate\">. Retrieved <span class=\"nowrap\">May 14,</span> 2019</span>.</cite><span title=\"ctx_ver=Z39.88-2004&amp;rft_val_fmt=info%3Aofi%2Ffmt%3Akev%3Amtx%3Ajournal&amp;rft.genre=article&amp;rft.jtitle=Showbuzz+Daily&amp;rft.atitle=Updated%3A+ShowBuzzDaily%27s+Top+150+Monday+Cable+Originals+%26+Network+Finals%3A+5.13.2019&amp;rft.date=2019-05-14&amp;rft.aulast=Metcalf&amp;rft.aufirst=Mitch&amp;rft_id=http%3A%2F%2Fwww.showbuzzdaily.com%2Farticles%2Fshowbuzzdailys-top-150-monday-cable-originals-network-finals-5-13-2019.html&amp;rfr_id=info%3Asid%2Fen.wikipedia.org%3AChernobyl+%28miniseries%29\" class=\"Z3988\"></span><link rel=\"mw-deduplicated-inline-style\" href=\"mw-data:TemplateStyles:r886058088\"/></span>\\n</li>\\n<li id=\"cite_note-1.03-7\"><span class=\"mw-cite-backlink\">^ <a href=\"#cite_ref-1.03_7-0\"><sup><i><b>a</b></i></sup></a> <a href=\"#cite_ref-1.03_7-1\"><sup><i><b>b</b></i></sup></a></span> <span class=\"reference-text\"><cite class=\"citation news\">Metcalf, Mitch (May 21, 2019). <a rel=\"nofollow\" class=\"external text\" href=\"http://www.showbuzzdaily.com/articles/showbuzzdailys-top-150-monday-cable-originals-network-finals-5-20-2019.html\">\"Updated: ShowBuzzDaily\\'s Top 150 Monday Cable Originals &amp; Network Finals: 5.20.2019\"</a>. <i>Showbuzz Daily</i>. <a rel=\"nofollow\" class=\"external text\" href=\"https://web.archive.org/web/20190523164240/http://www.showbuzzdaily.com/articles/showbuzzdailys-top-150-monday-cable-originals-network-finals-5-20-2019.html\">Archived</a> from the original on May 23, 2019<span class=\"reference-accessdate\">. Retrieved <span class=\"nowrap\">May 21,</span> 2019</span>.</cite><span title=\"ctx_ver=Z39.88-2004&amp;rft_val_fmt=info%3Aofi%2Ffmt%3Akev%3Amtx%3Ajournal&amp;rft.genre=article&amp;rft.jtitle=Showbuzz+Daily&amp;rft.atitle=Updated%3A+ShowBuzzDaily%27s+Top+150+Monday+Cable+Originals+%26+Network+Finals%3A+5.20.2019&amp;rft.date=2019-05-21&amp;rft.aulast=Metcalf&amp;rft.aufirst=Mitch&amp;rft_id=http%3A%2F%2Fwww.showbuzzdaily.com%2Farticles%2Fshowbuzzdailys-top-150-monday-cable-originals-network-finals-5-20-2019.html&amp;rfr_id=info%3Asid%2Fen.wikipedia.org%3AChernobyl+%28miniseries%29\" class=\"Z3988\"></span><link rel=\"mw-deduplicated-inline-style\" href=\"mw-data:TemplateStyles:r886058088\"/></span>\\n</li>\\n<li id=\"cite_note-1.04-8\"><span class=\"mw-cite-backlink\">^ <a href=\"#cite_ref-1.04_8-0\"><sup><i><b>a</b></i></sup></a> <a href=\"#cite_ref-1.04_8-1\"><sup><i><b>b</b></i></sup></a></span> <span class=\"reference-text\"><cite class=\"citation news\">Metcalf, Mitch (May 29, 2019). <a rel=\"nofollow\" class=\"external text\" href=\"http://www.showbuzzdaily.com/articles/showbuzzdailys-top-150-monday-cable-originals-network-finals-5-27-2019.html\">\"Updated: ShowBuzzDaily\\'s Top 150 Monday Cable Originals &amp; Network Finals: 5.27.2019\"</a>. <i>Showbuzz Daily</i><span class=\"reference-accessdate\">. Retrieved <span class=\"nowrap\">May 29,</span> 2019</span>.</cite><span title=\"ctx_ver=Z39.88-2004&amp;rft_val_fmt=info%3Aofi%2Ffmt%3Akev%3Amtx%3Ajournal&amp;rft.genre=article&amp;rft.jtitle=Showbuzz+Daily&amp;rft.atitle=Updated%3A+ShowBuzzDaily%27s+Top+150+Monday+Cable+Originals+%26+Network+Finals%3A+5.27.2019&amp;rft.date=2019-05-29&amp;rft.aulast=Metcalf&amp;rft.aufirst=Mitch&amp;rft_id=http%3A%2F%2Fwww.showbuzzdaily.com%2Farticles%2Fshowbuzzdailys-top-150-monday-cable-originals-network-finals-5-27-2019.html&amp;rfr_id=info%3Asid%2Fen.wikipedia.org%3AChernobyl+%28miniseries%29\" class=\"Z3988\"></span><link rel=\"mw-deduplicated-inline-style\" href=\"mw-data:TemplateStyles:r886058088\"/></span>\\n</li>\\n<li id=\"cite_note-10\"><span class=\"mw-cite-backlink\"><b><a href=\"#cite_ref-10\">^</a></b></span> <span class=\"reference-text\"><cite class=\"citation web\"><a rel=\"nofollow\" class=\"external text\" href=\"https://www.hbo.com/schedule?focusId=812854\">\"Chernobyl 05: Vichnaya Pamyat\"</a>. <i><a href=\"/wiki/HBO\" title=\"HBO\">HBO</a></i>. <a rel=\"nofollow\" class=\"external text\" href=\"https://web.archive.org/web/20190401070001/https://www.hbo.com/schedule?focusId=812854\">Archived</a> from the original on April 1, 2019<span class=\"reference-accessdate\">. Retrieved <span class=\"nowrap\">April 1,</span> 2019</span>.</cite><span title=\"ctx_ver=Z39.88-2004&amp;rft_val_fmt=info%3Aofi%2Ffmt%3Akev%3Amtx%3Ajournal&amp;rft.genre=unknown&amp;rft.jtitle=HBO&amp;rft.atitle=Chernobyl+05%3A+Vichnaya+Pamyat&amp;rft_id=https%3A%2F%2Fwww.hbo.com%2Fschedule%3FfocusId%3D812854&amp;rfr_id=info%3Asid%2Fen.wikipedia.org%3AChernobyl+%28miniseries%29\" class=\"Z3988\"></span><link rel=\"mw-deduplicated-inline-style\" href=\"mw-data:TemplateStyles:r886058088\"/></span>\\n</li>\\n<li id=\"cite_note-11\"><span class=\"mw-cite-backlink\"><b><a href=\"#cite_ref-11\">^</a></b></span> <span class=\"reference-text\"><cite class=\"citation web\"><a rel=\"nofollow\" class=\"external text\" href=\"https://medium.com/hbo-cinemax-pr/chernobyl-debuts-may-6-on-hbo-a291ea24b3ee\">\"Five-Part Miniseries CHERNOBYL, An HBO/Sky Co-Production Starring Jared Harris, Stellan Skarsgård and Emily Watson, Written and Created by Craig Mazin, and Directed by Johan Renck, Debuts May 6 on HBO\"</a>. HBO. April 10, 2019<span class=\"reference-accessdate\">. Retrieved <span class=\"nowrap\">May 31,</span> 2019</span>.</cite><span title=\"ctx_ver=Z39.88-2004&amp;rft_val_fmt=info%3Aofi%2Ffmt%3Akev%3Amtx%3Abook&amp;rft.genre=unknown&amp;rft.btitle=Five-Part+Miniseries+CHERNOBYL%2C+An+HBO%2FSky+Co-Production+Starring+Jared+Harris%2C+Stellan+Skarsg%C3%A5rd+and+Emily+Watson%2C+Written+and+Created+by+Craig+Mazin%2C+and+Directed+by+Johan+Renck%2C+Debuts+May+6+on+HBO&amp;rft.pub=HBO&amp;rft.date=2019-04-10&amp;rft_id=https%3A%2F%2Fmedium.com%2Fhbo-cinemax-pr%2Fchernobyl-debuts-may-6-on-hbo-a291ea24b3ee&amp;rfr_id=info%3Asid%2Fen.wikipedia.org%3AChernobyl+%28miniseries%29\" class=\"Z3988\"></span><link rel=\"mw-deduplicated-inline-style\" href=\"mw-data:TemplateStyles:r886058088\"/></span>\\n</li>\\n<li id=\"cite_note-12\"><span class=\"mw-cite-backlink\"><b><a href=\"#cite_ref-12\">^</a></b></span> <span class=\"reference-text\"><cite class=\"citation web\">Topel, Fred (May 6, 2019). <a rel=\"nofollow\" class=\"external text\" href=\"https://www.slashfilm.com/craig-mazin-interview-chernobyl/\">\"<span class=\"cs1-kern-left\">\\'</span>Chernobyl\\' Creator Craig Mazin on His New HBO Miniseries and the Debt We Owe to the Truth\"</a>. <i>/Film</i>. <a rel=\"nofollow\" class=\"external text\" href=\"https://web.archive.org/web/20190509204246/https://www.slashfilm.com/craig-mazin-interview-chernobyl/\">Archived</a> from the original on May 9, 2019<span class=\"reference-accessdate\">. Retrieved <span class=\"nowrap\">May 9,</span> 2019</span>.</cite><span title=\"ctx_ver=Z39.88-2004&amp;rft_val_fmt=info%3Aofi%2Ffmt%3Akev%3Amtx%3Ajournal&amp;rft.genre=unknown&amp;rft.jtitle=%2FFilm&amp;rft.atitle=%E2%80%98Chernobyl%E2%80%99+Creator+Craig+Mazin+on+His+New+HBO+Miniseries+and+the+Debt+We+Owe+to+the+Truth&amp;rft.date=2019-05-06&amp;rft.aulast=Topel&amp;rft.aufirst=Fred&amp;rft_id=https%3A%2F%2Fwww.slashfilm.com%2Fcraig-mazin-interview-chernobyl%2F&amp;rfr_id=info%3Asid%2Fen.wikipedia.org%3AChernobyl+%28miniseries%29\" class=\"Z3988\"></span><link rel=\"mw-deduplicated-inline-style\" href=\"mw-data:TemplateStyles:r886058088\"/></span>\\n</li>\\n<li id=\"cite_note-13\"><span class=\"mw-cite-backlink\"><b><a href=\"#cite_ref-13\">^</a></b></span> <span class=\"reference-text\"><cite class=\"citation web\">Radish, Christina (May 27, 2019). <a rel=\"nofollow\" class=\"external text\" href=\"http://collider.com/chernobyl-interview-craig-mazin/\">\"<span class=\"cs1-kern-left\">\\'</span>Chernobyl\\' Creator Craig Mazin on Jumping from Comedies to a Real-Life Horror Show\"</a>. <i>Collider</i><span class=\"reference-accessdate\">. Retrieved <span class=\"nowrap\">May 31,</span> 2019</span>.</cite><span title=\"ctx_ver=Z39.88-2004&amp;rft_val_fmt=info%3Aofi%2Ffmt%3Akev%3Amtx%3Ajournal&amp;rft.genre=unknown&amp;rft.jtitle=Collider&amp;rft.atitle=%E2%80%98Chernobyl%E2%80%99+Creator+Craig+Mazin+on+Jumping+from+Comedies+to+a+Real-Life+Horror+Show&amp;rft.date=2019-05-27&amp;rft.aulast=Radish&amp;rft.aufirst=Christina&amp;rft_id=http%3A%2F%2Fcollider.com%2Fchernobyl-interview-craig-mazin%2F&amp;rfr_id=info%3Asid%2Fen.wikipedia.org%3AChernobyl+%28miniseries%29\" class=\"Z3988\"></span><link rel=\"mw-deduplicated-inline-style\" href=\"mw-data:TemplateStyles:r886058088\"/></span>\\n</li>\\n<li id=\"cite_note-14\"><span class=\"mw-cite-backlink\"><b><a href=\"#cite_ref-14\">^</a></b></span> <span class=\"reference-text\"><cite class=\"citation web\">Greene, Steve (May 6, 2019). <a rel=\"nofollow\" class=\"external text\" href=\"https://www.indiewire.com/2019/05/chernobyl-episode-1-craig-mazin-johan-renck-hbo-1202131596/\">\"<span class=\"cs1-kern-left\">\\'</span>Chernobyl\\': HBO Series Never Hides From History\\'s Physical and Psychological Horror\"</a>. <i>IndieWire</i><span class=\"reference-accessdate\">. Retrieved <span class=\"nowrap\">May 31,</span> 2019</span>.</cite><span title=\"ctx_ver=Z39.88-2004&amp;rft_val_fmt=info%3Aofi%2Ffmt%3Akev%3Amtx%3Ajournal&amp;rft.genre=unknown&amp;rft.jtitle=IndieWire&amp;rft.atitle=%E2%80%98Chernobyl%E2%80%99%3A+HBO+Series+Never+Hides+From+History%E2%80%99s+Physical+and+Psychological+Horror&amp;rft.date=2019-05-06&amp;rft.aulast=Greene&amp;rft.aufirst=Steve&amp;rft_id=https%3A%2F%2Fwww.indiewire.com%2F2019%2F05%2Fchernobyl-episode-1-craig-mazin-johan-renck-hbo-1202131596%2F&amp;rfr_id=info%3Asid%2Fen.wikipedia.org%3AChernobyl+%28miniseries%29\" class=\"Z3988\"></span><link rel=\"mw-deduplicated-inline-style\" href=\"mw-data:TemplateStyles:r886058088\"/></span>\\n</li>\\n<li id=\"cite_note-15\"><span class=\"mw-cite-backlink\"><b><a href=\"#cite_ref-15\">^</a></b></span> <span class=\"reference-text\"><cite class=\"citation web\">Lewis, Anna (May 31, 2019). <a rel=\"nofollow\" class=\"external text\" href=\"https://www.cosmopolitan.com/uk/entertainment/a27676785/chernobyl-why-cast-dont-do-ukrainian-russian-accents-craig-mazin/\">\"Chernobyl\\'s creator explains why most of the cast don\\'t put on Ukrainian/Russian accents\"</a>. <i>Cosmopolitan</i><span class=\"reference-accessdate\">. Retrieved <span class=\"nowrap\">May 31,</span> 2019</span>.</cite><span title=\"ctx_ver=Z39.88-2004&amp;rft_val_fmt=info%3Aofi%2Ffmt%3Akev%3Amtx%3Ajournal&amp;rft.genre=unknown&amp;rft.jtitle=Cosmopolitan&amp;rft.atitle=Chernobyl%E2%80%99s+creator+explains+why+most+of+the+cast+don%E2%80%99t+put+on+Ukrainian%2FRussian+accents&amp;rft.date=2019-05-31&amp;rft.aulast=Lewis&amp;rft.aufirst=Anna&amp;rft_id=https%3A%2F%2Fwww.cosmopolitan.com%2Fuk%2Fentertainment%2Fa27676785%2Fchernobyl-why-cast-dont-do-ukrainian-russian-accents-craig-mazin%2F&amp;rfr_id=info%3Asid%2Fen.wikipedia.org%3AChernobyl+%28miniseries%29\" class=\"Z3988\"></span><link rel=\"mw-deduplicated-inline-style\" href=\"mw-data:TemplateStyles:r886058088\"/></span>\\n</li>\\n<li id=\"cite_note-16\"><span class=\"mw-cite-backlink\"><b><a href=\"#cite_ref-16\">^</a></b></span> <span class=\"reference-text\"><cite class=\"citation web\">Mithaiwala, Mansoor (May 29, 2019). <a rel=\"nofollow\" class=\"external text\" href=\"https://screenrant.com/chernobyl-hbo-no-russian-accents-english-why/\">\"Chernobyl: Why Russians Speak With English Accents On HBO\\'s Show\"</a>. <i>Screen Rant</i><span class=\"reference-accessdate\">. Retrieved <span class=\"nowrap\">May 31,</span> 2019</span>.</cite><span title=\"ctx_ver=Z39.88-2004&amp;rft_val_fmt=info%3Aofi%2Ffmt%3Akev%3Amtx%3Ajournal&amp;rft.genre=unknown&amp;rft.jtitle=Screen+Rant&amp;rft.atitle=Chernobyl%3A+Why+Russians+Speak+With+English+Accents+On+HBO%27s+Show&amp;rft.date=2019-05-29&amp;rft.aulast=Mithaiwala&amp;rft.aufirst=Mansoor&amp;rft_id=https%3A%2F%2Fscreenrant.com%2Fchernobyl-hbo-no-russian-accents-english-why%2F&amp;rfr_id=info%3Asid%2Fen.wikipedia.org%3AChernobyl+%28miniseries%29\" class=\"Z3988\"></span><link rel=\"mw-deduplicated-inline-style\" href=\"mw-data:TemplateStyles:r886058088\"/></span>\\n</li>\\n<li id=\"cite_note-SeriesOrder2-17\"><span class=\"mw-cite-backlink\">^ <a href=\"#cite_ref-SeriesOrder2_17-0\"><sup><i><b>a</b></i></sup></a> <a href=\"#cite_ref-SeriesOrder2_17-1\"><sup><i><b>b</b></i></sup></a> <a href=\"#cite_ref-SeriesOrder2_17-2\"><sup><i><b>c</b></i></sup></a></span> <span class=\"reference-text\"><cite class=\"citation web\">Littleton, Cynthia (July 26, 2017). <a rel=\"nofollow\" class=\"external text\" href=\"https://variety.com/2017/tv/news/hbo-chernobyl-miniseries-jared-harris-1202507712/\">\"HBO Sets \\'Chernobyl\\' Miniseries to Star Jared Harris\"</a>. <i>Variety</i>. <a rel=\"nofollow\" class=\"external text\" href=\"https://web.archive.org/web/20190512214311/https://variety.com/2017/tv/news/hbo-chernobyl-miniseries-jared-harris-1202507712/\">Archived</a> from the original on May 12, 2019<span class=\"reference-accessdate\">. Retrieved <span class=\"nowrap\">November 24,</span> 2017</span>.</cite><span title=\"ctx_ver=Z39.88-2004&amp;rft_val_fmt=info%3Aofi%2Ffmt%3Akev%3Amtx%3Ajournal&amp;rft.genre=unknown&amp;rft.jtitle=Variety&amp;rft.atitle=HBO+Sets+%E2%80%98Chernobyl%E2%80%99+Miniseries+to+Star+Jared+Harris&amp;rft.date=2017-07-26&amp;rft.aulast=Littleton&amp;rft.aufirst=Cynthia&amp;rft_id=https%3A%2F%2Fvariety.com%2F2017%2Ftv%2Fnews%2Fhbo-chernobyl-miniseries-jared-harris-1202507712%2F&amp;rfr_id=info%3Asid%2Fen.wikipedia.org%3AChernobyl+%28miniseries%29\" class=\"Z3988\"></span><link rel=\"mw-deduplicated-inline-style\" href=\"mw-data:TemplateStyles:r886058088\"/></span>\\n</li>\\n<li id=\"cite_note-ChernobylMay2019-18\"><span class=\"mw-cite-backlink\"><b><a href=\"#cite_ref-ChernobylMay2019_18-0\">^</a></b></span> <span class=\"reference-text\"><cite class=\"citation web\">Dela Paz, Maggie (March 11, 2019). <a rel=\"nofollow\" class=\"external text\" href=\"https://www.comingsoon.net/tv/trailers/1048451-hbo-chernobyl-premiere-date-new-teaser\">\"HBO Miniseries Chernobyl Sets May Premiere Date\"</a>. <i>ComingSoon.net</i>. <a rel=\"nofollow\" class=\"external text\" href=\"https://web.archive.org/web/20190327091434/https://www.comingsoon.net/tv/trailers/1048451-hbo-chernobyl-premiere-date-new-teaser\">Archived</a> from the original on March 27, 2019<span class=\"reference-accessdate\">. Retrieved <span class=\"nowrap\">May 7,</span> 2019</span>.</cite><span title=\"ctx_ver=Z39.88-2004&amp;rft_val_fmt=info%3Aofi%2Ffmt%3Akev%3Amtx%3Ajournal&amp;rft.genre=unknown&amp;rft.jtitle=ComingSoon.net&amp;rft.atitle=HBO+Miniseries+Chernobyl+Sets+May+Premiere+Date&amp;rft.date=2019-03-11&amp;rft.aulast=Dela+Paz&amp;rft.aufirst=Maggie&amp;rft_id=https%3A%2F%2Fwww.comingsoon.net%2Ftv%2Ftrailers%2F1048451-hbo-chernobyl-premiere-date-new-teaser&amp;rfr_id=info%3Asid%2Fen.wikipedia.org%3AChernobyl+%28miniseries%29\" class=\"Z3988\"></span><link rel=\"mw-deduplicated-inline-style\" href=\"mw-data:TemplateStyles:r886058088\"/></span>\\n</li>\\n<li id=\"cite_note-19\"><span class=\"mw-cite-backlink\"><b><a href=\"#cite_ref-19\">^</a></b></span> <span class=\"reference-text\"><cite class=\"citation web\">Andreeva, Nellie (March 19, 2018). <a rel=\"nofollow\" class=\"external text\" href=\"http://deadline.com/2018/03/chernobyl-stellan-skarsgard-emily-watson-star-hbo-sky-miniseries-1202339198/\">\"<span class=\"cs1-kern-left\">\\'</span>Chernobyl\\': Stellan Skarsgård &amp; Emily Watson To Star In HBO &amp; Sky\\'s Miniseries\"</a>. <i>Deadline Hollywood</i>. <a rel=\"nofollow\" class=\"external text\" href=\"https://web.archive.org/web/20180319172706/http://deadline.com/2018/03/chernobyl-stellan-skarsgard-emily-watson-star-hbo-sky-miniseries-1202339198/\">Archived</a> from the original on March 19, 2018<span class=\"reference-accessdate\">. Retrieved <span class=\"nowrap\">March 19,</span> 2018</span>.</cite><span title=\"ctx_ver=Z39.88-2004&amp;rft_val_fmt=info%3Aofi%2Ffmt%3Akev%3Amtx%3Ajournal&amp;rft.genre=unknown&amp;rft.jtitle=Deadline+Hollywood&amp;rft.atitle=%E2%80%98Chernobyl%E2%80%99%3A+Stellan+Skarsg%C3%A5rd+%26+Emily+Watson+To+Star+In+HBO+%26+Sky%E2%80%99s+Miniseries&amp;rft.date=2018-03-19&amp;rft.aulast=Andreeva&amp;rft.aufirst=Nellie&amp;rft_id=http%3A%2F%2Fdeadline.com%2F2018%2F03%2Fchernobyl-stellan-skarsgard-emily-watson-star-hbo-sky-miniseries-1202339198%2F&amp;rfr_id=info%3Asid%2Fen.wikipedia.org%3AChernobyl+%28miniseries%29\" class=\"Z3988\"></span><link rel=\"mw-deduplicated-inline-style\" href=\"mw-data:TemplateStyles:r886058088\"/></span>\\n</li>\\n<li id=\"cite_note-20\"><span class=\"mw-cite-backlink\"><b><a href=\"#cite_ref-20\">^</a></b></span> <span class=\"reference-text\"><cite class=\"citation web\">Petski, Denise (May 23, 2018). <a rel=\"nofollow\" class=\"external text\" href=\"https://deadline.com/2018/05/chernobyl-paul-ritter-jessie-buckley-adrian-rawlins-con-oneil-cast-hbo-sky-miniseries-1202396231/\">\"<span class=\"cs1-kern-left\">\\'</span>Chernobyl\\': Paul Ritter, Jessie Buckley, Adrian Rawlins &amp; Con O\\'Neil Among Cast Additions For HBO/Sky Miniseries\"</a>. <i>Deadline</i>. <a rel=\"nofollow\" class=\"external text\" href=\"https://web.archive.org/web/20190512215541/https://deadline.com/2018/05/chernobyl-paul-ritter-jessie-buckley-adrian-rawlins-con-oneil-cast-hbo-sky-miniseries-1202396231/\">Archived</a> from the original on May 12, 2019<span class=\"reference-accessdate\">. Retrieved <span class=\"nowrap\">February 19,</span> 2019</span>.</cite><span title=\"ctx_ver=Z39.88-2004&amp;rft_val_fmt=info%3Aofi%2Ffmt%3Akev%3Amtx%3Ajournal&amp;rft.genre=unknown&amp;rft.jtitle=Deadline&amp;rft.atitle=%E2%80%98Chernobyl%E2%80%99%3A+Paul+Ritter%2C+Jessie+Buckley%2C+Adrian+Rawlins+%26+Con+O%E2%80%99Neil+Among+Cast+Additions+For+HBO%2FSky+Miniseries&amp;rft.date=2018-05-23&amp;rft.aulast=Petski&amp;rft.aufirst=Denise&amp;rft_id=https%3A%2F%2Fdeadline.com%2F2018%2F05%2Fchernobyl-paul-ritter-jessie-buckley-adrian-rawlins-con-oneil-cast-hbo-sky-miniseries-1202396231%2F&amp;rfr_id=info%3Asid%2Fen.wikipedia.org%3AChernobyl+%28miniseries%29\" class=\"Z3988\"></span><link rel=\"mw-deduplicated-inline-style\" href=\"mw-data:TemplateStyles:r886058088\"/></span>\\n</li>\\n<li id=\"cite_note-21\"><span class=\"mw-cite-backlink\"><b><a href=\"#cite_ref-21\">^</a></b></span> <span class=\"reference-text\"><cite class=\"citation web\">Lapienytė, Jurgita (May 13, 2018). <a rel=\"nofollow\" class=\"external text\" href=\"https://www.15min.lt/kultura/naujiena/kinas/fabijoniskese-filmuojamo-cernobylio-rezisierius-pakeite-poziuri-i-branduoline-energija-tai-pabaisa-kurios-negalime-suvaldyti-4-970854\">\"Fabijoniškėse filmuojamo „Černobylio\" režisierius pakeitė požiūrį į branduolinę energiją: tai pabaisa, kurios negalime suvaldyti\"</a>. <i>15min.lt</i> (in Lithuanian). <a rel=\"nofollow\" class=\"external text\" href=\"https://web.archive.org/web/20190401192332/https://www.15min.lt/kultura/naujiena/kinas/fabijoniskese-filmuojamo-cernobylio-rezisierius-pakeite-poziuri-i-branduoline-energija-tai-pabaisa-kurios-negalime-suvaldyti-4-970854\">Archived</a> from the original on April 1, 2019<span class=\"reference-accessdate\">. Retrieved <span class=\"nowrap\">April 1,</span> 2019</span>.</cite><span title=\"ctx_ver=Z39.88-2004&amp;rft_val_fmt=info%3Aofi%2Ffmt%3Akev%3Amtx%3Ajournal&amp;rft.genre=unknown&amp;rft.jtitle=15min.lt&amp;rft.atitle=Fabijoni%C5%A1k%C4%97se+filmuojamo+%E2%80%9E%C4%8Cernobylio%E2%80%9C+re%C5%BEisierius+pakeit%C4%97+po%C5%BEi%C5%ABr%C4%AF+%C4%AF+branduolin%C4%99+energij%C4%85%3A+tai+pabaisa%2C+kurios+negalime+suvaldyti&amp;rft.date=2018-05-13&amp;rft.aulast=Lapienyt%C4%97&amp;rft.aufirst=Jurgita&amp;rft_id=https%3A%2F%2Fwww.15min.lt%2Fkultura%2Fnaujiena%2Fkinas%2Ffabijoniskese-filmuojamo-cernobylio-rezisierius-pakeite-poziuri-i-branduoline-energija-tai-pabaisa-kurios-negalime-suvaldyti-4-970854&amp;rfr_id=info%3Asid%2Fen.wikipedia.org%3AChernobyl+%28miniseries%29\" class=\"Z3988\"></span><link rel=\"mw-deduplicated-inline-style\" href=\"mw-data:TemplateStyles:r886058088\"/></span>\\n</li>\\n<li id=\"cite_note-22\"><span class=\"mw-cite-backlink\"><b><a href=\"#cite_ref-22\">^</a></b></span> <span class=\"reference-text\"><cite class=\"citation web\"><a rel=\"nofollow\" class=\"external text\" href=\"https://www.15min.lt/kultura/naujiena/kinas/prodiusere-hbo-projektas-lietuvoje-paliks-ne-maziau-7-mln-euru-4-831994\">\"Prodiuserė: HBO projektas Lietuvoje paliks ne mažiau 7 mln. eurų\"</a>. <i>15min.lt</i> (in Lithuanian). July 27, 2017. <a rel=\"nofollow\" class=\"external text\" href=\"https://web.archive.org/web/20190401210510/https://www.15min.lt/kultura/naujiena/kinas/prodiusere-hbo-projektas-lietuvoje-paliks-ne-maziau-7-mln-euru-4-831994\">Archived</a> from the original on April 1, 2019<span class=\"reference-accessdate\">. Retrieved <span class=\"nowrap\">April 1,</span> 2019</span>.</cite><span title=\"ctx_ver=Z39.88-2004&amp;rft_val_fmt=info%3Aofi%2Ffmt%3Akev%3Amtx%3Ajournal&amp;rft.genre=unknown&amp;rft.jtitle=15min.lt&amp;rft.atitle=Prodiuser%C4%97%3A+HBO+projektas+Lietuvoje+paliks+ne+ma%C5%BEiau+7+mln.+eur%C5%B3&amp;rft.date=2017-07-27&amp;rft_id=https%3A%2F%2Fwww.15min.lt%2Fkultura%2Fnaujiena%2Fkinas%2Fprodiusere-hbo-projektas-lietuvoje-paliks-ne-maziau-7-mln-euru-4-831994&amp;rfr_id=info%3Asid%2Fen.wikipedia.org%3AChernobyl+%28miniseries%29\" class=\"Z3988\"></span><link rel=\"mw-deduplicated-inline-style\" href=\"mw-data:TemplateStyles:r886058088\"/></span>\\n</li>\\n<li id=\"cite_note-23\"><span class=\"mw-cite-backlink\"><b><a href=\"#cite_ref-23\">^</a></b></span> <span class=\"reference-text\"><cite class=\"citation web\"><a rel=\"nofollow\" class=\"external text\" href=\"https://www.rottentomatoes.com/tv/chernobyl/s01\">\"Chernobyl: Miniseries (2019)\"</a>. <i><a href=\"/wiki/Rotten_Tomatoes\" title=\"Rotten Tomatoes\">Rotten Tomatoes</a></i>. <a href=\"/wiki/Fandango_Media\" class=\"mw-redirect\" title=\"Fandango Media\">Fandango Media</a>. <a rel=\"nofollow\" class=\"external text\" href=\"https://web.archive.org/web/20190507120924/https://www.rottentomatoes.com/tv/chernobyl/s01\">Archived</a> from the original on May 7, 2019<span class=\"reference-accessdate\">. Retrieved <span class=\"nowrap\">May 6,</span> 2019</span>.</cite><span title=\"ctx_ver=Z39.88-2004&amp;rft_val_fmt=info%3Aofi%2Ffmt%3Akev%3Amtx%3Ajournal&amp;rft.genre=unknown&amp;rft.jtitle=Rotten+Tomatoes&amp;rft.atitle=Chernobyl%3A+Miniseries+%282019%29&amp;rft_id=https%3A%2F%2Fwww.rottentomatoes.com%2Ftv%2Fchernobyl%2Fs01&amp;rfr_id=info%3Asid%2Fen.wikipedia.org%3AChernobyl+%28miniseries%29\" class=\"Z3988\"></span><link rel=\"mw-deduplicated-inline-style\" href=\"mw-data:TemplateStyles:r886058088\"/></span>\\n</li>\\n<li id=\"cite_note-24\"><span class=\"mw-cite-backlink\"><b><a href=\"#cite_ref-24\">^</a></b></span> <span class=\"reference-text\"><cite class=\"citation web\"><a rel=\"nofollow\" class=\"external text\" href=\"https://www.metacritic.com/tv/chernobyl\">\"Chernobyl\"</a>. <i><a href=\"/wiki/Metacritic\" title=\"Metacritic\">Metacritic</a></i>. <a href=\"/wiki/CBS\" title=\"CBS\">CBS</a>. <a rel=\"nofollow\" class=\"external text\" href=\"https://web.archive.org/web/20190506020539/https://www.metacritic.com/tv/chernobyl\">Archived</a> from the original on May 6, 2019<span class=\"reference-accessdate\">. Retrieved <span class=\"nowrap\">May 6,</span> 2019</span>.</cite><span title=\"ctx_ver=Z39.88-2004&amp;rft_val_fmt=info%3Aofi%2Ffmt%3Akev%3Amtx%3Ajournal&amp;rft.genre=unknown&amp;rft.jtitle=Metacritic&amp;rft.atitle=Chernobyl&amp;rft_id=https%3A%2F%2Fwww.metacritic.com%2Ftv%2Fchernobyl&amp;rfr_id=info%3Asid%2Fen.wikipedia.org%3AChernobyl+%28miniseries%29\" class=\"Z3988\"></span><link rel=\"mw-deduplicated-inline-style\" href=\"mw-data:TemplateStyles:r886058088\"/></span>\\n</li>\\n<li id=\"cite_note-25\"><span class=\"mw-cite-backlink\"><b><a href=\"#cite_ref-25\">^</a></b></span> <span class=\"reference-text\"><cite class=\"citation news\">Gilbert, Sophie (May 6, 2019). <a rel=\"nofollow\" class=\"external text\" href=\"https://www.theatlantic.com/entertainment/archive/2019/05/chernobyl-gruesome-riveting-fable-hbo/588688/\">\"Chernobyl Is a Gruesome, Riveting Fable\"</a>. <i>The Atlantic</i>. <a rel=\"nofollow\" class=\"external text\" href=\"https://web.archive.org/web/20190507074723/https://www.theatlantic.com/entertainment/archive/2019/05/chernobyl-gruesome-riveting-fable-hbo/588688/\">Archived</a> from the original on May 7, 2019<span class=\"reference-accessdate\">. Retrieved <span class=\"nowrap\">May 7,</span> 2019</span>.</cite><span title=\"ctx_ver=Z39.88-2004&amp;rft_val_fmt=info%3Aofi%2Ffmt%3Akev%3Amtx%3Ajournal&amp;rft.genre=article&amp;rft.jtitle=The+Atlantic&amp;rft.atitle=Chernobyl+Is+a+Gruesome%2C+Riveting+Fable&amp;rft.date=2019-05-06&amp;rft.aulast=Gilbert&amp;rft.aufirst=Sophie&amp;rft_id=https%3A%2F%2Fwww.theatlantic.com%2Fentertainment%2Farchive%2F2019%2F05%2Fchernobyl-gruesome-riveting-fable-hbo%2F588688%2F&amp;rfr_id=info%3Asid%2Fen.wikipedia.org%3AChernobyl+%28miniseries%29\" class=\"Z3988\"></span><link rel=\"mw-deduplicated-inline-style\" href=\"mw-data:TemplateStyles:r886058088\"/></span>\\n</li>\\n<li id=\"cite_note-26\"><span class=\"mw-cite-backlink\"><b><a href=\"#cite_ref-26\">^</a></b></span> <span class=\"reference-text\"><cite class=\"citation news\">Stuever, Hank (May 5, 2019). <a rel=\"nofollow\" class=\"external text\" href=\"https://www.washingtonpost.com/entertainment/tv/a-grim-chernobyl-shows-what-happens-when-lying-is-standard-and-authority-is-abused/2019/05/05/63fd3d04-6dd2-11e9-a66d-a82d3f3d96d5_story.html\">\"A grim \\'Chernobyl\\' shows what happens when lying is standard and authority is abused\"</a>. <i>The Washington Post</i>. <a rel=\"nofollow\" class=\"external text\" href=\"https://web.archive.org/web/20190507003342/https://www.washingtonpost.com/entertainment/tv/a-grim-chernobyl-shows-what-happens-when-lying-is-standard-and-authority-is-abused/2019/05/05/63fd3d04-6dd2-11e9-a66d-a82d3f3d96d5_story.html\">Archived</a> from the original on May 7, 2019<span class=\"reference-accessdate\">. Retrieved <span class=\"nowrap\">May 7,</span> 2019</span>.</cite><span title=\"ctx_ver=Z39.88-2004&amp;rft_val_fmt=info%3Aofi%2Ffmt%3Akev%3Amtx%3Ajournal&amp;rft.genre=article&amp;rft.jtitle=The+Washington+Post&amp;rft.atitle=A+grim+%E2%80%98Chernobyl%E2%80%99+shows+what+happens+when+lying+is+standard+and+authority+is+abused&amp;rft.date=2019-05-05&amp;rft.aulast=Stuever&amp;rft.aufirst=Hank&amp;rft_id=https%3A%2F%2Fwww.washingtonpost.com%2Fentertainment%2Ftv%2Fa-grim-chernobyl-shows-what-happens-when-lying-is-standard-and-authority-is-abused%2F2019%2F05%2F05%2F63fd3d04-6dd2-11e9-a66d-a82d3f3d96d5_story.html&amp;rfr_id=info%3Asid%2Fen.wikipedia.org%3AChernobyl+%28miniseries%29\" class=\"Z3988\"></span><link rel=\"mw-deduplicated-inline-style\" href=\"mw-data:TemplateStyles:r886058088\"/></span>\\n</li>\\n<li id=\"cite_note-27\"><span class=\"mw-cite-backlink\"><b><a href=\"#cite_ref-27\">^</a></b></span> <span class=\"reference-text\"><cite class=\"citation news\">Saunders, Emmma (May 6, 2019). <a rel=\"nofollow\" class=\"external text\" href=\"https://www.bbc.com/news/entertainment-arts-48090834\">\"Chernobyl disaster: \\'I didn\\'t know the truth<span class=\"cs1-kern-right\">\\'</span>\"</a>. <i>BBC News</i>. <a rel=\"nofollow\" class=\"external text\" href=\"https://web.archive.org/web/20190507015708/https://www.bbc.com/news/entertainment-arts-48090834\">Archived</a> from the original on May 7, 2019<span class=\"reference-accessdate\">. Retrieved <span class=\"nowrap\">May 7,</span> 2019</span>.</cite><span title=\"ctx_ver=Z39.88-2004&amp;rft_val_fmt=info%3Aofi%2Ffmt%3Akev%3Amtx%3Ajournal&amp;rft.genre=article&amp;rft.jtitle=BBC+News&amp;rft.atitle=Chernobyl+disaster%3A+%27I+didn%27t+know+the+truth%27&amp;rft.date=2019-05-06&amp;rft.aulast=Saunders&amp;rft.aufirst=Emmma&amp;rft_id=https%3A%2F%2Fwww.bbc.com%2Fnews%2Fentertainment-arts-48090834&amp;rfr_id=info%3Asid%2Fen.wikipedia.org%3AChernobyl+%28miniseries%29\" class=\"Z3988\"></span><link rel=\"mw-deduplicated-inline-style\" href=\"mw-data:TemplateStyles:r886058088\"/></span>\\n</li>\\n</ol></div></div>\\n<table role=\"presentation\" class=\"mbox-small plainlinks sistersitebox\" style=\"background-color:#f9f9f9;border:1px solid #aaa;color:#000\">\\n<tbody><tr>\\n<td class=\"mbox-image\"><img alt=\"\" src=\"//upload.wikimedia.org/wikipedia/commons/thumb/f/fa/Wikiquote-logo.svg/34px-Wikiquote-logo.svg.png\" decoding=\"async\" width=\"34\" height=\"40\" class=\"noviewer\" srcset=\"//upload.wikimedia.org/wikipedia/commons/thumb/f/fa/Wikiquote-logo.svg/51px-Wikiquote-logo.svg.png 1.5x, //upload.wikimedia.org/wikipedia/commons/thumb/f/fa/Wikiquote-logo.svg/68px-Wikiquote-logo.svg.png 2x\" data-file-width=\"300\" data-file-height=\"355\" /></td>\\n<td class=\"mbox-text plainlist\">Wikiquote has quotations related to: <i><b><a href=\"https://en.wikiquote.org/wiki/Special:Search/Chernobyl_(miniseries)\" class=\"extiw\" title=\"q:Special:Search/Chernobyl (miniseries)\">Chernobyl (miniseries)</a></b></i></td></tr>\\n</tbody></table>\\n<h2><span class=\"mw-headline\" id=\"External_links\">External links</span></h2>\\n<ul><li><span class=\"official-website\"><span class=\"url\"><a rel=\"nofollow\" class=\"external text\" href=\"https://www.hbo.com/chernobyl\">Official website</a></span></span> <a href=\"https://www.wikidata.org/wiki/Q48741246#P856\" title=\"Edit this at Wikidata\"><img alt=\"Edit this at Wikidata\" src=\"//upload.wikimedia.org/wikipedia/commons/thumb/7/73/Blue_pencil.svg/10px-Blue_pencil.svg.png\" decoding=\"async\" width=\"10\" height=\"10\" style=\"vertical-align: text-top\" srcset=\"//upload.wikimedia.org/wikipedia/commons/thumb/7/73/Blue_pencil.svg/15px-Blue_pencil.svg.png 1.5x, //upload.wikimedia.org/wikipedia/commons/thumb/7/73/Blue_pencil.svg/20px-Blue_pencil.svg.png 2x\" data-file-width=\"600\" data-file-height=\"600\" /></a></li>\\n<li><a rel=\"nofollow\" class=\"external text\" href=\"https://www.imdb.com/title/tt7366338/\"><i>Chernobyl</i></a> on <a href=\"/wiki/IMDb\" title=\"IMDb\">IMDb</a>&#32; <a href=\"https://www.wikidata.org/wiki/Q48741246#P345\" title=\"Edit this at Wikidata\"><img alt=\"Edit this at Wikidata\" src=\"//upload.wikimedia.org/wikipedia/commons/thumb/7/73/Blue_pencil.svg/10px-Blue_pencil.svg.png\" decoding=\"async\" width=\"10\" height=\"10\" style=\"vertical-align: text-top\" srcset=\"//upload.wikimedia.org/wikipedia/commons/thumb/7/73/Blue_pencil.svg/15px-Blue_pencil.svg.png 1.5x, //upload.wikimedia.org/wikipedia/commons/thumb/7/73/Blue_pencil.svg/20px-Blue_pencil.svg.png 2x\" data-file-width=\"600\" data-file-height=\"600\" /></a></li></ul>\\n<div role=\"navigation\" class=\"navbox\" aria-labelledby=\"HBO_programming\" style=\"padding:3px\"><table class=\"nowraplinks hlist collapsible autocollapse navbox-inner\" style=\"border-spacing:0;background:transparent;color:inherit\"><tbody><tr><th scope=\"col\" class=\"navbox-title\" colspan=\"2\"><div class=\"plainlinks hlist navbar mini\"><ul><li class=\"nv-view\"><a href=\"/wiki/Template:HBONetwork_Shows\" title=\"Template:HBONetwork Shows\"><abbr title=\"View this template\" style=\";;background:none transparent;border:none;-moz-box-shadow:none;-webkit-box-shadow:none;box-shadow:none; padding:0;\">v</abbr></a></li><li class=\"nv-talk\"><a href=\"/wiki/Template_talk:HBONetwork_Shows\" title=\"Template talk:HBONetwork Shows\"><abbr title=\"Discuss this template\" style=\";;background:none transparent;border:none;-moz-box-shadow:none;-webkit-box-shadow:none;box-shadow:none; padding:0;\">t</abbr></a></li><li class=\"nv-edit\"><a class=\"external text\" href=\"//en.wikipedia.org/w/index.php?title=Template:HBONetwork_Shows&amp;action=edit\"><abbr title=\"Edit this template\" style=\";;background:none transparent;border:none;-moz-box-shadow:none;-webkit-box-shadow:none;box-shadow:none; padding:0;\">e</abbr></a></li></ul></div><div id=\"HBO_programming\" style=\"font-size:114%;margin:0 4em\"><a href=\"/wiki/HBO\" title=\"HBO\">HBO</a> <a href=\"/wiki/List_of_programs_broadcast_by_HBO\" title=\"List of programs broadcast by HBO\">programming</a></div></th></tr><tr><td colspan=\"2\" class=\"navbox-list navbox-odd\" style=\"width:100%;padding:0px\"><div style=\"padding:0em 0.25em\"></div><table class=\"nowraplinks collapsible collapsed navbox-subgroup\" style=\"border-spacing:0\"><tbody><tr><th scope=\"col\" class=\"navbox-title\" colspan=\"2\"><div id=\"Former\" style=\"font-size:114%;margin:0 4em\">Former</div></th></tr><tr><td colspan=\"2\" class=\"navbox-list navbox-odd\" style=\"width:100%;padding:0px\"><div style=\"padding:0em 0.25em\"></div><table class=\"nowraplinks navbox-subgroup\" style=\"border-spacing:0\"><tbody><tr><th scope=\"row\" class=\"navbox-group\" style=\"width:1%\">Series</th><td class=\"navbox-list navbox-odd\" style=\"text-align:left;border-left-width:2px;border-left-style:solid;width:100%;padding:0px\"><div style=\"padding:0em 0.25em\"></div><table class=\"nowraplinks navbox-subgroup\" style=\"border-spacing:0\"><tbody><tr><th scope=\"row\" class=\"navbox-group\" style=\"width:1%\">1970s debuts</th><td class=\"navbox-list navbox-odd\" style=\"text-align:left;border-left-width:2px;border-left-style:solid;width:100%;padding:0px\"><div style=\"padding:0em 0.25em\">\\n<ul><li><i><a href=\"/wiki/HBO_World_Championship_Boxing\" title=\"HBO World Championship Boxing\">HBO World Championship Boxing</a></i></li>\\n<li><i><a href=\"/wiki/Inside_the_NFL\" title=\"Inside the NFL\">Inside the NFL</a></i></li>\\n<li><i><a href=\"/wiki/On_Location_(TV_series)\" title=\"On Location (TV series)\">On Location</a></i></li>\\n<li><i><a href=\"/wiki/Race_for_the_Pennant\" title=\"Race for the Pennant\">Race for the Pennant</a></i></li>\\n<li><i><a href=\"/wiki/Standing_Room_Only_(TV_series)\" title=\"Standing Room Only (TV series)\">Standing Room Only</a></i> (\"<a href=\"/wiki/Vanities_(TV_program)\" title=\"Vanities (TV program)\">Vanities</a>\")</li>\\n<li><i><a href=\"/wiki/Tennis_on_HBO\" title=\"Tennis on HBO\">Tennis on HBO</a></i></li>\\n<li><i><a href=\"/wiki/Time_Was\" title=\"Time Was\">Time Was</a></i></li></ul>\\n</div></td></tr><tr><th scope=\"row\" class=\"navbox-group\" style=\"width:1%\">1980s debuts</th><td class=\"navbox-list navbox-even\" style=\"text-align:left;border-left-width:2px;border-left-style:solid;width:100%;padding:0px\"><div style=\"padding:0em 0.25em\">\\n<ul><li><i><a href=\"/wiki/1st_%26_Ten_(1984_TV_series)\" title=\"1st &amp; Ten (1984 TV series)\">1st &amp; Ten</a></i></li>\\n<li><i><a href=\"/wiki/America_Undercover\" title=\"America Undercover\">America Undercover</a></i> (\"<a href=\"/wiki/Autopsy_(TV_series)\" title=\"Autopsy (TV series)\">Autopsy</a>\", \"<a href=\"/wiki/Real_Sex\" title=\"Real Sex\">Real Sex</a>\" and \"<a href=\"/wiki/Taxicab_Confessions\" title=\"Taxicab Confessions\">Taxicab Confessions</a>\")</li>\\n<li><i><a href=\"/wiki/Babar_(TV_series)\" title=\"Babar (TV series)\">Babar</a></i></li>\\n<li><i><a href=\"/wiki/Braingames\" title=\"Braingames\">Braingames</a></i></li>\\n<li><i><a href=\"/wiki/Encyclopedia_(TV_series)\" title=\"Encyclopedia (TV series)\">Encyclopedia</a></i></li>\\n<li><i><a href=\"/wiki/Encyclopedia_Brown\" title=\"Encyclopedia Brown\">Encyclopedia Brown</a></i></li>\\n<li><i><a href=\"/wiki/Fraggle_Rock\" title=\"Fraggle Rock\">Fraggle Rock</a></i></li>\\n<li><i><a href=\"/wiki/The_Ghost_of_Faffner_Hall\" title=\"The Ghost of Faffner Hall\">The Ghost of Faffner Hall</a></i></li>\\n<li><i><a href=\"/wiki/The_Hitchhiker_(TV_series)\" title=\"The Hitchhiker (TV series)\">The Hitchhiker</a></i></li>\\n<li><i><a href=\"/wiki/The_Kids_in_the_Hall\" title=\"The Kids in the Hall\">The Kids in the Hall</a></i></li>\\n<li><i><a href=\"/wiki/Maximum_Security_(TV_series)\" title=\"Maximum Security (TV series)\">Maximum Security</a></i></li>\\n<li><i><a href=\"/wiki/Not_Necessarily_the_News\" title=\"Not Necessarily the News\">Not Necessarily the News</a></i></li>\\n<li><i><a href=\"/wiki/One_Night_Stand_(U.S._TV_series)\" class=\"mw-redirect\" title=\"One Night Stand (U.S. TV series)\">One Night Stand</a></i></li>\\n<li><i><a href=\"/wiki/Philip_Marlowe,_Private_Eye\" title=\"Philip Marlowe, Private Eye\">Philip Marlowe, Private Eye</a></i></li>\\n<li><i><a href=\"/wiki/The_Ray_Bradbury_Theater\" title=\"The Ray Bradbury Theater\">The Ray Bradbury Theater</a></i></li>\\n<li><i><a href=\"/wiki/The_Storyteller_(TV_series)\" title=\"The Storyteller (TV series)\">The Storyteller</a></i></li>\\n<li><i><a href=\"/wiki/Tales_from_the_Crypt_(TV_series)\" title=\"Tales from the Crypt (TV series)\">Tales from the Crypt</a></i></li>\\n<li><i><a href=\"/wiki/Video_Jukebox_(TV_series)\" title=\"Video Jukebox (TV series)\">Video Jukebox</a></i></li></ul>\\n</div></td></tr><tr><th scope=\"row\" class=\"navbox-group\" style=\"width:1%\">1990s debuts</th><td class=\"navbox-list navbox-odd\" style=\"text-align:left;border-left-width:2px;border-left-style:solid;width:100%;padding:0px\"><div style=\"padding:0em 0.25em\">\\n<ul><li><i><a href=\"/wiki/The_Adventures_of_Tintin_(TV_series)\" title=\"The Adventures of Tintin (TV series)\">The Adventures of Tintin</a></i></li>\\n<li><i><a href=\"/wiki/Arliss\" title=\"Arliss\">Arliss</a></i></li>\\n<li><i><a href=\"/wiki/The_Baby-Sitters_Club_(TV_series)\" title=\"The Baby-Sitters Club (TV series)\">The Baby-Sitters Club</a></i></li>\\n<li><i><a href=\"/wiki/Boxing_After_Dark\" title=\"Boxing After Dark\">Boxing After Dark</a></i></li>\\n<li><i><a href=\"/wiki/The_Chris_Rock_Show\" title=\"The Chris Rock Show\">The Chris Rock Show</a></i></li>\\n<li><i><a href=\"/wiki/The_Country_Mouse_and_the_City_Mouse_Adventures\" title=\"The Country Mouse and the City Mouse Adventures\">The Country Mouse and the City Mouse Adventures</a></i></li>\\n<li><i><a href=\"/wiki/Crashbox\" title=\"Crashbox\">Crashbox</a></i></li>\\n<li><i><a href=\"/wiki/Def_Comedy_Jam\" title=\"Def Comedy Jam\">Def Comedy Jam</a></i></li>\\n<li><i><a href=\"/wiki/Dennis_Miller_Live\" title=\"Dennis Miller Live\">Dennis Miller Live</a></i></li>\\n<li><i><a href=\"/wiki/Dream_On_(TV_series)\" title=\"Dream On (TV series)\">Dream On</a></i></li>\\n<li><i><a href=\"/wiki/George_and_Martha\" title=\"George and Martha\">George and Martha</a></i></li>\\n<li><i><a href=\"/wiki/Happily_Ever_After:_Fairy_Tales_for_Every_Child\" title=\"Happily Ever After: Fairy Tales for Every Child\">Happily Ever After: Fairy Tales for Every Child</a></i></li>\\n<li><i><a href=\"/wiki/HBO_Comedy_Half-Hour\" title=\"HBO Comedy Half-Hour\">HBO Comedy Half-Hour</a></i></li>\\n<li><i><a href=\"/wiki/Hotel_Room\" title=\"Hotel Room\">Hotel Room</a></i></li>\\n<li><i><a href=\"/wiki/The_Larry_Sanders_Show\" title=\"The Larry Sanders Show\">The Larry Sanders Show</a></i></li>\\n<li><i><a href=\"/wiki/Lifestories:_Families_in_Crisis\" title=\"Lifestories: Families in Crisis\">Lifestories: Families in Crisis</a></i></li>\\n<li><i><a href=\"/wiki/A_Little_Curious\" title=\"A Little Curious\">A Little Curious</a></i></li>\\n<li><i><a href=\"/wiki/The_Little_Lulu_Show\" title=\"The Little Lulu Show\">The Little Lulu Show</a></i></li>\\n<li><i><a href=\"/wiki/Pinocchio:_The_Series\" title=\"Pinocchio: The Series\">Mokku of the Oak Tree</a></i></li>\\n<li><i><a href=\"/wiki/Mr._Show_with_Bob_and_David\" title=\"Mr. Show with Bob and David\">Mr. Show with Bob and David</a></i></li>\\n<li><i><a href=\"/wiki/The_Neverending_Story_(TV_series)\" title=\"The Neverending Story (TV series)\">The Neverending Story</a></i></li>\\n<li><i><a href=\"/wiki/Oz_(TV_series)\" title=\"Oz (TV series)\">Oz</a></i></li>\\n<li><i><a href=\"/wiki/Perversions_of_Science\" title=\"Perversions of Science\">Perversions of Science</a></i></li>\\n<li><i><a href=\"/wiki/Pippi_Longstocking_(1997_TV_series)\" title=\"Pippi Longstocking (1997 TV series)\">Pippi Longstocking</a></i></li>\\n<li><i><a href=\"/wiki/Rainbow_Fish\" title=\"Rainbow Fish\">Rainbow Fish</a></i></li>\\n<li><i><a href=\"/wiki/Reverb_(TV_series)\" title=\"Reverb (TV series)\">Reverb</a></i></li>\\n<li><i><a href=\"/wiki/Sex_and_the_City\" title=\"Sex and the City\">Sex and the City</a></i></li>\\n<li><i><a href=\"/wiki/The_Sopranos\" title=\"The Sopranos\">The Sopranos</a></i></li>\\n<li><i><a href=\"/wiki/Spicy_City\" title=\"Spicy City\">Spicy City</a></i></li>\\n<li><i><a href=\"/wiki/Tenacious_D_(TV_series)\" title=\"Tenacious D (TV series)\">Tenacious D</a></i></li>\\n<li><i><a href=\"/wiki/Todd_McFarlane%27s_Spawn\" title=\"Todd McFarlane&#39;s Spawn\">Todd McFarlane\\'s Spawn</a></i></li>\\n<li><i><a href=\"/wiki/Tracey_Takes_On...\" title=\"Tracey Takes On...\">Tracey Takes On...</a></i></li></ul>\\n</div></td></tr><tr><th scope=\"row\" class=\"navbox-group\" style=\"width:1%\">2000s debuts</th><td class=\"navbox-list navbox-even\" style=\"text-align:left;border-left-width:2px;border-left-style:solid;width:100%;padding:0px\"><div style=\"padding:0em 0.25em\">\\n<ul><li><i><a href=\"/wiki/Animated_Tales_of_the_World\" title=\"Animated Tales of the World\">Animated Tales of the World</a></i></li>\\n<li><i><a href=\"/wiki/Big_Love\" title=\"Big Love\">Big Love</a></i></li>\\n<li><i><a href=\"/wiki/Bored_to_Death\" title=\"Bored to Death\">Bored to Death</a></i></li>\\n<li><i><a href=\"/wiki/Carniv%C3%A0le\" title=\"Carnivàle\">Carnivàle</a></i></li>\\n<li><i><a href=\"/wiki/Cathouse:_The_Series\" title=\"Cathouse: The Series\">Cathouse: The Series</a></i></li>\\n<li><i><a href=\"/wiki/Classical_Baby\" title=\"Classical Baby\">Classical Baby</a></i></li>\\n<li><i><a href=\"/wiki/The_Comeback_(TV_series)\" title=\"The Comeback (TV series)\">The Comeback</a></i></li>\\n<li><i><a href=\"/wiki/Costas_Now\" title=\"Costas Now\">Costas Now</a></i></li>\\n<li><i><a href=\"/wiki/Da_Ali_G_Show\" title=\"Da Ali G Show\">Da Ali G Show</a></i></li>\\n<li><i><a href=\"/wiki/Deadwood_(TV_series)\" title=\"Deadwood (TV series)\">Deadwood</a></i></li>\\n<li><i><a href=\"/wiki/Def_Poetry_Jam\" title=\"Def Poetry Jam\">Def Poetry Jam</a></i></li>\\n<li><i><a href=\"/wiki/Eastbound_%26_Down\" title=\"Eastbound &amp; Down\">Eastbound &amp; Down</a></i></li>\\n<li><i><a href=\"/wiki/The_Electric_Company_(2009_TV_series)\" title=\"The Electric Company (2009 TV series)\">The Electric Company</a></i></li>\\n<li><i><a href=\"/wiki/Entourage_(U.S._TV_series)\" class=\"mw-redirect\" title=\"Entourage (U.S. TV series)\">Entourage</a></i></li>\\n<li><i><a href=\"/wiki/Extras_(TV_series)\" title=\"Extras (TV series)\">Extras</a></i></li>\\n<li><i><a href=\"/wiki/Flight_of_the_Conchords_(TV_series)\" title=\"Flight of the Conchords (TV series)\">Flight of the Conchords</a></i></li>\\n<li><i><a href=\"/wiki/G_String_Divas\" title=\"G String Divas\">G String Divas</a></i></li>\\n<li><i><a href=\"/wiki/Harold_and_the_Purple_Crayon#Television_series\" title=\"Harold and the Purple Crayon\">Harold and the Purple Crayon</a></i></li>\\n<li><i><a href=\"/wiki/Hung_(TV_series)\" title=\"Hung (TV series)\">Hung</a></i></li>\\n<li><i><a href=\"/wiki/I_Spy_(2003_TV_series)\" title=\"I Spy (2003 TV series)\">I Spy</a></i></li>\\n<li><i><a href=\"/wiki/In_Treatment_(U.S._TV_series)\" title=\"In Treatment (U.S. TV series)\">In Treatment</a></i></li>\\n<li><i><a href=\"/wiki/Joe_Buck_Live\" title=\"Joe Buck Live\">Joe Buck Live</a></i></li>\\n<li><i><a href=\"/wiki/John_from_Cincinnati\" title=\"John from Cincinnati\">John from Cincinnati</a></i></li>\\n<li><i><a href=\"/wiki/K_Street_(TV_series)\" title=\"K Street (TV series)\">K Street</a></i></li>\\n<li><i><a href=\"/wiki/Kindergarten_(TV_series)\" title=\"Kindergarten (TV series)\">Kindergarten</a></i></li>\\n<li><i><a href=\"/wiki/KO_Nation\" title=\"KO Nation\">KO Nation</a></i></li>\\n<li><i><a href=\"/wiki/The_Life_%26_Times_of_Tim\" title=\"The Life &amp; Times of Tim\">The Life &amp; Times of Tim</a></i></li>\\n<li><i><a href=\"/wiki/Little_Britain_USA\" title=\"Little Britain USA\">Little Britain USA</a></i></li>\\n<li><i><a href=\"/wiki/Lucky_Louie\" title=\"Lucky Louie\">Lucky Louie</a></i></li>\\n<li><i><a href=\"/wiki/The_Mind_of_the_Married_Man\" title=\"The Mind of the Married Man\">The Mind of the Married Man</a></i></li>\\n<li><i><a href=\"/wiki/The_No._1_Ladies%27_Detective_Agency_(TV_series)\" title=\"The No. 1 Ladies&#39; Detective Agency (TV series)\">The No. 1 Ladies\\' Detective Agency</a></i></li>\\n<li><i><a href=\"/wiki/On_the_Record_with_Bob_Costas\" title=\"On the Record with Bob Costas\">On the Record with Bob Costas</a></i></li>\\n<li><i><a href=\"/wiki/Pinky_Dinky_Doo\" title=\"Pinky Dinky Doo\">Pinky Dinky Doo</a></i></li>\\n<li><i><a href=\"/wiki/Pornucopia\" title=\"Pornucopia\">Pornucopia</a></i></li>\\n<li><i><a href=\"/wiki/Project_Greenlight\" title=\"Project Greenlight\">Project Greenlight</a></i></li>\\n<li><i><a href=\"/wiki/Rome_(TV_series)\" title=\"Rome (TV series)\">Rome</a></i></li>\\n<li><i><a href=\"/wiki/Six_Feet_Under_(TV_series)\" title=\"Six Feet Under (TV series)\">Six Feet Under</a></i></li>\\n<li><i><a href=\"/wiki/Stuart_Little_(TV_series)\" title=\"Stuart Little (TV series)\">Stuart Little</a></i></li>\\n<li><i><a href=\"/wiki/Summer_Heights_High\" title=\"Summer Heights High\">Summer Heights High</a></i></li>\\n<li><i><a href=\"/wiki/Tales_from_the_Neverending_Story\" title=\"Tales from the Neverending Story\">Tales from the Neverending Story</a></i></li>\\n<li><i><a href=\"/wiki/Tell_Me_You_Love_Me_(TV_series)\" title=\"Tell Me You Love Me (TV series)\">Tell Me You Love Me</a></i></li>\\n<li><i><a href=\"/wiki/True_Blood\" title=\"True Blood\">True Blood</a></i></li>\\n<li><i><a href=\"/wiki/Tourgasm\" title=\"Tourgasm\">Tourgasm</a></i></li>\\n<li><i><a href=\"/wiki/Unscripted\" title=\"Unscripted\">Unscripted</a></i></li>\\n<li><i><a href=\"/wiki/The_Wire\" title=\"The Wire\">The Wire</a></i></li></ul>\\n</div></td></tr><tr><th scope=\"row\" class=\"navbox-group\" style=\"width:1%\">2010s debuts</th><td class=\"navbox-list navbox-odd\" style=\"text-align:left;border-left-width:2px;border-left-style:solid;width:100%;padding:0px\"><div style=\"padding:0em 0.25em\">\\n<ul><li><i><a href=\"/wiki/After_the_Thrones\" title=\"After the Thrones\">After the Thrones</a></i></li>\\n<li><i><a href=\"/wiki/Angry_Boys\" title=\"Angry Boys\">Angry Boys</a></i></li>\\n<li><i><a href=\"/wiki/Animals_(U.S._TV_series)\" class=\"mw-redirect\" title=\"Animals (U.S. TV series)\">Animals.</a></i></li>\\n<li><i><a href=\"/wiki/Any_Given_Wednesday_with_Bill_Simmons\" title=\"Any Given Wednesday with Bill Simmons\">Any Given Wednesday with Bill Simmons</a></i></li>\\n<li><i><a href=\"/wiki/Boardwalk_Empire\" title=\"Boardwalk Empire\">Boardwalk Empire</a></i></li>\\n<li><i><a href=\"/wiki/The_Brink_(TV_series)\" title=\"The Brink (TV series)\">The Brink</a></i></li>\\n<li><i><a href=\"/wiki/Camping_(U.S._TV_series)\" class=\"mw-redirect\" title=\"Camping (U.S. TV series)\">Camping</a></i></li>\\n<li><i><a href=\"/wiki/Crashing_(U.S._TV_series)\" class=\"mw-redirect\" title=\"Crashing (U.S. TV series)\">Crashing</a></i></li>\\n<li><i><a href=\"/wiki/Doll_%26_Em\" title=\"Doll &amp; Em\">Doll &amp; Em</a></i></li>\\n<li><i><a href=\"/wiki/Enlightened_(TV_series)\" title=\"Enlightened (TV series)\">Enlightened</a></i></li>\\n<li><i><a href=\"/wiki/Family_Tree_(TV_series)\" title=\"Family Tree (TV series)\">Family Tree</a></i></li>\\n<li><i><a href=\"/wiki/Funny_or_Die_Presents\" title=\"Funny or Die Presents\">Funny or Die Presents</a></i></li>\\n<li><i><a href=\"/wiki/Game_of_Thrones\" title=\"Game of Thrones\">Game of Thrones</a></i></li>\\n<li><i><a href=\"/wiki/Getting_On_(U.S._TV_series)\" class=\"mw-redirect\" title=\"Getting On (U.S. TV series)\">Getting On</a></i></li>\\n<li><i><a href=\"/wiki/Girls_(TV_series)\" title=\"Girls (TV series)\">Girls</a></i></li>\\n<li><i><a href=\"/wiki/Hello_Ladies\" title=\"Hello Ladies\">Hello Ladies</a></i></li>\\n<li><i><a href=\"/wiki/Here_and_Now_(2018_TV_series)\" title=\"Here and Now (2018 TV series)\">Here and Now</a></i></li>\\n<li><i><a href=\"/wiki/How_to_Make_It_in_America\" title=\"How to Make It in America\">How to Make It in America</a></i></li>\\n<li><i><a href=\"/wiki/Ja%27mie:_Private_School_Girl\" title=\"Ja&#39;mie: Private School Girl\">Ja\\'mie: Private School Girl</a></i></li>\\n<li><i><a href=\"/wiki/Jonah_from_Tonga\" title=\"Jonah from Tonga\">Jonah from Tonga</a></i></li>\\n<li><i><a href=\"/wiki/The_Leftovers_(TV_series)\" title=\"The Leftovers (TV series)\">The Leftovers</a></i></li>\\n<li><i><a href=\"/wiki/Life%27s_Too_Short_(TV_series)\" title=\"Life&#39;s Too Short (TV series)\">Life\\'s Too Short</a></i></li>\\n<li><i><a href=\"/wiki/Looking_(TV_series)\" title=\"Looking (TV series)\">Looking</a></i></li>\\n<li><i><a href=\"/wiki/Luck_(TV_series)\" title=\"Luck (TV series)\">Luck</a></i></li>\\n<li><i><a href=\"/wiki/Masterclass_(TV_series)\" title=\"Masterclass (TV series)\">Masterclass</a></i></li>\\n<li><i><a href=\"/wiki/The_Newsroom_(U.S._TV_series)\" class=\"mw-redirect\" title=\"The Newsroom (U.S. TV series)\">The Newsroom</a></i></li>\\n<li><i><a href=\"/wiki/The_Ricky_Gervais_Show_(TV_series)\" title=\"The Ricky Gervais Show (TV series)\">The Ricky Gervais Show</a></i></li>\\n<li><i><a href=\"/wiki/Togetherness_(TV_series)\" title=\"Togetherness (TV series)\">Togetherness</a></i></li>\\n<li><i><a href=\"/wiki/Treme_(TV_series)\" title=\"Treme (TV series)\">Treme</a></i></li>\\n<li><i><a href=\"/wiki/Veep\" title=\"Veep\">Veep</a></i></li>\\n<li><i><a href=\"/wiki/Vice_Principals\" title=\"Vice Principals\">Vice Principals</a></i></li>\\n<li><i><a href=\"/wiki/Vinyl_(TV_series)\" title=\"Vinyl (TV series)\">Vinyl</a></i></li></ul>\\n</div></td></tr></tbody></table><div></div></td></tr><tr><th scope=\"row\" class=\"navbox-group\" style=\"width:1%\">Miniseries</th><td class=\"navbox-list navbox-even\" style=\"text-align:left;border-left-width:2px;border-left-style:solid;width:100%;padding:0px\"><div style=\"padding:0em 0.25em\">\\n<ul><li><i><a href=\"/wiki/All_the_Rivers_Run\" title=\"All the Rivers Run\">All the Rivers Run</a></i></li>\\n<li><i><a href=\"/wiki/Angels_in_America_(miniseries)\" title=\"Angels in America (miniseries)\">Angels in America</a></i></li>\\n<li><i><a href=\"/wiki/Assume_the_Position_with_Mr._Wuhl\" title=\"Assume the Position with Mr. Wuhl\">Assume the Position with Mr. Wuhl</a></i></li>\\n<li><i><a href=\"/wiki/Band_of_Brothers_(miniseries)\" title=\"Band of Brothers (miniseries)\">Band of Brothers</a></i></li>\\n<li><i><a href=\"/wiki/The_Casual_Vacancy_(miniseries)\" title=\"The Casual Vacancy (miniseries)\">The Casual Vacancy</a></i></li>\\n<li><i><a class=\"mw-selflink selflink\">Chernobyl</a></i></li>\\n<li><i><a href=\"/wiki/The_Corner\" title=\"The Corner\">The Corner</a></i></li>\\n<li><i><a href=\"/wiki/Elizabeth_I_(2005_miniseries)\" title=\"Elizabeth I (2005 miniseries)\">Elizabeth I</a></i></li>\\n<li><i><a href=\"/wiki/Empire_Falls_(miniseries)\" title=\"Empire Falls (miniseries)\">Empire Falls</a></i></li>\\n<li><i><a href=\"/wiki/From_the_Earth_to_the_Moon_(miniseries)\" title=\"From the Earth to the Moon (miniseries)\">From the Earth to the Moon</a></i></li>\\n<li><i><a href=\"/wiki/Foo_Fighters:_Sonic_Highways\" title=\"Foo Fighters: Sonic Highways\">Foo Fighters: Sonic Highways</a></i></li>\\n<li><i><a href=\"/wiki/Generation_Kill_(miniseries)\" title=\"Generation Kill (miniseries)\">Generation Kill</a></i></li>\\n<li><i><a href=\"/wiki/Gunpowder_(TV_series)\" title=\"Gunpowder (TV series)\">Gunpowder</a></i></li>\\n<li><i><a href=\"/wiki/House_of_Saddam\" title=\"House of Saddam\">House of Saddam</a></i></li>\\n<li><i><a href=\"/wiki/The_Jinx_(miniseries)\" title=\"The Jinx (miniseries)\">The Jinx: The Life and Deaths of Robert Durst</a></i></li>\\n<li><i><a href=\"/wiki/John_Adams_(miniseries)\" title=\"John Adams (miniseries)\">John Adams</a></i></li>\\n<li><i><a href=\"/wiki/Laurel_Avenue\" title=\"Laurel Avenue\">Laurel Avenue</a></i></li>\\n<li><i><a href=\"/wiki/Mildred_Pierce_(miniseries)\" title=\"Mildred Pierce (miniseries)\">Mildred Pierce</a></i></li>\\n<li><i><a href=\"/wiki/Mosaic_(murder_mystery)\" title=\"Mosaic (murder mystery)\">Mosaic</a></i></li>\\n<li><i><a href=\"/wiki/The_Night_Of\" title=\"The Night Of\">The Night Of</a></i></li>\\n<li><i><a href=\"/wiki/Olive_Kitteridge_(miniseries)\" title=\"Olive Kitteridge (miniseries)\">Olive Kitteridge</a></i></li>\\n<li><i><a href=\"/wiki/The_Pacific_(miniseries)\" title=\"The Pacific (miniseries)\">The Pacific</a></i></li>\\n<li><i><a href=\"/wiki/Parade%27s_End_(TV_series)\" title=\"Parade&#39;s End (TV series)\">Parade\\'s End</a></i></li>\\n<li><i><a href=\"/wiki/Sharp_Objects_(miniseries)\" title=\"Sharp Objects (miniseries)\">Sharp Objects</a></i></li>\\n<li><i><a href=\"/wiki/Show_Me_a_Hero\" title=\"Show Me a Hero\">Show Me a Hero</a></i></li>\\n<li><i><a href=\"/wiki/Tanner_%2788\" title=\"Tanner &#39;88\">Tanner \\'88</a></i></li>\\n<li><i><a href=\"/wiki/The_Young_Pope\" title=\"The Young Pope\">The Young Pope</a></i></li></ul>\\n</div></td></tr></tbody></table><div></div></td></tr></tbody></table><div></div></td></tr><tr><td colspan=\"2\" class=\"navbox-list navbox-odd\" style=\"width:100%;padding:0px\"><div style=\"padding:0em 0.25em\"></div><table class=\"nowraplinks collapsible collapsed navbox-subgroup\" style=\"border-spacing:0\"><tbody><tr><th scope=\"col\" class=\"navbox-title\" colspan=\"2\"><div id=\"Current_and_upcoming\" style=\"font-size:114%;margin:0 4em\">Current and upcoming</div></th></tr><tr><td colspan=\"2\" class=\"navbox-list navbox-odd\" style=\"width:100%;padding:0px\"><div style=\"padding:0em 0.25em\"></div><table class=\"nowraplinks navbox-subgroup\" style=\"border-spacing:0\"><tbody><tr><th scope=\"row\" class=\"navbox-group\" style=\"width:1%\">Current</th><td class=\"navbox-list navbox-odd\" style=\"text-align:left;border-left-width:2px;border-left-style:solid;width:100%;padding:0px\"><div style=\"padding:0em 0.25em\">\\n<ul><li><span class=\"nowrap\"><i><a href=\"/wiki/All_Def_Comedy\" title=\"All Def Comedy\">All Def Comedy</a></i> (since 2016)</span></li>\\n<li><span class=\"nowrap\"><i><a href=\"/wiki/Ballers\" title=\"Ballers\">Ballers</a></i> (since 2015)</span></li>\\n<li><span class=\"nowrap\"><i><a href=\"/wiki/Barry_(TV_series)\" title=\"Barry (TV series)\">Barry</a></i> (since 2018)</span></li>\\n<li><span class=\"nowrap\"><i><a href=\"/wiki/Big_Little_Lies_(TV_series)\" title=\"Big Little Lies (TV series)\">Big Little Lies</a></i> (since 2017)</span></li>\\n<li><span class=\"nowrap\"><i><a href=\"/wiki/Curb_Your_Enthusiasm\" title=\"Curb Your Enthusiasm\">Curb Your Enthusiasm</a></i> (since 2000)</span></li>\\n<li><span class=\"nowrap\"><i><a href=\"/wiki/The_Deuce_(TV_series)\" title=\"The Deuce (TV series)\">The Deuce</a></i> (since 2017)</span></li>\\n<li><span class=\"nowrap\"><i><a href=\"/wiki/Divorce_(TV_series)\" title=\"Divorce (TV series)\">Divorce</a></i> (since 2016)</span></li>\\n<li><span class=\"nowrap\"><i><a href=\"/wiki/Esme_%26_Roy\" title=\"Esme &amp; Roy\">Esme &amp; Roy</a></i> (since 2018)</span></li>\\n<li><span class=\"nowrap\"><i><a href=\"/wiki/Gentleman_Jack_(TV_series)\" title=\"Gentleman Jack (TV series)\">Gentleman Jack</a></i> (since 2019)</span></li>\\n<li><span class=\"nowrap\"><i><a href=\"/wiki/Hard_Knocks_(TV_series)\" title=\"Hard Knocks (TV series)\">Hard Knocks</a></i> (since 2001)</span></li>\\n<li><span class=\"nowrap\"><i><a href=\"/wiki/High_Maintenance\" title=\"High Maintenance\">High Maintenance</a></i> (since 2016)</span></li>\\n<li><span class=\"nowrap\"><i><a href=\"/wiki/Insecure_(TV_series)\" title=\"Insecure (TV series)\">Insecure</a></i> (since 2016)</span></li>\\n<li><span class=\"nowrap\"><i><a href=\"/wiki/Last_Week_Tonight_with_John_Oliver\" title=\"Last Week Tonight with John Oliver\">Last Week Tonight with John Oliver</a></i> (since 2014)</span></li>\\n<li><span class=\"nowrap\"><i><a href=\"/wiki/My_Brilliant_Friend_(TV_series)\" title=\"My Brilliant Friend (TV series)\">My Brilliant Friend</a></i> (since 2018)</span></li>\\n<li><span class=\"nowrap\"><i><a href=\"/wiki/Random_Acts_of_Flyness\" title=\"Random Acts of Flyness\">Random Acts of Flyness</a></i> (since 2018)</span></li>\\n<li><span class=\"nowrap\"><i><a href=\"/wiki/Real_Sports_with_Bryant_Gumbel\" title=\"Real Sports with Bryant Gumbel\">Real Sports with Bryant Gumbel</a></i> (since 1995)</span></li>\\n<li><span class=\"nowrap\"><i><a href=\"/wiki/Real_Time_with_Bill_Maher\" title=\"Real Time with Bill Maher\">Real Time with Bill Maher</a></i> (since 2003)</span></li>\\n<li><span class=\"nowrap\"><i><a href=\"/wiki/Room_104\" title=\"Room 104\">Room 104</a></i> (since 2017)</span></li>\\n<li><span class=\"nowrap\"><i><a href=\"/wiki/Sally4Ever\" title=\"Sally4Ever\">Sally4Ever</a></i> (since 2018)</span></li>\\n<li><span class=\"nowrap\"><i><a href=\"/wiki/Sesame_Street\" title=\"Sesame Street\">Sesame Street</a></i> (since 2016)</span></li>\\n<li><span class=\"nowrap\"><i><a href=\"/wiki/The_Shop\" title=\"The Shop\">The Shop</a></i> (since 2018)</span></li>\\n<li><span class=\"nowrap\"><i><a href=\"/wiki/Silicon_Valley_(TV_series)\" title=\"Silicon Valley (TV series)\">Silicon Valley</a></i> (since 2014)</span></li>\\n<li><span class=\"nowrap\"><i><a href=\"/wiki/Succession_(TV_series)\" title=\"Succession (TV series)\">Succession</a></i> (since 2018)</span></li>\\n<li><span class=\"nowrap\"><i><a href=\"/wiki/Tracey_Ullman%27s_Show\" title=\"Tracey Ullman&#39;s Show\">Tracey Ullman\\'s Show</a></i> (since 2016)</span></li>\\n<li><span class=\"nowrap\"><i><a href=\"/wiki/True_Detective\" title=\"True Detective\">True Detective</a></i> (since 2014)</span></li>\\n<li><span class=\"nowrap\"><i><a href=\"/wiki/Vice_(TV_series)\" title=\"Vice (TV series)\">Vice</a></i> (since 2013)</span></li>\\n<li><span class=\"nowrap\"><i><a href=\"/wiki/Vice_News_Tonight\" title=\"Vice News Tonight\">Vice News Tonight</a></i> (since 2016)</span></li>\\n<li><span class=\"nowrap\"><i><a href=\"/wiki/Westworld_(TV_series)\" title=\"Westworld (TV series)\">Westworld</a></i> (since 2016)</span></li>\\n<li><span class=\"nowrap\"><i><a href=\"/wiki/Wyatt_Cenac%27s_Problem_Areas\" title=\"Wyatt Cenac&#39;s Problem Areas\">Wyatt Cenac\\'s Problem Areas</a></i> (since 2018)</span></li></ul>\\n</div></td></tr><tr><th scope=\"row\" class=\"navbox-group\" style=\"width:1%\">Upcoming</th><td class=\"navbox-list navbox-even\" style=\"text-align:left;border-left-width:2px;border-left-style:solid;width:100%;padding:0px\"><div style=\"padding:0em 0.25em\">\\n<ul><li><span class=\"nowrap\"><i><a href=\"/wiki/Los_Espookys\" title=\"Los Espookys\">Los Espookys</a></i> (2019)</span></li>\\n<li><span class=\"nowrap\"><i><a href=\"/wiki/Euphoria_(TV_series)\" title=\"Euphoria (TV series)\">Euphoria</a></i> (2019)</span></li>\\n<li><span class=\"nowrap\"><i><a href=\"/wiki/Years_and_Years_(TV_series)\" title=\"Years and Years (TV series)\">Years and Years</a></i> (2019)</span></li>\\n<li><span class=\"nowrap\"><i><a href=\"/wiki/The_Righteous_Gemstones\" title=\"The Righteous Gemstones\">The Righteous Gemstones</a></i> (2019)</span></li>\\n<li><span class=\"nowrap\"><i><a href=\"/wiki/Watchmen_(TV_series)\" title=\"Watchmen (TV series)\">Watchmen</a></i> (2019)</span></li>\\n<li><span class=\"nowrap\"><i><a href=\"/wiki/His_Dark_Materials_(TV_series)\" title=\"His Dark Materials (TV series)\">His Dark Materials</a></i> (2019)</span></li>\\n<li><span class=\"nowrap\"><i><a href=\"/wiki/Catherine_the_Great_(miniseries)\" title=\"Catherine the Great (miniseries)\">Catherine the Great</a></i> (2019)</span></li>\\n<li><span class=\"nowrap\"><i><a href=\"/wiki/The_Gilded_Age_(TV_series)\" title=\"The Gilded Age (TV series)\">The Gilded Age</a></i> (2019)</span></li>\\n<li><span class=\"nowrap\"><i><a href=\"/wiki/Mrs._Fletcher\" title=\"Mrs. Fletcher\">Mrs. Fletcher</a></i> (2019)</span></li>\\n<li><span class=\"nowrap\"><i><a href=\"/wiki/The_Outsider_(miniseries)\" title=\"The Outsider (miniseries)\">The Outsider</a></i> (2020)</span></li>\\n<li><span class=\"nowrap\"><i><a href=\"/wiki/The_Undoing_(miniseries)\" title=\"The Undoing (miniseries)\">The Undoing</a></i> (2020)</span></li>\\n<li><span class=\"nowrap\"><i><a href=\"/wiki/Confederate_(TV_series)\" title=\"Confederate (TV series)\">Confederate</a></i> (TBA)</span></li>\\n<li><span class=\"nowrap\"><i><a href=\"/wiki/Contraband_(TV_series)\" title=\"Contraband (TV series)\">Contraband</a></i> (TBA)</span></li>\\n<li><span class=\"nowrap\"><i><a href=\"/wiki/Avenue_5_(TV_series)\" title=\"Avenue 5 (TV series)\">Avenue 5</a></i> (TBA)</span></li>\\n<li><span class=\"nowrap\"><i><a href=\"/wiki/Gorilla_and_the_Bird\" title=\"Gorilla and the Bird\">Gorilla and the Bird</a></i> (TBA)</span></li>\\n<li><span class=\"nowrap\"><i><a href=\"/wiki/I_Know_This_Much_Is_True_(miniseries)\" title=\"I Know This Much Is True (miniseries)\">I Know This Much Is True</a></i> (TBA)</span></li>\\n<li><span class=\"nowrap\"><i><a href=\"/wiki/Lovecraft_Country_(TV_series)\" title=\"Lovecraft Country (TV series)\">Lovecraft Country</a></i> (TBA)</span></li>\\n<li><span class=\"nowrap\"><i><a href=\"/wiki/Mare_of_Easttown\" title=\"Mare of Easttown\">Mare of Easttown</a></i> (TBA)</span></li>\\n<li><span class=\"nowrap\"><i><a href=\"/wiki/The_New_Pope\" title=\"The New Pope\">The New Pope</a></i> (TBA)</span></li>\\n<li><span class=\"nowrap\"><i><a href=\"/wiki/Perry_Mason_(miniseries)\" title=\"Perry Mason (miniseries)\">Perry Mason</a></i> (TBA)</span></li>\\n<li><span class=\"nowrap\"><i><a href=\"/wiki/The_Plot_Against_America_(miniseries)\" title=\"The Plot Against America (miniseries)\">The Plot Against America</a></i> (TBA)</span></li>\\n<li><span class=\"nowrap\"><i><a href=\"/wiki/The_Time_Traveler%27s_Wife_(TV_series)\" title=\"The Time Traveler&#39;s Wife (TV series)\">The Time Traveler\\'s Wife</a></i> (TBA)</span></li></ul>\\n</div></td></tr></tbody></table><div></div></td></tr></tbody></table><div></div></td></tr><tr><td class=\"navbox-abovebelow\" colspan=\"2\"><div>\\n<dl><dt><style data-mw-deduplicate=\"TemplateStyles:r886047488\">.mw-parser-output .nobold{font-weight:normal}</style><span class=\"nobold\">See also</span></dt>\\n<dd><i><a href=\"/wiki/HBO_Storybook_Musicals\" title=\"HBO Storybook Musicals\">HBO Storybook Musicals</a></i></dd>\\n<dd><a href=\"/wiki/List_of_HBO_Latin_America_original_series\" title=\"List of HBO Latin America original series\">HBO Latin America original series</a></dd>\\n<dd><a href=\"/wiki/HBO_Canada#Programming\" title=\"HBO Canada\">HBO Canada original series</a></dd></dl>\\n</div></td></tr></tbody></table></div>\\n<div role=\"navigation\" class=\"navbox\" aria-labelledby=\"Sky_Atlantic\" style=\"padding:3px\"><table class=\"nowraplinks collapsible autocollapse navbox-inner\" style=\"border-spacing:0;background:transparent;color:inherit\"><tbody><tr><th scope=\"col\" class=\"navbox-title\" colspan=\"2\"><div class=\"plainlinks hlist navbar mini\"><ul><li class=\"nv-view\"><a href=\"/wiki/Template:Sky_Atlantic\" title=\"Template:Sky Atlantic\"><abbr title=\"View this template\" style=\";;background:none transparent;border:none;-moz-box-shadow:none;-webkit-box-shadow:none;box-shadow:none; padding:0;\">v</abbr></a></li><li class=\"nv-talk\"><a href=\"/wiki/Template_talk:Sky_Atlantic\" title=\"Template talk:Sky Atlantic\"><abbr title=\"Discuss this template\" style=\";;background:none transparent;border:none;-moz-box-shadow:none;-webkit-box-shadow:none;box-shadow:none; padding:0;\">t</abbr></a></li><li class=\"nv-edit\"><a class=\"external text\" href=\"//en.wikipedia.org/w/index.php?title=Template:Sky_Atlantic&amp;action=edit\"><abbr title=\"Edit this template\" style=\";;background:none transparent;border:none;-moz-box-shadow:none;-webkit-box-shadow:none;box-shadow:none; padding:0;\">e</abbr></a></li></ul></div><div id=\"Sky_Atlantic\" style=\"font-size:114%;margin:0 4em\"><a href=\"/wiki/Sky_Atlantic\" title=\"Sky Atlantic\">Sky Atlantic</a></div></th></tr><tr><th scope=\"row\" class=\"navbox-group\" style=\"width:1%\">Current</th><td class=\"navbox-list navbox-odd hlist\" style=\"text-align:left;border-left-width:2px;border-left-style:solid;width:100%;padding:0px\"><div style=\"padding:0em 0.25em\">\\n<ul><li><i><a href=\"/wiki/Britannia_(TV_series)\" title=\"Britannia (TV series)\">Britannia</a></i> <small>(since 2018)</small></li>\\n<li><i><a href=\"/wiki/Riviera_(TV_series)\" title=\"Riviera (TV series)\">Riviera</a></i> <small>(since 2017)</small></li>\\n<li><i><a href=\"/wiki/Save_Me_(UK_TV_series)\" class=\"mw-redirect\" title=\"Save Me (UK TV series)\">Save Me</a></i> <small>(since 2018)</small></li>\\n<li><i><a href=\"/wiki/Sally4Ever\" title=\"Sally4Ever\">Sally4Ever</a></i> <small>(since 2018)</small></li>\\n<li><i><a href=\"/wiki/The_Trip_(2010_TV_series)\" title=\"The Trip (2010 TV series)\">The Trip</a></i> <small>(since 2017)</small></li>\\n<li><i><a href=\"/wiki/Tin_Star_(TV_series)\" title=\"Tin Star (TV series)\">Tin Star</a></i> <small>(since 2017)</small></li></ul>\\n</div></td></tr><tr><th scope=\"row\" class=\"navbox-group\" style=\"width:1%\">Former</th><td class=\"navbox-list navbox-even hlist\" style=\"text-align:left;border-left-width:2px;border-left-style:solid;width:100%;padding:0px\"><div style=\"padding:0em 0.25em\">\\n<ul><li><i><a href=\"/wiki/Alan_Partridge:_Welcome_to_the_Places_of_My_Life\" title=\"Alan Partridge: Welcome to the Places of My Life\">Alan Partridge: Welcome to the Places of My Life</a></i></li>\\n<li><i><a href=\"/wiki/The_British_(TV_series)\" title=\"The British (TV series)\">The British</a></i></li>\\n<li><i><a href=\"/wiki/Camping_(UK_TV_series)\" class=\"mw-redirect\" title=\"Camping (UK TV series)\">Camping</a></i></li>\\n<li><i><a class=\"mw-selflink selflink\">Chernobyl</a></i></li>\\n<li><i><a href=\"/wiki/Cleverdicks\" title=\"Cleverdicks\">Cleverdicks</a></i></li>\\n<li><i><a href=\"/wiki/The_Devil%27s_Dinner_Party\" title=\"The Devil&#39;s Dinner Party\">The Devil\\'s Dinner Party</a></i></li>\\n<li><i><a href=\"/wiki/Falc%C3%B3n_(TV_series)\" title=\"Falcón (TV series)\">Falcón</a></i></li>\\n<li><i><a href=\"/wiki/Fortitude_(TV_series)\" title=\"Fortitude (TV series)\">Fortitude</a></i></li>\\n<li><i><a href=\"/wiki/Guerrilla_(miniseries)\" title=\"Guerrilla (miniseries)\">Guerrilla</a></i></li>\\n<li><i><a href=\"/wiki/Hit_%26_Miss\" title=\"Hit &amp; Miss\">Hit &amp; Miss</a></i></li>\\n<li><i><a href=\"/wiki/Hunderby\" title=\"Hunderby\">Hunderby</a></i></li>\\n<li><i><a href=\"/wiki/The_Last_Panthers\" title=\"The Last Panthers\">The Last Panthers</a></i></li>\\n<li><i><a href=\"/wiki/Mid_Morning_Matters_with_Alan_Partridge\" title=\"Mid Morning Matters with Alan Partridge\">Mid Morning Matters with Alan Partridge</a></i></li>\\n<li><i><a href=\"/wiki/Morgan_Spurlock%27s_New_Britannia\" title=\"Morgan Spurlock&#39;s New Britannia\">Morgan Spurlock\\'s New Britannia</a></i></li>\\n<li><i><a href=\"/wiki/Mr._Sloane\" title=\"Mr. Sloane\">Mr. Sloane</a></i></li>\\n<li><i><a href=\"/wiki/Patrick_Melrose_(TV_series)\" title=\"Patrick Melrose (TV series)\">Patrick Melrose</a></i></li>\\n<li><i><a href=\"/wiki/Penny_Dreadful_(TV_series)\" title=\"Penny Dreadful (TV series)\">Penny Dreadful</a></i></li>\\n<li><i><a href=\"/wiki/This_is_Jinsy\" title=\"This is Jinsy\">This is Jinsy</a></i></li>\\n<li><i><a href=\"/wiki/Thronecast\" title=\"Thronecast\">Thronecast</a></i></li>\\n<li><i><a href=\"/wiki/The_Tunnel_(TV_series)\" title=\"The Tunnel (TV series)\">The Tunnel</a></i></li></ul>\\n</div></td></tr><tr><th scope=\"row\" class=\"navbox-group\" style=\"width:1%\">Upcoming</th><td class=\"navbox-list navbox-odd hlist\" style=\"text-align:left;border-left-width:2px;border-left-style:solid;width:100%;padding:0px\"><div style=\"padding:0em 0.25em\">\\n<ul><li><i><a href=\"/wiki/Catherine_the_Great_(miniseries)\" title=\"Catherine the Great (miniseries)\">Catherine the Great</a></i> <small>(TBA)</small></li></ul>\\n</div></td></tr></tbody></table></div>\\n<!-- \\nNewPP limit report\\nParsed by mw1264\\nCached time: 20190606163558\\nCache expiry: 2592000\\nDynamic content: false\\nComplications: [vary‐revision]\\nCPU time usage: 1.072 seconds\\nReal time usage: 1.313 seconds\\nPreprocessor visited node count: 5831/1000000\\nPreprocessor generated node count: 0/1500000\\nPost‐expand include size: 246421/2097152 bytes\\nTemplate argument size: 7152/2097152 bytes\\nHighest expansion depth: 18/40\\nExpensive parser function count: 9/500\\nUnstrip recursion depth: 1/20\\nUnstrip post‐expand size: 86112/5000000 bytes\\nNumber of Wikibase entities loaded: 1/400\\nLua time usage: 0.537/10.000 seconds\\nLua memory usage: 18.41 MB/50 MB\\n-->\\n<!--\\nTransclusion expansion time report (%,ms,calls,template)\\n100.00% 1071.489      1 -total\\n 28.31%  303.331      2 Template:Reflist\\n 26.63%  285.385      1 Template:Episode_table\\n 24.78%  265.468      5 Template:Episode_list\\n 18.68%  200.189     18 Template:Cite_web\\n 13.11%  140.456      1 Template:Infobox_television\\n 11.00%  117.881      1 Template:Infobox\\n  6.59%   70.633      1 Template:Television_episode_ratings\\n  5.85%   62.652      1 Template:Official\\n  5.15%   55.199      8 Template:Cite_news\\n-->\\n</div><noscript><img src=\"//en.wikipedia.org/wiki/Special:CentralAutoLogin/start?type=1x1\" alt=\"\" title=\"\" width=\"1\" height=\"1\" style=\"border: none; position: absolute;\" /></noscript></div>\\n\\t\\t\\n\\t\\t<div class=\"printfooter\">Retrieved from \"<a dir=\"ltr\" href=\"https://en.wikipedia.org/w/index.php?title=Chernobyl_(miniseries)&amp;oldid=899990733\">https://en.wikipedia.org/w/index.php?title=Chernobyl_(miniseries)&amp;oldid=899990733</a>\"</div>\\n\\t\\t\\n\\t\\t<div id=\"catlinks\" class=\"catlinks\" data-mw=\"interface\"><div id=\"mw-normal-catlinks\" class=\"mw-normal-catlinks\"><a href=\"/wiki/Help:Category\" title=\"Help:Category\">Categories</a>: <ul><li><a href=\"/wiki/Category:Sky_Atlantic_television_programmes\" title=\"Category:Sky Atlantic television programmes\">Sky Atlantic television programmes</a></li><li><a href=\"/wiki/Category:2019_American_television_series_debuts\" title=\"Category:2019 American television series debuts\">2019 American television series debuts</a></li><li><a href=\"/wiki/Category:2019_British_television_programme_debuts\" title=\"Category:2019 British television programme debuts\">2019 British television programme debuts</a></li><li><a href=\"/wiki/Category:2010s_American_drama_television_miniseries\" title=\"Category:2010s American drama television miniseries\">2010s American drama television miniseries</a></li><li><a href=\"/wiki/Category:2010s_British_television_miniseries\" title=\"Category:2010s British television miniseries\">2010s British television miniseries</a></li><li><a href=\"/wiki/Category:English-language_television_programs\" title=\"Category:English-language television programs\">English-language television programs</a></li><li><a href=\"/wiki/Category:HBO_network_shows\" title=\"Category:HBO network shows\">HBO network shows</a></li><li><a href=\"/wiki/Category:Cultural_depictions_of_Mikhail_Gorbachev\" title=\"Category:Cultural depictions of Mikhail Gorbachev\">Cultural depictions of Mikhail Gorbachev</a></li><li><a href=\"/wiki/Category:Television_series_set_in_1986\" title=\"Category:Television series set in 1986\">Television series set in 1986</a></li><li><a href=\"/wiki/Category:Television_shows_set_in_Moscow\" title=\"Category:Television shows set in Moscow\">Television shows set in Moscow</a></li><li><a href=\"/wiki/Category:Works_about_the_Chernobyl_nuclear_disaster\" title=\"Category:Works about the Chernobyl nuclear disaster\">Works about the Chernobyl nuclear disaster</a></li><li><a href=\"/wiki/Category:Soviet_Union_in_fiction\" title=\"Category:Soviet Union in fiction\">Soviet Union in fiction</a></li></ul></div><div id=\"mw-hidden-catlinks\" class=\"mw-hidden-catlinks mw-hidden-cats-hidden\">Hidden categories: <ul><li><a href=\"/wiki/Category:CS1_Lithuanian-language_sources_(lt)\" title=\"Category:CS1 Lithuanian-language sources (lt)\">CS1 Lithuanian-language sources (lt)</a></li><li><a href=\"/wiki/Category:Articles_with_short_description\" title=\"Category:Articles with short description\">Articles with short description</a></li><li><a href=\"/wiki/Category:Use_mdy_dates_from_May_2019\" title=\"Category:Use mdy dates from May 2019\">Use mdy dates from May 2019</a></li><li><a href=\"/wiki/Category:Pages_using_infobox_television_with_editor_parameter\" title=\"Category:Pages using infobox television with editor parameter\">Pages using infobox television with editor parameter</a></li><li><a href=\"/wiki/Category:Interlanguage_link_template_link_number\" title=\"Category:Interlanguage link template link number\">Interlanguage link template link number</a></li><li><a href=\"/wiki/Category:Episode_lists_with_a_non-matching_set_of_numbered_parameters\" title=\"Category:Episode lists with a non-matching set of numbered parameters\">Episode lists with a non-matching set of numbered parameters</a></li></ul></div></div>\\n\\t\\t\\n\\t\\t<div class=\"visualClear\"></div>\\n\\t\\t\\n\\t</div>\\n</div>\\n\\n\\t\\t<div id=\"mw-navigation\">\\n\\t\\t\\t<h2>Navigation menu</h2>\\n\\t\\t\\t<div id=\"mw-head\">\\n\\t\\t\\t\\t\\t\\t\\t\\t\\t<div id=\"p-personal\" role=\"navigation\" aria-labelledby=\"p-personal-label\">\\n\\t\\t\\t\\t\\t\\t<h3 id=\"p-personal-label\">Personal tools</h3>\\n\\t\\t\\t\\t\\t\\t<ul>\\n\\t\\t\\t\\t\\t\\t\\t<li id=\"pt-anonuserpage\">Not logged in</li><li id=\"pt-anontalk\"><a href=\"/wiki/Special:MyTalk\" title=\"Discussion about edits from this IP address [n]\" accesskey=\"n\">Talk</a></li><li id=\"pt-anoncontribs\"><a href=\"/wiki/Special:MyContributions\" title=\"A list of edits made from this IP address [y]\" accesskey=\"y\">Contributions</a></li><li id=\"pt-createaccount\"><a href=\"/w/index.php?title=Special:CreateAccount&amp;returnto=Chernobyl+%28miniseries%29&amp;returntoquery=direction%3Dnext%26oldid%3D899952822\" title=\"You are encouraged to create an account and log in; however, it is not mandatory\">Create account</a></li><li id=\"pt-login\"><a href=\"/w/index.php?title=Special:UserLogin&amp;returnto=Chernobyl+%28miniseries%29&amp;returntoquery=direction%3Dnext%26oldid%3D899952822\" title=\"You&#039;re encouraged to log in; however, it&#039;s not mandatory. [o]\" accesskey=\"o\">Log in</a></li>\\t\\t\\t\\t\\t\\t</ul>\\n\\t\\t\\t\\t\\t</div>\\n\\t\\t\\t\\t\\t\\t\\t\\t\\t<div id=\"left-navigation\">\\n\\t\\t\\t\\t\\t\\t\\t\\t\\t\\t<div id=\"p-namespaces\" role=\"navigation\" class=\"vectorTabs\" aria-labelledby=\"p-namespaces-label\">\\n\\t\\t\\t\\t\\t\\t<h3 id=\"p-namespaces-label\">Namespaces</h3>\\n\\t\\t\\t\\t\\t\\t<ul>\\n\\t\\t\\t\\t\\t\\t\\t<li id=\"ca-nstab-main\" class=\"selected\"><span><a href=\"/wiki/Chernobyl_(miniseries)\" title=\"View the content page [c]\" accesskey=\"c\">Article</a></span></li><li id=\"ca-talk\"><span><a href=\"/wiki/Talk:Chernobyl_(miniseries)\" rel=\"discussion\" title=\"Discussion about the content page [t]\" accesskey=\"t\">Talk</a></span></li>\\t\\t\\t\\t\\t\\t</ul>\\n\\t\\t\\t\\t\\t</div>\\n\\t\\t\\t\\t\\t\\t\\t\\t\\t\\t<div id=\"p-variants\" role=\"navigation\" class=\"vectorMenu emptyPortlet\" aria-labelledby=\"p-variants-label\">\\n\\t\\t\\t\\t\\t\\t\\t\\t\\t\\t\\t\\t<input type=\"checkbox\" class=\"vectorMenuCheckbox\" aria-labelledby=\"p-variants-label\" />\\n\\t\\t\\t\\t\\t\\t<h3 id=\"p-variants-label\">\\n\\t\\t\\t\\t\\t\\t\\t<span>Variants</span>\\n\\t\\t\\t\\t\\t\\t</h3>\\n\\t\\t\\t\\t\\t\\t<ul class=\"menu\">\\n\\t\\t\\t\\t\\t\\t\\t\\t\\t\\t\\t\\t\\t</ul>\\n\\t\\t\\t\\t\\t</div>\\n\\t\\t\\t\\t\\t\\t\\t\\t\\t</div>\\n\\t\\t\\t\\t<div id=\"right-navigation\">\\n\\t\\t\\t\\t\\t\\t\\t\\t\\t\\t<div id=\"p-views\" role=\"navigation\" class=\"vectorTabs\" aria-labelledby=\"p-views-label\">\\n\\t\\t\\t\\t\\t\\t<h3 id=\"p-views-label\">Views</h3>\\n\\t\\t\\t\\t\\t\\t<ul>\\n\\t\\t\\t\\t\\t\\t\\t<li id=\"ca-view\" class=\"collapsible selected\"><span><a href=\"/wiki/Chernobyl_(miniseries)\">Read</a></span></li><li id=\"ca-edit\" class=\"collapsible\"><span><a href=\"/w/index.php?title=Chernobyl_(miniseries)&amp;action=edit&amp;oldid=899990733\" title=\"Edit this page [e]\" accesskey=\"e\">Edit</a></span></li><li id=\"ca-history\" class=\"collapsible\"><span><a href=\"/w/index.php?title=Chernobyl_(miniseries)&amp;action=history\" title=\"Past revisions of this page [h]\" accesskey=\"h\">View history</a></span></li>\\t\\t\\t\\t\\t\\t</ul>\\n\\t\\t\\t\\t\\t</div>\\n\\t\\t\\t\\t\\t\\t\\t\\t\\t\\t<div id=\"p-cactions\" role=\"navigation\" class=\"vectorMenu emptyPortlet\" aria-labelledby=\"p-cactions-label\">\\n\\t\\t\\t\\t\\t\\t<input type=\"checkbox\" class=\"vectorMenuCheckbox\" aria-labelledby=\"p-cactions-label\" />\\n\\t\\t\\t\\t\\t\\t<h3 id=\"p-cactions-label\"><span>More</span></h3>\\n\\t\\t\\t\\t\\t\\t<ul class=\"menu\">\\n\\t\\t\\t\\t\\t\\t\\t\\t\\t\\t\\t\\t\\t</ul>\\n\\t\\t\\t\\t\\t</div>\\n\\t\\t\\t\\t\\t\\t\\t\\t\\t\\t<div id=\"p-search\" role=\"search\">\\n\\t\\t\\t\\t\\t\\t<h3>\\n\\t\\t\\t\\t\\t\\t\\t<label for=\"searchInput\">Search</label>\\n\\t\\t\\t\\t\\t\\t</h3>\\n\\t\\t\\t\\t\\t\\t<form action=\"/w/index.php\" id=\"searchform\">\\n\\t\\t\\t\\t\\t\\t\\t<div id=\"simpleSearch\">\\n\\t\\t\\t\\t\\t\\t\\t\\t<input type=\"search\" name=\"search\" placeholder=\"Search Wikipedia\" title=\"Search Wikipedia [f]\" accesskey=\"f\" id=\"searchInput\"/><input type=\"hidden\" value=\"Special:Search\" name=\"title\"/><input type=\"submit\" name=\"fulltext\" value=\"Search\" title=\"Search Wikipedia for this text\" id=\"mw-searchButton\" class=\"searchButton mw-fallbackSearchButton\"/><input type=\"submit\" name=\"go\" value=\"Go\" title=\"Go to a page with this exact name if it exists\" id=\"searchButton\" class=\"searchButton\"/>\\t\\t\\t\\t\\t\\t\\t</div>\\n\\t\\t\\t\\t\\t\\t</form>\\n\\t\\t\\t\\t\\t</div>\\n\\t\\t\\t\\t\\t\\t\\t\\t\\t</div>\\n\\t\\t\\t</div>\\n\\t\\t\\t<div id=\"mw-panel\">\\n\\t\\t\\t\\t<div id=\"p-logo\" role=\"banner\"><a class=\"mw-wiki-logo\" href=\"/wiki/Main_Page\" title=\"Visit the main page\"></a></div>\\n\\t\\t\\t\\t\\t\\t<div class=\"portal\" role=\"navigation\" id=\"p-navigation\" aria-labelledby=\"p-navigation-label\">\\n\\t\\t\\t<h3 id=\"p-navigation-label\">Navigation</h3>\\n\\t\\t\\t<div class=\"body\">\\n\\t\\t\\t\\t\\t\\t\\t\\t<ul>\\n\\t\\t\\t\\t\\t<li id=\"n-mainpage-description\"><a href=\"/wiki/Main_Page\" title=\"Visit the main page [z]\" accesskey=\"z\">Main page</a></li><li id=\"n-contents\"><a href=\"/wiki/Portal:Contents\" title=\"Guides to browsing Wikipedia\">Contents</a></li><li id=\"n-featuredcontent\"><a href=\"/wiki/Portal:Featured_content\" title=\"Featured content – the best of Wikipedia\">Featured content</a></li><li id=\"n-currentevents\"><a href=\"/wiki/Portal:Current_events\" title=\"Find background information on current events\">Current events</a></li><li id=\"n-randompage\"><a href=\"/wiki/Special:Random\" title=\"Load a random article [x]\" accesskey=\"x\">Random article</a></li><li id=\"n-sitesupport\"><a href=\"https://donate.wikimedia.org/wiki/Special:FundraiserRedirector?utm_source=donate&amp;utm_medium=sidebar&amp;utm_campaign=C13_en.wikipedia.org&amp;uselang=en\" title=\"Support us\">Donate to Wikipedia</a></li><li id=\"n-shoplink\"><a href=\"//shop.wikimedia.org\" title=\"Visit the Wikipedia store\">Wikipedia store</a></li>\\t\\t\\t\\t</ul>\\n\\t\\t\\t\\t\\t\\t\\t</div>\\n\\t\\t</div>\\n\\t\\t\\t<div class=\"portal\" role=\"navigation\" id=\"p-interaction\" aria-labelledby=\"p-interaction-label\">\\n\\t\\t\\t<h3 id=\"p-interaction-label\">Interaction</h3>\\n\\t\\t\\t<div class=\"body\">\\n\\t\\t\\t\\t\\t\\t\\t\\t<ul>\\n\\t\\t\\t\\t\\t<li id=\"n-help\"><a href=\"/wiki/Help:Contents\" title=\"Guidance on how to use and edit Wikipedia\">Help</a></li><li id=\"n-aboutsite\"><a href=\"/wiki/Wikipedia:About\" title=\"Find out about Wikipedia\">About Wikipedia</a></li><li id=\"n-portal\"><a href=\"/wiki/Wikipedia:Community_portal\" title=\"About the project, what you can do, where to find things\">Community portal</a></li><li id=\"n-recentchanges\"><a href=\"/wiki/Special:RecentChanges\" title=\"A list of recent changes in the wiki [r]\" accesskey=\"r\">Recent changes</a></li><li id=\"n-contactpage\"><a href=\"//en.wikipedia.org/wiki/Wikipedia:Contact_us\" title=\"How to contact Wikipedia\">Contact page</a></li>\\t\\t\\t\\t</ul>\\n\\t\\t\\t\\t\\t\\t\\t</div>\\n\\t\\t</div>\\n\\t\\t\\t<div class=\"portal\" role=\"navigation\" id=\"p-tb\" aria-labelledby=\"p-tb-label\">\\n\\t\\t\\t<h3 id=\"p-tb-label\">Tools</h3>\\n\\t\\t\\t<div class=\"body\">\\n\\t\\t\\t\\t\\t\\t\\t\\t<ul>\\n\\t\\t\\t\\t\\t<li id=\"t-whatlinkshere\"><a href=\"/wiki/Special:WhatLinksHere/Chernobyl_(miniseries)\" title=\"List of all English Wikipedia pages containing links to this page [j]\" accesskey=\"j\">What links here</a></li><li id=\"t-recentchangeslinked\"><a href=\"/wiki/Special:RecentChangesLinked/Chernobyl_(miniseries)\" rel=\"nofollow\" title=\"Recent changes in pages linked from this page [k]\" accesskey=\"k\">Related changes</a></li><li id=\"t-upload\"><a href=\"/wiki/Wikipedia:File_Upload_Wizard\" title=\"Upload files [u]\" accesskey=\"u\">Upload file</a></li><li id=\"t-specialpages\"><a href=\"/wiki/Special:SpecialPages\" title=\"A list of all special pages [q]\" accesskey=\"q\">Special pages</a></li><li id=\"t-permalink\"><a href=\"/w/index.php?title=Chernobyl_(miniseries)&amp;oldid=899990733\" title=\"Permanent link to this revision of the page\">Permanent link</a></li><li id=\"t-info\"><a href=\"/w/index.php?title=Chernobyl_(miniseries)&amp;action=info\" title=\"More information about this page\">Page information</a></li><li id=\"t-wikibase\"><a href=\"https://www.wikidata.org/wiki/Special:EntityPage/Q48741246\" title=\"Link to connected data repository item [g]\" accesskey=\"g\">Wikidata item</a></li><li id=\"t-cite\"><a href=\"/w/index.php?title=Special:CiteThisPage&amp;page=Chernobyl_%28miniseries%29&amp;id=899990733\" title=\"Information on how to cite this page\">Cite this page</a></li>\\t\\t\\t\\t</ul>\\n\\t\\t\\t\\t\\t\\t\\t</div>\\n\\t\\t</div>\\n\\t\\t\\t<div class=\"portal\" role=\"navigation\" id=\"p-coll-print_export\" aria-labelledby=\"p-coll-print_export-label\">\\n\\t\\t\\t<h3 id=\"p-coll-print_export-label\">Print/export</h3>\\n\\t\\t\\t<div class=\"body\">\\n\\t\\t\\t\\t\\t\\t\\t\\t<ul>\\n\\t\\t\\t\\t\\t<li id=\"coll-create_a_book\"><a href=\"/w/index.php?title=Special:Book&amp;bookcmd=book_creator&amp;referer=Chernobyl+%28miniseries%29\">Create a book</a></li><li id=\"coll-download-as-rl\"><a href=\"/w/index.php?title=Special:ElectronPdf&amp;page=Chernobyl+%28miniseries%29&amp;action=show-download-screen\">Download as PDF</a></li><li id=\"t-print\"><a href=\"/w/index.php?title=Chernobyl_(miniseries)&amp;printable=yes\" title=\"Printable version of this page [p]\" accesskey=\"p\">Printable version</a></li>\\t\\t\\t\\t</ul>\\n\\t\\t\\t\\t\\t\\t\\t</div>\\n\\t\\t</div>\\n\\t\\t\\t<div class=\"portal\" role=\"navigation\" id=\"p-lang\" aria-labelledby=\"p-lang-label\">\\n\\t\\t\\t<h3 id=\"p-lang-label\">Languages</h3>\\n\\t\\t\\t<div class=\"body\">\\n\\t\\t\\t\\t\\t\\t\\t\\t<ul>\\n\\t\\t\\t\\t\\t<li class=\"interlanguage-link interwiki-ar\"><a href=\"https://ar.wikipedia.org/wiki/%D8%AA%D8%B4%D9%8A%D8%B1%D9%86%D9%88%D8%A8%D9%8A%D9%84_(%D9%85%D8%B3%D9%84%D8%B3%D9%84_%D9%82%D8%B5%D9%8A%D8%B1)\" title=\"تشيرنوبيل (مسلسل قصير) – Arabic\" lang=\"ar\" hreflang=\"ar\" class=\"interlanguage-link-target\">العربية</a></li><li class=\"interlanguage-link interwiki-az\"><a href=\"https://az.wikipedia.org/wiki/%C3%87ernob%C4%B1l_(miniserial,_2019)\" title=\"Çernobıl (miniserial, 2019) – Azerbaijani\" lang=\"az\" hreflang=\"az\" class=\"interlanguage-link-target\">Azərbaycanca</a></li><li class=\"interlanguage-link interwiki-be\"><a href=\"https://be.wikipedia.org/wiki/%D0%A7%D0%B0%D1%80%D0%BD%D0%BE%D0%B1%D1%8B%D0%BB%D1%8C_(%D0%BC%D1%96%D0%BD%D1%96-%D1%81%D0%B5%D1%80%D1%8B%D1%8F%D0%BB)\" title=\"Чарнобыль (міні-серыял) – Belarusian\" lang=\"be\" hreflang=\"be\" class=\"interlanguage-link-target\">Беларуская</a></li><li class=\"interlanguage-link interwiki-be-x-old\"><a href=\"https://be-x-old.wikipedia.org/wiki/%D0%A7%D0%B0%D1%80%D0%BD%D0%BE%D0%B1%D1%8B%D0%BB%D1%8C_(%D0%BC%D1%96%D0%BD%D1%96-%D1%81%D1%8D%D1%80%D1%8B%D1%8F%D0%BB)\" title=\"Чарнобыль (міні-сэрыял) – Belarusian (Taraškievica orthography)\" lang=\"be-tarask\" hreflang=\"be-tarask\" class=\"interlanguage-link-target\">Беларуская (тарашкевіца)\\u200e</a></li><li class=\"interlanguage-link interwiki-cs\"><a href=\"https://cs.wikipedia.org/wiki/%C4%8Cernobyl_(seri%C3%A1l)\" title=\"Černobyl (seriál) – Czech\" lang=\"cs\" hreflang=\"cs\" class=\"interlanguage-link-target\">Čeština</a></li><li class=\"interlanguage-link interwiki-de\"><a href=\"https://de.wikipedia.org/wiki/Chernobyl_(Fernsehserie)\" title=\"Chernobyl (Fernsehserie) – German\" lang=\"de\" hreflang=\"de\" class=\"interlanguage-link-target\">Deutsch</a></li><li class=\"interlanguage-link interwiki-es\"><a href=\"https://es.wikipedia.org/wiki/Chernobyl_(miniserie)\" title=\"Chernobyl (miniserie) – Spanish\" lang=\"es\" hreflang=\"es\" class=\"interlanguage-link-target\">Español</a></li><li class=\"interlanguage-link interwiki-eu\"><a href=\"https://eu.wikipedia.org/wiki/Chernobyl_(telesaila)\" title=\"Chernobyl (telesaila) – Basque\" lang=\"eu\" hreflang=\"eu\" class=\"interlanguage-link-target\">Euskara</a></li><li class=\"interlanguage-link interwiki-fa\"><a href=\"https://fa.wikipedia.org/wiki/%DA%86%D8%B1%D9%86%D9%88%D8%A8%DB%8C%D9%84_(%D9%85%DB%8C%D9%86%DB%8C%E2%80%8C%D8%B3%D8%B1%DB%8C%D8%A7%D9%84)\" title=\"چرنوبیل (مینی\\u200cسریال) – Persian\" lang=\"fa\" hreflang=\"fa\" class=\"interlanguage-link-target\">فارسی</a></li><li class=\"interlanguage-link interwiki-fr\"><a href=\"https://fr.wikipedia.org/wiki/Chernobyl_(mini-s%C3%A9rie)\" title=\"Chernobyl (mini-série) – French\" lang=\"fr\" hreflang=\"fr\" class=\"interlanguage-link-target\">Français</a></li><li class=\"interlanguage-link interwiki-ko\"><a href=\"https://ko.wikipedia.org/wiki/%EC%B2%B4%EB%A5%B4%EB%85%B8%EB%B9%8C_(%EB%93%9C%EB%9D%BC%EB%A7%88)\" title=\"체르노빌 (드라마) – Korean\" lang=\"ko\" hreflang=\"ko\" class=\"interlanguage-link-target\">한국어</a></li><li class=\"interlanguage-link interwiki-id\"><a href=\"https://id.wikipedia.org/wiki/Chernobyl_(miniseri)\" title=\"Chernobyl (miniseri) – Indonesian\" lang=\"id\" hreflang=\"id\" class=\"interlanguage-link-target\">Bahasa Indonesia</a></li><li class=\"interlanguage-link interwiki-it\"><a href=\"https://it.wikipedia.org/wiki/Chernobyl_(miniserie_televisiva)\" title=\"Chernobyl (miniserie televisiva) – Italian\" lang=\"it\" hreflang=\"it\" class=\"interlanguage-link-target\">Italiano</a></li><li class=\"interlanguage-link interwiki-he\"><a href=\"https://he.wikipedia.org/wiki/%D7%A6%27%D7%A8%D7%A0%D7%95%D7%91%D7%99%D7%9C_(%D7%9E%D7%99%D7%A0%D7%99_%D7%A1%D7%93%D7%A8%D7%94)\" title=\"צ&#039;רנוביל (מיני סדרה) – Hebrew\" lang=\"he\" hreflang=\"he\" class=\"interlanguage-link-target\">עברית</a></li><li class=\"interlanguage-link interwiki-ka\"><a href=\"https://ka.wikipedia.org/wiki/%E1%83%A9%E1%83%94%E1%83%A0%E1%83%9C%E1%83%9D%E1%83%91%E1%83%98%E1%83%9A%E1%83%98_(%E1%83%9B%E1%83%98%E1%83%9C%E1%83%98%E1%83%A1%E1%83%94%E1%83%A0%E1%83%98%E1%83%90%E1%83%9A%E1%83%98)\" title=\"ჩერნობილი (მინისერიალი) – Georgian\" lang=\"ka\" hreflang=\"ka\" class=\"interlanguage-link-target\">ქართული</a></li><li class=\"interlanguage-link interwiki-lv\"><a href=\"https://lv.wikipedia.org/wiki/%C4%8Cernobi%C4%BCa_(miniseri%C4%81ls)\" title=\"Černobiļa (miniseriāls) – Latvian\" lang=\"lv\" hreflang=\"lv\" class=\"interlanguage-link-target\">Latviešu</a></li><li class=\"interlanguage-link interwiki-hu\"><a href=\"https://hu.wikipedia.org/wiki/Csernobil_(minisorozat)\" title=\"Csernobil (minisorozat) – Hungarian\" lang=\"hu\" hreflang=\"hu\" class=\"interlanguage-link-target\">Magyar</a></li><li class=\"interlanguage-link interwiki-nl\"><a href=\"https://nl.wikipedia.org/wiki/Chernobyl_(televisieserie)\" title=\"Chernobyl (televisieserie) – Dutch\" lang=\"nl\" hreflang=\"nl\" class=\"interlanguage-link-target\">Nederlands</a></li><li class=\"interlanguage-link interwiki-no\"><a href=\"https://no.wikipedia.org/wiki/Chernobyl\" title=\"Chernobyl – Norwegian\" lang=\"no\" hreflang=\"no\" class=\"interlanguage-link-target\">Norsk</a></li><li class=\"interlanguage-link interwiki-pl\"><a href=\"https://pl.wikipedia.org/wiki/Czarnobyl_(miniserial)\" title=\"Czarnobyl (miniserial) – Polish\" lang=\"pl\" hreflang=\"pl\" class=\"interlanguage-link-target\">Polski</a></li><li class=\"interlanguage-link interwiki-pt\"><a href=\"https://pt.wikipedia.org/wiki/Chernobyl_(miniss%C3%A9rie)\" title=\"Chernobyl (minissérie) – Portuguese\" lang=\"pt\" hreflang=\"pt\" class=\"interlanguage-link-target\">Português</a></li><li class=\"interlanguage-link interwiki-ro\"><a href=\"https://ro.wikipedia.org/wiki/Cernob%C3%AEl_(serial)\" title=\"Cernobîl (serial) – Romanian\" lang=\"ro\" hreflang=\"ro\" class=\"interlanguage-link-target\">Română</a></li><li class=\"interlanguage-link interwiki-ru\"><a href=\"https://ru.wikipedia.org/wiki/%D0%A7%D0%B5%D1%80%D0%BD%D0%BE%D0%B1%D1%8B%D0%BB%D1%8C_(%D0%BC%D0%B8%D0%BD%D0%B8-%D1%81%D0%B5%D1%80%D0%B8%D0%B0%D0%BB)\" title=\"Чернобыль (мини-сериал) – Russian\" lang=\"ru\" hreflang=\"ru\" class=\"interlanguage-link-target\">Русский</a></li><li class=\"interlanguage-link interwiki-sl\"><a href=\"https://sl.wikipedia.org/wiki/%C4%8Cernobil_(miniserija)\" title=\"Černobil (miniserija) – Slovenian\" lang=\"sl\" hreflang=\"sl\" class=\"interlanguage-link-target\">Slovenščina</a></li><li class=\"interlanguage-link interwiki-sr\"><a href=\"https://sr.wikipedia.org/wiki/%D0%A7%D0%B5%D1%80%D0%BD%D0%BE%D0%B1%D0%B8%D1%99_(%D0%A2%D0%92_%D1%81%D0%B5%D1%80%D0%B8%D1%98%D0%B0)\" title=\"Чернобиљ (ТВ серија) – Serbian\" lang=\"sr\" hreflang=\"sr\" class=\"interlanguage-link-target\">Српски / srpski</a></li><li class=\"interlanguage-link interwiki-fi\"><a href=\"https://fi.wikipedia.org/wiki/Chernobyl_(televisiosarja)\" title=\"Chernobyl (televisiosarja) – Finnish\" lang=\"fi\" hreflang=\"fi\" class=\"interlanguage-link-target\">Suomi</a></li><li class=\"interlanguage-link interwiki-sv\"><a href=\"https://sv.wikipedia.org/wiki/Chernobyl_(miniserie)\" title=\"Chernobyl (miniserie) – Swedish\" lang=\"sv\" hreflang=\"sv\" class=\"interlanguage-link-target\">Svenska</a></li><li class=\"interlanguage-link interwiki-tr\"><a href=\"https://tr.wikipedia.org/wiki/Chernobyl_(mini_dizi)\" title=\"Chernobyl (mini dizi) – Turkish\" lang=\"tr\" hreflang=\"tr\" class=\"interlanguage-link-target\">Türkçe</a></li><li class=\"interlanguage-link interwiki-uk\"><a href=\"https://uk.wikipedia.org/wiki/%D0%A7%D0%BE%D1%80%D0%BD%D0%BE%D0%B1%D0%B8%D0%BB%D1%8C_(%D0%BC%D1%96%D0%BD%D1%96%D1%81%D0%B5%D1%80%D1%96%D0%B0%D0%BB)\" title=\"Чорнобиль (мінісеріал) – Ukrainian\" lang=\"uk\" hreflang=\"uk\" class=\"interlanguage-link-target\">Українська</a></li><li class=\"interlanguage-link interwiki-zh\"><a href=\"https://zh.wikipedia.org/wiki/%E5%88%87%E5%B0%94%E8%AF%BA%E8%B4%9D%E5%88%A9_(%E8%BF%B7%E4%BD%A0%E5%89%A7)\" title=\"切尔诺贝利 (迷你剧) – Chinese\" lang=\"zh\" hreflang=\"zh\" class=\"interlanguage-link-target\">中文</a></li>\\t\\t\\t\\t</ul>\\n\\t\\t\\t\\t<div class=\"after-portlet after-portlet-lang\"><span class=\"wb-langlinks-edit wb-langlinks-link\"><a href=\"https://www.wikidata.org/wiki/Special:EntityPage/Q48741246#sitelinks-wikipedia\" title=\"Edit interlanguage links\" class=\"wbc-editpage\">Edit links</a></span></div>\\t\\t\\t</div>\\n\\t\\t</div>\\n\\t\\t\\t\\t</div>\\n\\t\\t</div>\\n\\t\\t\\t\\t<div id=\"footer\" role=\"contentinfo\">\\n\\t\\t\\t\\t\\t\\t<ul id=\"footer-info\">\\n\\t\\t\\t\\t\\t\\t\\t\\t<li id=\"footer-info-copyright\"><span class=\"nowraplinks\">This version of the page has been <a href=\"https://en.wikipedia.org/wiki/Wikipedia:Page_history\" title=\"Wikipedia:Page history\">revised</a>. Besides normal editing, the reason for revision may have been that this version contains factual inaccuracies, vandalism, or material not compatible with the <a href=\"https://en.wikipedia.org/wiki/Wikipedia:Text_of_Creative_Commons_Attribution-ShareAlike_3.0_Unported_License\">Creative Commons Attribution-ShareAlike License</a>.</span></li>\\n\\t\\t\\t\\t\\t\\t\\t</ul>\\n\\t\\t\\t\\t\\t\\t<ul id=\"footer-places\">\\n\\t\\t\\t\\t\\t\\t\\t\\t<li id=\"footer-places-privacy\"><a href=\"https://foundation.wikimedia.org/wiki/Privacy_policy\" class=\"extiw\" title=\"wmf:Privacy policy\">Privacy policy</a></li>\\n\\t\\t\\t\\t\\t\\t\\t\\t<li id=\"footer-places-about\"><a href=\"/wiki/Wikipedia:About\" title=\"Wikipedia:About\">About Wikipedia</a></li>\\n\\t\\t\\t\\t\\t\\t\\t\\t<li id=\"footer-places-disclaimer\"><a href=\"/wiki/Wikipedia:General_disclaimer\" title=\"Wikipedia:General disclaimer\">Disclaimers</a></li>\\n\\t\\t\\t\\t\\t\\t\\t\\t<li id=\"footer-places-contact\"><a href=\"//en.wikipedia.org/wiki/Wikipedia:Contact_us\">Contact Wikipedia</a></li>\\n\\t\\t\\t\\t\\t\\t\\t\\t<li id=\"footer-places-developers\"><a href=\"https://www.mediawiki.org/wiki/Special:MyLanguage/How_to_contribute\">Developers</a></li>\\n\\t\\t\\t\\t\\t\\t\\t\\t<li id=\"footer-places-cookiestatement\"><a href=\"https://foundation.wikimedia.org/wiki/Cookie_statement\">Cookie statement</a></li>\\n\\t\\t\\t\\t\\t\\t\\t\\t<li id=\"footer-places-mobileview\"><a href=\"//en.m.wikipedia.org/w/index.php?title=Chernobyl_(miniseries)&amp;direction=next&amp;oldid=899952822&amp;mobileaction=toggle_view_mobile\" class=\"noprint stopMobileRedirectToggle\">Mobile view</a></li>\\n\\t\\t\\t\\t\\t\\t\\t</ul>\\n\\t\\t\\t\\t\\t\\t\\t\\t\\t\\t<ul id=\"footer-icons\" class=\"noprint\">\\n\\t\\t\\t\\t\\t\\t\\t\\t\\t\\t<li id=\"footer-copyrightico\">\\n\\t\\t\\t\\t\\t\\t<a href=\"https://wikimediafoundation.org/\"><img src=\"/static/images/wikimedia-button.png\" srcset=\"/static/images/wikimedia-button-1.5x.png 1.5x, /static/images/wikimedia-button-2x.png 2x\" width=\"88\" height=\"31\" alt=\"Wikimedia Foundation\"/></a>\\t\\t\\t\\t\\t</li>\\n\\t\\t\\t\\t\\t\\t\\t\\t\\t\\t<li id=\"footer-poweredbyico\">\\n\\t\\t\\t\\t\\t\\t<a href=\"https://www.mediawiki.org/\"><img src=\"/static/images/poweredby_mediawiki_88x31.png\" alt=\"Powered by MediaWiki\" srcset=\"/static/images/poweredby_mediawiki_132x47.png 1.5x, /static/images/poweredby_mediawiki_176x62.png 2x\" width=\"88\" height=\"31\"/></a>\\t\\t\\t\\t\\t</li>\\n\\t\\t\\t\\t\\t\\t\\t\\t\\t</ul>\\n\\t\\t\\t\\t\\t\\t<div style=\"clear: both;\"></div>\\n\\t\\t</div>\\n\\t\\t\\n\\n<script>(RLQ=window.RLQ||[]).push(function(){mw.config.set({\"wgPageParseReport\":{\"limitreport\":{\"cputime\":\"1.072\",\"walltime\":\"1.313\",\"ppvisitednodes\":{\"value\":5831,\"limit\":1000000},\"ppgeneratednodes\":{\"value\":0,\"limit\":1500000},\"postexpandincludesize\":{\"value\":246421,\"limit\":2097152},\"templateargumentsize\":{\"value\":7152,\"limit\":2097152},\"expansiondepth\":{\"value\":18,\"limit\":40},\"expensivefunctioncount\":{\"value\":9,\"limit\":500},\"unstrip-depth\":{\"value\":1,\"limit\":20},\"unstrip-size\":{\"value\":86112,\"limit\":5000000},\"entityaccesscount\":{\"value\":1,\"limit\":400},\"timingprofile\":[\"100.00% 1071.489      1 -total\",\" 28.31%  303.331      2 Template:Reflist\",\" 26.63%  285.385      1 Template:Episode_table\",\" 24.78%  265.468      5 Template:Episode_list\",\" 18.68%  200.189     18 Template:Cite_web\",\" 13.11%  140.456      1 Template:Infobox_television\",\" 11.00%  117.881      1 Template:Infobox\",\"  6.59%   70.633      1 Template:Television_episode_ratings\",\"  5.85%   62.652      1 Template:Official\",\"  5.15%   55.199      8 Template:Cite_news\"]},\"scribunto\":{\"limitreport-timeusage\":{\"value\":\"0.537\",\"limit\":\"10.000\"},\"limitreport-memusage\":{\"value\":19305520,\"limit\":52428800}},\"cachereport\":{\"origin\":\"mw1264\",\"timestamp\":\"20190606163558\",\"ttl\":2592000,\"transientcontent\":false}}});});</script>\\n<script type=\"application/ld+json\">{\"@context\":\"https:\\\\/\\\\/schema.org\",\"@type\":\"Article\",\"name\":\"Chernobyl (miniseries)\",\"url\":\"https:\\\\/\\\\/en.wikipedia.org\\\\/wiki\\\\/Chernobyl_(miniseries)\",\"sameAs\":\"http:\\\\/\\\\/www.wikidata.org\\\\/entity\\\\/Q48741246\",\"mainEntity\":\"http:\\\\/\\\\/www.wikidata.org\\\\/entity\\\\/Q48741246\",\"author\":{\"@type\":\"Organization\",\"name\":\"Contributors to Wikimedia projects\"},\"publisher\":{\"@type\":\"Organization\",\"name\":\"Wikimedia Foundation, Inc.\",\"logo\":{\"@type\":\"ImageObject\",\"url\":\"https:\\\\/\\\\/www.wikimedia.org\\\\/static\\\\/images\\\\/wmf-hor-googpub.png\"}},\"datePublished\":\"2017-11-24T13:01:20Z\",\"dateModified\":\"2019-06-06T16:29:24Z\",\"image\":\"https:\\\\/\\\\/upload.wikimedia.org\\\\/wikipedia\\\\/en\\\\/a\\\\/a7\\\\/Chernobyl_2019_Miniseries.jpg\",\"headline\":\"2019 historical drama miniseries about the Chernobyl disaster.\"}</script>\\n<script>(RLQ=window.RLQ||[]).push(function(){mw.config.set({\"wgBackendResponseTime\":1514,\"wgHostname\":\"mw1264\"});});</script>\\n</body>\\n</html>\\n'"
      ]
     },
     "execution_count": 45,
     "metadata": {},
     "output_type": "execute_result"
    }
   ],
   "source": [
    "r=requests.get(link)\n",
    "\n",
    "r.status_code\n",
    "\n",
    "r.text"
   ]
  },
  {
   "cell_type": "markdown",
   "metadata": {},
   "source": [
    "Želena rešitev:\n",
    "\n",
    "```\n",
    "200\n",
    "\n",
    "<!DOCTYPE html>\n",
    "<html class=\"client-nojs\" lang=\"en\" dir=\"ltr\">\n",
    "<head>\n",
    "<meta charset=\"UTF-8\"/>\n",
    "<title>Chernobyl (miniseries) - Wikipedia</title>\n",
    "<script>document.documentElement.className=document.documentElement.className.replace(/(^|\\s)client-nojs(\\s|$)/,\"$1client-js$2\");RLCONF={\"wgCanonicalNamespace\":\"\",\"wgCanonicalSpecialPageName\":!1,\"wgNamespaceNumber\":0,\"wgPageName\":\"Chernobyl_(miniseries)\",\"wgTitle\":\"Chernobyl (miniseries)\",\"wgCurRevisionId\":899952822,\"wgRevisionId\":899952822,\"wgArticleId\":55876266,\"wgIsArticle\":!0,\"wgIsRedirect\":!1,\"wgAction\":\"view\",\"wgUserName\":null,\"wgUserGroups\":[\"*\"],\"wgCategories\":[\"CS1 Lithuanian-language sources (lt)\",\n",
    "...\n",
    "```"
   ]
  },
  {
   "cell_type": "markdown",
   "metadata": {},
   "source": [
    "##### 6.2) Izpis naslovov `2 pts`\n",
    "\n",
    "Izpišite naslove prvih štirih epizod."
   ]
  },
  {
   "cell_type": "code",
   "execution_count": 46,
   "metadata": {},
   "outputs": [
    {
     "name": "stdout",
     "output_type": "stream",
     "text": [
      "\"1:23:45\"\n",
      "\"Please Remain Calm\"\n",
      "\"Open Wide, O Earth\"\n",
      "\"The Happiness of All Mankind\"\n"
     ]
    }
   ],
   "source": [
    "# Odgovor\n",
    "html_content = r.text\n",
    "html_soup = BeautifulSoup(html_content, 'html.parser')\n",
    "all_h1=html_soup.find_all('td',limit=4,class_='summary')\n",
    "#all_h1\n",
    "for a in all_h1:\n",
    "        print(a.text)\n",
    "\n",
    "\n"
   ]
  },
  {
   "cell_type": "markdown",
   "metadata": {},
   "source": [
    "Za pravilno rešitev mora celica vrniti:\n",
    "```\n",
    "\"1:23:45\"\n",
    "\"Please Remain Calm\"\n",
    "\"Open Wide, O Earth\"\n",
    "\"The Happiness of All Mankind\"\n",
    "```"
   ]
  },
  {
   "cell_type": "markdown",
   "metadata": {},
   "source": [
    "##### 6.3) Imena igralcev `2 pts`"
   ]
  },
  {
   "cell_type": "markdown",
   "metadata": {},
   "source": [
    "Želimo izvedeti ime in priimek prvih treh igralcev napisanih na wikipedia povezavi (več na spodnji sliki, zanimajo nas igralci v rdečem okvirčku).\n",
    "\n",
    "Dodatno želimo za vsakega izvedeti njegov datum rojstva (datum rojstva najdemo na strani igralca)."
   ]
  },
  {
   "cell_type": "markdown",
   "metadata": {},
   "source": [
    "<img width=300 src=\"data/chenobyl.PNG\">"
   ]
  },
  {
   "cell_type": "code",
   "execution_count": 47,
   "metadata": {},
   "outputs": [
    {
     "name": "stdout",
     "output_type": "stream",
     "text": [
      "Jared Harris, rojen 1961-08-24\n",
      "Stellan Skarsgård, rojen 1951-06-13\n",
      "Paul Ritter, rojen 1966-03-05\n"
     ]
    }
   ],
   "source": [
    "# Odgovor\n",
    "\n",
    "\n",
    "all_h2=html_soup.find('div',class_='plainlist')\n",
    "href=[]\n",
    "for a in all_h2.find_all('a'):\n",
    "    href.append(a['href'])\n",
    "\n",
    "text=all_h2.text.split('\\n')\n",
    "num=0\n",
    "for i in text:\n",
    "    if num<4 and num>0:\n",
    "        re=requests.get(r'https://en.wikipedia.org'+href[num-1])\n",
    "        re\n",
    "        html_content2 = re.text\n",
    "        html_soup2 = BeautifulSoup(html_content2, 'html.parser')\n",
    "        all_h2=html_soup2.find('table',class_='infobox biography vcard').find('span',class_='bday')\n",
    "        all_h2.text\n",
    "        print(i+', rojen '+all_h2.text)\n",
    "        #print(all_h2.text)\n",
    "    num=num+1\n"
   ]
  },
  {
   "cell_type": "markdown",
   "metadata": {},
   "source": [
    "Za pravilno rešitev mora celica vrniti:\n",
    "```\n",
    "Jared Harris, rojen 1961-08-24\n",
    "Stellan Skarsgård, rojen 1951-06-13\n",
    "Paul Ritter, rojen 1966-03-05\n",
    "```"
   ]
  },
  {
   "cell_type": "markdown",
   "metadata": {},
   "source": [
    "## Oddaja"
   ]
  },
  {
   "cell_type": "markdown",
   "metadata": {},
   "source": [
    "Rešeni notebook pošljite na naslednja e-mail naslova:\n",
    "- leon.stefanic@ltfe.org \n",
    "- gregor.balkovec@ltfe.org\n",
    "\n",
    "**POMEMBNO!** Pred pošiljanjem notebook preimenujte na naslednji način:\n",
    "\n",
    "`IZPIT_TEORIJA_IME_PRIMEK`"
   ]
  }
 ],
 "metadata": {
  "kernelspec": {
   "display_name": "Python 3",
   "language": "python",
   "name": "python3"
  },
  "language_info": {
   "codemirror_mode": {
    "name": "ipython",
    "version": 3
   },
   "file_extension": ".py",
   "mimetype": "text/x-python",
   "name": "python",
   "nbconvert_exporter": "python",
   "pygments_lexer": "ipython3",
   "version": "3.7.3"
  }
 },
 "nbformat": 4,
 "nbformat_minor": 2
}
